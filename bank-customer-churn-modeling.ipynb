{
 "cells": [
  {
   "cell_type": "markdown",
   "metadata": {},
   "source": [
    "# Проект \"Отток клиентов\"\n",
    "\n",
    "Выполнил студент ds_plus_15 Черников Дмитрий Николаевич"
   ]
  },
  {
   "cell_type": "markdown",
   "metadata": {
    "toc": true
   },
   "source": [
    "<h1>Содержание<span class=\"tocSkip\"></span></h1>\n",
    "<div class=\"toc\"><ul class=\"toc-item\"><li><span><a href=\"#Подготовка-данных\" data-toc-modified-id=\"Подготовка-данных-1\"><span class=\"toc-item-num\">1&nbsp;&nbsp;</span>Подготовка данных</a></span></li><li><span><a href=\"#Исследование-задачи\" data-toc-modified-id=\"Исследование-задачи-2\"><span class=\"toc-item-num\">2&nbsp;&nbsp;</span>Исследование задачи</a></span></li><li><span><a href=\"#Борьба-с-дисбалансом\" data-toc-modified-id=\"Борьба-с-дисбалансом-3\"><span class=\"toc-item-num\">3&nbsp;&nbsp;</span>Борьба с дисбалансом</a></span></li><li><span><a href=\"#Тестирование-модели\" data-toc-modified-id=\"Тестирование-модели-4\"><span class=\"toc-item-num\">4&nbsp;&nbsp;</span>Тестирование модели</a></span></li><li><span><a href=\"#Вывод\" data-toc-modified-id=\"Вывод-5\"><span class=\"toc-item-num\">5&nbsp;&nbsp;</span>Вывод</a></span></li><li><span><a href=\"#Чек-лист-готовности-проекта\" data-toc-modified-id=\"Чек-лист-готовности-проекта-6\"><span class=\"toc-item-num\">6&nbsp;&nbsp;</span>Чек-лист готовности проекта</a></span></li></ul></div>"
   ]
  },
  {
   "cell_type": "markdown",
   "metadata": {},
   "source": [
    "# Отток клиентов"
   ]
  },
  {
   "cell_type": "markdown",
   "metadata": {},
   "source": [
    "Из «Бета-Банка» стали уходить клиенты. Каждый месяц. Немного, но заметно. Банковские маркетологи посчитали: сохранять текущих клиентов дешевле, чем привлекать новых.\n",
    "\n",
    "Нужно спрогнозировать, уйдёт клиент из банка в ближайшее время или нет. Вам предоставлены исторические данные о поведении клиентов и расторжении договоров с банком. \n",
    "\n",
    "Постройте модель с предельно большим значением *F1*-меры. Чтобы сдать проект успешно, нужно довести метрику до 0.59. Проверьте *F1*-меру на тестовой выборке самостоятельно.\n",
    "\n",
    "Дополнительно измеряйте *AUC-ROC*, сравнивайте её значение с *F1*-мерой.\n",
    "\n",
    "Источник данных: [https://www.kaggle.com/barelydedicated/bank-customer-churn-modeling](https://www.kaggle.com/barelydedicated/bank-customer-churn-modeling)"
   ]
  },
  {
   "cell_type": "markdown",
   "metadata": {},
   "source": [
    "**Признаки :**\n",
    "\n",
    "**RowNumber** — индекс строки в данных\n",
    "\n",
    "**CustomerId** — уникальный идентификатор клиента\n",
    "\n",
    "**Surname** — фамилия\n",
    "\n",
    "**CreditScore** — кредитный рейтинг\n",
    "\n",
    "**Geography** — страна проживания\n",
    "\n",
    "**Gender** — пол\n",
    "\n",
    "**Age** — возраст\n",
    "\n",
    "**Tenure** — сколько лет человек является клиентом банка\n",
    "\n",
    "**Balance** — баланс на счёте\n",
    "\n",
    "**NumOfProducts** — количество продуктов банка, используемых клиентом\n",
    "\n",
    "**HasCrCard** — наличие кредитной карты\n",
    "\n",
    "**IsActiveMember** — активность клиента\n",
    "\n",
    "**EstimatedSalary** — предполагаемая зарплата\n",
    "\n",
    "\n",
    "**Целевой признак :**\n",
    "\n",
    "**Exited** — факт ухода клиента"
   ]
  },
  {
   "cell_type": "code",
   "execution_count": 1,
   "metadata": {},
   "outputs": [],
   "source": [
    "#!pip install pandas-profiling[notebook]"
   ]
  },
  {
   "cell_type": "code",
   "execution_count": 2,
   "metadata": {},
   "outputs": [],
   "source": [
    "import pandas as pd\n",
    "import numpy as np\n",
    "\n",
    "#import pandas_profiling\n",
    "\n",
    "from sklearn.metrics import f1_score\n",
    "from sklearn.metrics import auc\n",
    "from sklearn.metrics import roc_curve\n",
    "from sklearn.metrics import accuracy_score\n",
    "from sklearn.metrics import roc_auc_score\n",
    "import matplotlib.pyplot as plt\n",
    "from sklearn.linear_model import LogisticRegression\n",
    "from sklearn.ensemble import RandomForestClassifier\n",
    "from sklearn.tree import DecisionTreeClassifier\n",
    "from sklearn.model_selection import train_test_split\n",
    "from tqdm import tqdm\n",
    "from sklearn.utils import shuffle\n",
    "from sklearn.preprocessing import StandardScaler\n",
    "from sklearn.model_selection import GridSearchCV\n",
    "\n",
    "\n",
    "import warnings\n",
    "warnings.filterwarnings('ignore')\n",
    "warnings.simplefilter('ignore')\n",
    "\n",
    "\n",
    "#from pandas_profiling import ProfileReport"
   ]
  },
  {
   "cell_type": "markdown",
   "metadata": {},
   "source": [
    "## Подготовка данных"
   ]
  },
  {
   "cell_type": "code",
   "execution_count": 3,
   "metadata": {},
   "outputs": [],
   "source": [
    "df = pd.read_csv(\"Churn.csv\")\n"
   ]
  },
  {
   "cell_type": "code",
   "execution_count": 4,
   "metadata": {},
   "outputs": [],
   "source": [
    "# Первые три признака нам не нужны для моделирования, удалим их\n",
    "\n",
    "df = df.drop([\"RowNumber\",\"CustomerId\",\"Surname\"], axis = 1)"
   ]
  },
  {
   "cell_type": "code",
   "execution_count": 5,
   "metadata": {
    "scrolled": true
   },
   "outputs": [
    {
     "data": {
      "text/html": [
       "<div>\n",
       "<style scoped>\n",
       "    .dataframe tbody tr th:only-of-type {\n",
       "        vertical-align: middle;\n",
       "    }\n",
       "\n",
       "    .dataframe tbody tr th {\n",
       "        vertical-align: top;\n",
       "    }\n",
       "\n",
       "    .dataframe thead th {\n",
       "        text-align: right;\n",
       "    }\n",
       "</style>\n",
       "<table border=\"1\" class=\"dataframe\">\n",
       "  <thead>\n",
       "    <tr style=\"text-align: right;\">\n",
       "      <th></th>\n",
       "      <th>CreditScore</th>\n",
       "      <th>Geography</th>\n",
       "      <th>Gender</th>\n",
       "      <th>Age</th>\n",
       "      <th>Tenure</th>\n",
       "      <th>Balance</th>\n",
       "      <th>NumOfProducts</th>\n",
       "      <th>HasCrCard</th>\n",
       "      <th>IsActiveMember</th>\n",
       "      <th>EstimatedSalary</th>\n",
       "      <th>Exited</th>\n",
       "    </tr>\n",
       "  </thead>\n",
       "  <tbody>\n",
       "    <tr>\n",
       "      <th>0</th>\n",
       "      <td>619</td>\n",
       "      <td>France</td>\n",
       "      <td>Female</td>\n",
       "      <td>42</td>\n",
       "      <td>2.0</td>\n",
       "      <td>0.00</td>\n",
       "      <td>1</td>\n",
       "      <td>1</td>\n",
       "      <td>1</td>\n",
       "      <td>101348.88</td>\n",
       "      <td>1</td>\n",
       "    </tr>\n",
       "    <tr>\n",
       "      <th>1</th>\n",
       "      <td>608</td>\n",
       "      <td>Spain</td>\n",
       "      <td>Female</td>\n",
       "      <td>41</td>\n",
       "      <td>1.0</td>\n",
       "      <td>83807.86</td>\n",
       "      <td>1</td>\n",
       "      <td>0</td>\n",
       "      <td>1</td>\n",
       "      <td>112542.58</td>\n",
       "      <td>0</td>\n",
       "    </tr>\n",
       "    <tr>\n",
       "      <th>2</th>\n",
       "      <td>502</td>\n",
       "      <td>France</td>\n",
       "      <td>Female</td>\n",
       "      <td>42</td>\n",
       "      <td>8.0</td>\n",
       "      <td>159660.80</td>\n",
       "      <td>3</td>\n",
       "      <td>1</td>\n",
       "      <td>0</td>\n",
       "      <td>113931.57</td>\n",
       "      <td>1</td>\n",
       "    </tr>\n",
       "    <tr>\n",
       "      <th>3</th>\n",
       "      <td>699</td>\n",
       "      <td>France</td>\n",
       "      <td>Female</td>\n",
       "      <td>39</td>\n",
       "      <td>1.0</td>\n",
       "      <td>0.00</td>\n",
       "      <td>2</td>\n",
       "      <td>0</td>\n",
       "      <td>0</td>\n",
       "      <td>93826.63</td>\n",
       "      <td>0</td>\n",
       "    </tr>\n",
       "    <tr>\n",
       "      <th>4</th>\n",
       "      <td>850</td>\n",
       "      <td>Spain</td>\n",
       "      <td>Female</td>\n",
       "      <td>43</td>\n",
       "      <td>2.0</td>\n",
       "      <td>125510.82</td>\n",
       "      <td>1</td>\n",
       "      <td>1</td>\n",
       "      <td>1</td>\n",
       "      <td>79084.10</td>\n",
       "      <td>0</td>\n",
       "    </tr>\n",
       "  </tbody>\n",
       "</table>\n",
       "</div>"
      ],
      "text/plain": [
       "   CreditScore Geography  Gender  Age  Tenure    Balance  NumOfProducts  \\\n",
       "0          619    France  Female   42     2.0       0.00              1   \n",
       "1          608     Spain  Female   41     1.0   83807.86              1   \n",
       "2          502    France  Female   42     8.0  159660.80              3   \n",
       "3          699    France  Female   39     1.0       0.00              2   \n",
       "4          850     Spain  Female   43     2.0  125510.82              1   \n",
       "\n",
       "   HasCrCard  IsActiveMember  EstimatedSalary  Exited  \n",
       "0          1               1        101348.88       1  \n",
       "1          0               1        112542.58       0  \n",
       "2          1               0        113931.57       1  \n",
       "3          0               0         93826.63       0  \n",
       "4          1               1         79084.10       0  "
      ]
     },
     "execution_count": 5,
     "metadata": {},
     "output_type": "execute_result"
    }
   ],
   "source": [
    "df.head()"
   ]
  },
  {
   "cell_type": "code",
   "execution_count": 6,
   "metadata": {},
   "outputs": [
    {
     "data": {
      "text/html": [
       "<div>\n",
       "<style scoped>\n",
       "    .dataframe tbody tr th:only-of-type {\n",
       "        vertical-align: middle;\n",
       "    }\n",
       "\n",
       "    .dataframe tbody tr th {\n",
       "        vertical-align: top;\n",
       "    }\n",
       "\n",
       "    .dataframe thead th {\n",
       "        text-align: right;\n",
       "    }\n",
       "</style>\n",
       "<table border=\"1\" class=\"dataframe\">\n",
       "  <thead>\n",
       "    <tr style=\"text-align: right;\">\n",
       "      <th></th>\n",
       "      <th>CreditScore</th>\n",
       "      <th>Age</th>\n",
       "      <th>Tenure</th>\n",
       "      <th>Balance</th>\n",
       "      <th>NumOfProducts</th>\n",
       "      <th>HasCrCard</th>\n",
       "      <th>IsActiveMember</th>\n",
       "      <th>EstimatedSalary</th>\n",
       "      <th>Exited</th>\n",
       "    </tr>\n",
       "  </thead>\n",
       "  <tbody>\n",
       "    <tr>\n",
       "      <th>count</th>\n",
       "      <td>10000.000000</td>\n",
       "      <td>10000.000000</td>\n",
       "      <td>9091.000000</td>\n",
       "      <td>10000.000000</td>\n",
       "      <td>10000.000000</td>\n",
       "      <td>10000.00000</td>\n",
       "      <td>10000.000000</td>\n",
       "      <td>10000.000000</td>\n",
       "      <td>10000.000000</td>\n",
       "    </tr>\n",
       "    <tr>\n",
       "      <th>mean</th>\n",
       "      <td>650.528800</td>\n",
       "      <td>38.921800</td>\n",
       "      <td>4.997690</td>\n",
       "      <td>76485.889288</td>\n",
       "      <td>1.530200</td>\n",
       "      <td>0.70550</td>\n",
       "      <td>0.515100</td>\n",
       "      <td>100090.239881</td>\n",
       "      <td>0.203700</td>\n",
       "    </tr>\n",
       "    <tr>\n",
       "      <th>std</th>\n",
       "      <td>96.653299</td>\n",
       "      <td>10.487806</td>\n",
       "      <td>2.894723</td>\n",
       "      <td>62397.405202</td>\n",
       "      <td>0.581654</td>\n",
       "      <td>0.45584</td>\n",
       "      <td>0.499797</td>\n",
       "      <td>57510.492818</td>\n",
       "      <td>0.402769</td>\n",
       "    </tr>\n",
       "    <tr>\n",
       "      <th>min</th>\n",
       "      <td>350.000000</td>\n",
       "      <td>18.000000</td>\n",
       "      <td>0.000000</td>\n",
       "      <td>0.000000</td>\n",
       "      <td>1.000000</td>\n",
       "      <td>0.00000</td>\n",
       "      <td>0.000000</td>\n",
       "      <td>11.580000</td>\n",
       "      <td>0.000000</td>\n",
       "    </tr>\n",
       "    <tr>\n",
       "      <th>25%</th>\n",
       "      <td>584.000000</td>\n",
       "      <td>32.000000</td>\n",
       "      <td>2.000000</td>\n",
       "      <td>0.000000</td>\n",
       "      <td>1.000000</td>\n",
       "      <td>0.00000</td>\n",
       "      <td>0.000000</td>\n",
       "      <td>51002.110000</td>\n",
       "      <td>0.000000</td>\n",
       "    </tr>\n",
       "    <tr>\n",
       "      <th>50%</th>\n",
       "      <td>652.000000</td>\n",
       "      <td>37.000000</td>\n",
       "      <td>5.000000</td>\n",
       "      <td>97198.540000</td>\n",
       "      <td>1.000000</td>\n",
       "      <td>1.00000</td>\n",
       "      <td>1.000000</td>\n",
       "      <td>100193.915000</td>\n",
       "      <td>0.000000</td>\n",
       "    </tr>\n",
       "    <tr>\n",
       "      <th>75%</th>\n",
       "      <td>718.000000</td>\n",
       "      <td>44.000000</td>\n",
       "      <td>7.000000</td>\n",
       "      <td>127644.240000</td>\n",
       "      <td>2.000000</td>\n",
       "      <td>1.00000</td>\n",
       "      <td>1.000000</td>\n",
       "      <td>149388.247500</td>\n",
       "      <td>0.000000</td>\n",
       "    </tr>\n",
       "    <tr>\n",
       "      <th>max</th>\n",
       "      <td>850.000000</td>\n",
       "      <td>92.000000</td>\n",
       "      <td>10.000000</td>\n",
       "      <td>250898.090000</td>\n",
       "      <td>4.000000</td>\n",
       "      <td>1.00000</td>\n",
       "      <td>1.000000</td>\n",
       "      <td>199992.480000</td>\n",
       "      <td>1.000000</td>\n",
       "    </tr>\n",
       "  </tbody>\n",
       "</table>\n",
       "</div>"
      ],
      "text/plain": [
       "        CreditScore           Age       Tenure        Balance  NumOfProducts  \\\n",
       "count  10000.000000  10000.000000  9091.000000   10000.000000   10000.000000   \n",
       "mean     650.528800     38.921800     4.997690   76485.889288       1.530200   \n",
       "std       96.653299     10.487806     2.894723   62397.405202       0.581654   \n",
       "min      350.000000     18.000000     0.000000       0.000000       1.000000   \n",
       "25%      584.000000     32.000000     2.000000       0.000000       1.000000   \n",
       "50%      652.000000     37.000000     5.000000   97198.540000       1.000000   \n",
       "75%      718.000000     44.000000     7.000000  127644.240000       2.000000   \n",
       "max      850.000000     92.000000    10.000000  250898.090000       4.000000   \n",
       "\n",
       "         HasCrCard  IsActiveMember  EstimatedSalary        Exited  \n",
       "count  10000.00000    10000.000000     10000.000000  10000.000000  \n",
       "mean       0.70550        0.515100    100090.239881      0.203700  \n",
       "std        0.45584        0.499797     57510.492818      0.402769  \n",
       "min        0.00000        0.000000        11.580000      0.000000  \n",
       "25%        0.00000        0.000000     51002.110000      0.000000  \n",
       "50%        1.00000        1.000000    100193.915000      0.000000  \n",
       "75%        1.00000        1.000000    149388.247500      0.000000  \n",
       "max        1.00000        1.000000    199992.480000      1.000000  "
      ]
     },
     "execution_count": 6,
     "metadata": {},
     "output_type": "execute_result"
    }
   ],
   "source": [
    "df.describe()"
   ]
  },
  {
   "cell_type": "code",
   "execution_count": 7,
   "metadata": {
    "scrolled": true
   },
   "outputs": [
    {
     "name": "stdout",
     "output_type": "stream",
     "text": [
      "<class 'pandas.core.frame.DataFrame'>\n",
      "RangeIndex: 10000 entries, 0 to 9999\n",
      "Data columns (total 11 columns):\n",
      " #   Column           Non-Null Count  Dtype  \n",
      "---  ------           --------------  -----  \n",
      " 0   CreditScore      10000 non-null  int64  \n",
      " 1   Geography        10000 non-null  object \n",
      " 2   Gender           10000 non-null  object \n",
      " 3   Age              10000 non-null  int64  \n",
      " 4   Tenure           9091 non-null   float64\n",
      " 5   Balance          10000 non-null  float64\n",
      " 6   NumOfProducts    10000 non-null  int64  \n",
      " 7   HasCrCard        10000 non-null  int64  \n",
      " 8   IsActiveMember   10000 non-null  int64  \n",
      " 9   EstimatedSalary  10000 non-null  float64\n",
      " 10  Exited           10000 non-null  int64  \n",
      "dtypes: float64(3), int64(6), object(2)\n",
      "memory usage: 859.5+ KB\n"
     ]
    }
   ],
   "source": [
    "df.info()"
   ]
  },
  {
   "cell_type": "markdown",
   "metadata": {},
   "source": [
    "В целом данные достаточно \"чистые\", в признаке **Tenure** есть пропуски. Так как наличие недвижимости является дополнительным фактором надежности клиента, то логично предположить, что если недвижимость не указана, то ее нет. Следовательно пропуски можно заменить на **\"0\"**, и перевести признак в тип **int**(заполнять пропуски медианой или средним значением выглядит плохой идеей, если банк не заполнил эти значения, то имел на то основания)"
   ]
  },
  {
   "cell_type": "code",
   "execution_count": 8,
   "metadata": {},
   "outputs": [],
   "source": [
    "df.Tenure = df['Tenure'].fillna(0).astype('int64')"
   ]
  },
  {
   "cell_type": "code",
   "execution_count": 9,
   "metadata": {},
   "outputs": [
    {
     "name": "stdout",
     "output_type": "stream",
     "text": [
      "Количество дубликатов: 0\n"
     ]
    }
   ],
   "source": [
    "print(\"Количество дубликатов:\",df.duplicated().sum())"
   ]
  },
  {
   "cell_type": "markdown",
   "metadata": {},
   "source": [
    "Проверим категориальные признаки "
   ]
  },
  {
   "cell_type": "code",
   "execution_count": 10,
   "metadata": {
    "scrolled": true
   },
   "outputs": [
    {
     "data": {
      "text/plain": [
       "array(['France', 'Spain', 'Germany'], dtype=object)"
      ]
     },
     "execution_count": 10,
     "metadata": {},
     "output_type": "execute_result"
    }
   ],
   "source": [
    "df.Geography.unique()"
   ]
  },
  {
   "cell_type": "code",
   "execution_count": 11,
   "metadata": {},
   "outputs": [
    {
     "data": {
      "text/plain": [
       "array(['Female', 'Male'], dtype=object)"
      ]
     },
     "execution_count": 11,
     "metadata": {},
     "output_type": "execute_result"
    }
   ],
   "source": [
    "df.Gender.unique()"
   ]
  },
  {
   "cell_type": "code",
   "execution_count": 12,
   "metadata": {},
   "outputs": [],
   "source": [
    "df = pd.get_dummies(df,drop_first=True)"
   ]
  },
  {
   "cell_type": "code",
   "execution_count": 13,
   "metadata": {
    "scrolled": true
   },
   "outputs": [],
   "source": [
    "#df.head()"
   ]
  },
  {
   "cell_type": "code",
   "execution_count": 14,
   "metadata": {},
   "outputs": [],
   "source": [
    "#df = df.drop(['Gender_Female'], axis = 1)"
   ]
  },
  {
   "cell_type": "markdown",
   "metadata": {},
   "source": [
    "Ну и наведем немного красоты"
   ]
  },
  {
   "cell_type": "code",
   "execution_count": 15,
   "metadata": {},
   "outputs": [],
   "source": [
    "df.columns = [x.lower() for x in df.columns]"
   ]
  },
  {
   "cell_type": "code",
   "execution_count": 16,
   "metadata": {
    "scrolled": true
   },
   "outputs": [
    {
     "data": {
      "text/plain": [
       "Index(['creditscore', 'age', 'tenure', 'balance', 'numofproducts', 'hascrcard',\n",
       "       'isactivemember', 'estimatedsalary', 'exited', 'geography_germany',\n",
       "       'geography_spain', 'gender_male'],\n",
       "      dtype='object')"
      ]
     },
     "execution_count": 16,
     "metadata": {},
     "output_type": "execute_result"
    }
   ],
   "source": [
    "df.columns"
   ]
  },
  {
   "cell_type": "code",
   "execution_count": 17,
   "metadata": {},
   "outputs": [],
   "source": [
    "df = df.rename(columns = {'creditscore':'credit_score', 'numofproducts':'num_of_products', 'hascrcard':'has_cr_card',\n",
    "       'isactivemember':'is_active_member', 'estimatedsalary':'estimated_salary'})"
   ]
  },
  {
   "cell_type": "code",
   "execution_count": 18,
   "metadata": {
    "scrolled": true
   },
   "outputs": [
    {
     "data": {
      "text/html": [
       "<div>\n",
       "<style scoped>\n",
       "    .dataframe tbody tr th:only-of-type {\n",
       "        vertical-align: middle;\n",
       "    }\n",
       "\n",
       "    .dataframe tbody tr th {\n",
       "        vertical-align: top;\n",
       "    }\n",
       "\n",
       "    .dataframe thead th {\n",
       "        text-align: right;\n",
       "    }\n",
       "</style>\n",
       "<table border=\"1\" class=\"dataframe\">\n",
       "  <thead>\n",
       "    <tr style=\"text-align: right;\">\n",
       "      <th></th>\n",
       "      <th>credit_score</th>\n",
       "      <th>age</th>\n",
       "      <th>tenure</th>\n",
       "      <th>balance</th>\n",
       "      <th>num_of_products</th>\n",
       "      <th>has_cr_card</th>\n",
       "      <th>is_active_member</th>\n",
       "      <th>estimated_salary</th>\n",
       "      <th>exited</th>\n",
       "      <th>geography_germany</th>\n",
       "      <th>geography_spain</th>\n",
       "      <th>gender_male</th>\n",
       "    </tr>\n",
       "  </thead>\n",
       "  <tbody>\n",
       "    <tr>\n",
       "      <th>0</th>\n",
       "      <td>619</td>\n",
       "      <td>42</td>\n",
       "      <td>2</td>\n",
       "      <td>0.00</td>\n",
       "      <td>1</td>\n",
       "      <td>1</td>\n",
       "      <td>1</td>\n",
       "      <td>101348.88</td>\n",
       "      <td>1</td>\n",
       "      <td>0</td>\n",
       "      <td>0</td>\n",
       "      <td>0</td>\n",
       "    </tr>\n",
       "    <tr>\n",
       "      <th>1</th>\n",
       "      <td>608</td>\n",
       "      <td>41</td>\n",
       "      <td>1</td>\n",
       "      <td>83807.86</td>\n",
       "      <td>1</td>\n",
       "      <td>0</td>\n",
       "      <td>1</td>\n",
       "      <td>112542.58</td>\n",
       "      <td>0</td>\n",
       "      <td>0</td>\n",
       "      <td>1</td>\n",
       "      <td>0</td>\n",
       "    </tr>\n",
       "    <tr>\n",
       "      <th>2</th>\n",
       "      <td>502</td>\n",
       "      <td>42</td>\n",
       "      <td>8</td>\n",
       "      <td>159660.80</td>\n",
       "      <td>3</td>\n",
       "      <td>1</td>\n",
       "      <td>0</td>\n",
       "      <td>113931.57</td>\n",
       "      <td>1</td>\n",
       "      <td>0</td>\n",
       "      <td>0</td>\n",
       "      <td>0</td>\n",
       "    </tr>\n",
       "    <tr>\n",
       "      <th>3</th>\n",
       "      <td>699</td>\n",
       "      <td>39</td>\n",
       "      <td>1</td>\n",
       "      <td>0.00</td>\n",
       "      <td>2</td>\n",
       "      <td>0</td>\n",
       "      <td>0</td>\n",
       "      <td>93826.63</td>\n",
       "      <td>0</td>\n",
       "      <td>0</td>\n",
       "      <td>0</td>\n",
       "      <td>0</td>\n",
       "    </tr>\n",
       "    <tr>\n",
       "      <th>4</th>\n",
       "      <td>850</td>\n",
       "      <td>43</td>\n",
       "      <td>2</td>\n",
       "      <td>125510.82</td>\n",
       "      <td>1</td>\n",
       "      <td>1</td>\n",
       "      <td>1</td>\n",
       "      <td>79084.10</td>\n",
       "      <td>0</td>\n",
       "      <td>0</td>\n",
       "      <td>1</td>\n",
       "      <td>0</td>\n",
       "    </tr>\n",
       "  </tbody>\n",
       "</table>\n",
       "</div>"
      ],
      "text/plain": [
       "   credit_score  age  tenure    balance  num_of_products  has_cr_card  \\\n",
       "0           619   42       2       0.00                1            1   \n",
       "1           608   41       1   83807.86                1            0   \n",
       "2           502   42       8  159660.80                3            1   \n",
       "3           699   39       1       0.00                2            0   \n",
       "4           850   43       2  125510.82                1            1   \n",
       "\n",
       "   is_active_member  estimated_salary  exited  geography_germany  \\\n",
       "0                 1         101348.88       1                  0   \n",
       "1                 1         112542.58       0                  0   \n",
       "2                 0         113931.57       1                  0   \n",
       "3                 0          93826.63       0                  0   \n",
       "4                 1          79084.10       0                  0   \n",
       "\n",
       "   geography_spain  gender_male  \n",
       "0                0            0  \n",
       "1                1            0  \n",
       "2                0            0  \n",
       "3                0            0  \n",
       "4                1            0  "
      ]
     },
     "execution_count": 18,
     "metadata": {},
     "output_type": "execute_result"
    }
   ],
   "source": [
    "df.head()"
   ]
  },
  {
   "cell_type": "code",
   "execution_count": 19,
   "metadata": {
    "scrolled": false
   },
   "outputs": [
    {
     "name": "stdout",
     "output_type": "stream",
     "text": [
      "<class 'pandas.core.frame.DataFrame'>\n",
      "RangeIndex: 10000 entries, 0 to 9999\n",
      "Data columns (total 12 columns):\n",
      " #   Column             Non-Null Count  Dtype  \n",
      "---  ------             --------------  -----  \n",
      " 0   credit_score       10000 non-null  int64  \n",
      " 1   age                10000 non-null  int64  \n",
      " 2   tenure             10000 non-null  int64  \n",
      " 3   balance            10000 non-null  float64\n",
      " 4   num_of_products    10000 non-null  int64  \n",
      " 5   has_cr_card        10000 non-null  int64  \n",
      " 6   is_active_member   10000 non-null  int64  \n",
      " 7   estimated_salary   10000 non-null  float64\n",
      " 8   exited             10000 non-null  int64  \n",
      " 9   geography_germany  10000 non-null  uint8  \n",
      " 10  geography_spain    10000 non-null  uint8  \n",
      " 11  gender_male        10000 non-null  uint8  \n",
      "dtypes: float64(2), int64(7), uint8(3)\n",
      "memory usage: 732.5 KB\n"
     ]
    }
   ],
   "source": [
    "df.info()"
   ]
  },
  {
   "cell_type": "markdown",
   "metadata": {},
   "source": [
    "На этом, пожалуй, закончим предобработку данных"
   ]
  },
  {
   "cell_type": "code",
   "execution_count": 20,
   "metadata": {},
   "outputs": [],
   "source": [
    "#profile = ProfileReport(df, title=\"Pandas Profiling Report\")\n",
    "#profile"
   ]
  },
  {
   "cell_type": "markdown",
   "metadata": {},
   "source": [
    "## Исследование задачи"
   ]
  },
  {
   "cell_type": "code",
   "execution_count": 21,
   "metadata": {},
   "outputs": [
    {
     "name": "stdout",
     "output_type": "stream",
     "text": [
      "Количество ушедших клиентов: 2037\n"
     ]
    }
   ],
   "source": [
    "print('Количество ушедших клиентов:',(df.exited == 1).sum())"
   ]
  },
  {
   "cell_type": "code",
   "execution_count": 22,
   "metadata": {
    "scrolled": true
   },
   "outputs": [
    {
     "data": {
      "image/png": "[encoded data removed]",
      "text/plain": [
       "<Figure size 720x432 with 1 Axes>"
      ]
     },
     "metadata": {
      "needs_background": "light"
     },
     "output_type": "display_data"
    }
   ],
   "source": [
    "df.exited.value_counts().plot(kind='bar',grid=True,figsize=(10,6),title='Соотношение тех, кто остался и тех кто ушел')\n",
    "plt.show()"
   ]
  },
  {
   "cell_type": "code",
   "execution_count": 23,
   "metadata": {
    "scrolled": true
   },
   "outputs": [],
   "source": [
    "#df.corr()"
   ]
  },
  {
   "cell_type": "markdown",
   "metadata": {},
   "source": [
    "Первичный вывод, который мы можем сделать:\n",
    "\n",
    "   - налицо дисбаланс классов в целевом признаке;\n",
    "   \n",
    "По условию задания необходимо обучить модель без учета дисбаланса класса этим и займемся"
   ]
  },
  {
   "cell_type": "markdown",
   "metadata": {},
   "source": [
    "Попытка стандартизировать **train** выборку(т.к есть значения и маленькие и очень большие) методом **StandardScaler()** привела к резкому падению значений \n",
    "**f1_score** и **roc_auc_score**  и приближеню рок кривых к **Случайной модели**, пришлось от этого отказаться\n"
   ]
  },
  {
   "cell_type": "markdown",
   "metadata": {},
   "source": [
    "Еще одно замечание перед исследованием - можно было бы перебрать значения гиперпараметров в цикле и вывести значение лучшей модели и ее параметров(мы так и делали в предыдущем проекте), но как утверждают преподаватели  - это совсем не **Pandas`way**, поэтому мы прибегнем к методу кросс валидации используя **GridSearchCV**"
   ]
  },
  {
   "cell_type": "code",
   "execution_count": 24,
   "metadata": {},
   "outputs": [],
   "source": [
    "X = df.drop('exited', axis = 1)\n",
    "y = df.exited"
   ]
  },
  {
   "cell_type": "code",
   "execution_count": 25,
   "metadata": {},
   "outputs": [],
   "source": [
    "#X_train,X_test,y_train,y_test = train_test_split(X,y, test_size = 0.33, random_state = 42)"
   ]
  },
  {
   "cell_type": "code",
   "execution_count": 26,
   "metadata": {},
   "outputs": [
    {
     "data": {
      "text/plain": [
       "((10000, 11), (10000,))"
      ]
     },
     "execution_count": 26,
     "metadata": {},
     "output_type": "execute_result"
    }
   ],
   "source": [
    "X.shape, y.shape"
   ]
  },
  {
   "cell_type": "code",
   "execution_count": 27,
   "metadata": {},
   "outputs": [],
   "source": [
    "# разделили на train и test\n",
    "X_train,X_test,y_train,y_test = train_test_split(X,y, test_size = 0.25, random_state = 42)"
   ]
  },
  {
   "cell_type": "code",
   "execution_count": 28,
   "metadata": {},
   "outputs": [
    {
     "data": {
      "text/plain": [
       "((7500, 11), (7500,))"
      ]
     },
     "execution_count": 28,
     "metadata": {},
     "output_type": "execute_result"
    }
   ],
   "source": [
    "X_train.shape, y_train.shape"
   ]
  },
  {
   "cell_type": "code",
   "execution_count": 29,
   "metadata": {},
   "outputs": [],
   "source": [
    "# выделили valid\n",
    "X_train,X_val,y_train,y_val = train_test_split(X_train,y_train, test_size = 0.25, random_state = 42)"
   ]
  },
  {
   "cell_type": "code",
   "execution_count": 30,
   "metadata": {},
   "outputs": [
    {
     "data": {
      "text/plain": [
       "((5625, 11), (1875, 11), (2500, 11))"
      ]
     },
     "execution_count": 30,
     "metadata": {},
     "output_type": "execute_result"
    }
   ],
   "source": [
    "X_train.shape, X_val.shape,X_test.shape"
   ]
  },
  {
   "cell_type": "markdown",
   "metadata": {},
   "source": [
    "**DecisionTreeClassifier**"
   ]
  },
  {
   "cell_type": "code",
   "execution_count": 31,
   "metadata": {},
   "outputs": [],
   "source": [
    "clf_dtc = DecisionTreeClassifier(random_state = 42)"
   ]
  },
  {
   "cell_type": "code",
   "execution_count": 32,
   "metadata": {},
   "outputs": [],
   "source": [
    "param_dtc = {'criterion' : ['gini', 'entropy'], 'max_depth':range(1,30),}"
   ]
  },
  {
   "cell_type": "code",
   "execution_count": 33,
   "metadata": {},
   "outputs": [],
   "source": [
    "gs_cv_dtc = GridSearchCV(clf_dtc, param_dtc, cv=5, scoring='f1')"
   ]
  },
  {
   "cell_type": "code",
   "execution_count": 34,
   "metadata": {},
   "outputs": [
    {
     "name": "stdout",
     "output_type": "stream",
     "text": [
      "Wall time: 19.4 s\n"
     ]
    },
    {
     "data": {
      "text/plain": [
       "GridSearchCV(cv=5, estimator=DecisionTreeClassifier(random_state=42),\n",
       "             param_grid={'criterion': ['gini', 'entropy'],\n",
       "                         'max_depth': range(1, 30)},\n",
       "             scoring='f1')"
      ]
     },
     "execution_count": 34,
     "metadata": {},
     "output_type": "execute_result"
    }
   ],
   "source": [
    "%%time\n",
    "gs_cv_dtc.fit(X_train,y_train)"
   ]
  },
  {
   "cell_type": "markdown",
   "metadata": {},
   "source": [
    "посмотрим параметры"
   ]
  },
  {
   "cell_type": "code",
   "execution_count": 35,
   "metadata": {},
   "outputs": [
    {
     "data": {
      "text/plain": [
       "{'criterion': 'entropy', 'max_depth': 7}"
      ]
     },
     "execution_count": 35,
     "metadata": {},
     "output_type": "execute_result"
    }
   ],
   "source": [
    "gs_cv_dtc.best_params_"
   ]
  },
  {
   "cell_type": "markdown",
   "metadata": {},
   "source": [
    "сохраним лучшую модель"
   ]
  },
  {
   "cell_type": "code",
   "execution_count": 36,
   "metadata": {},
   "outputs": [],
   "source": [
    "best_clf_dtc = gs_cv_dtc.best_estimator_"
   ]
  },
  {
   "cell_type": "code",
   "execution_count": 37,
   "metadata": {},
   "outputs": [
    {
     "data": {
      "text/plain": [
       "0.8528"
      ]
     },
     "execution_count": 37,
     "metadata": {},
     "output_type": "execute_result"
    }
   ],
   "source": [
    "best_clf_dtc.score(X_val,y_val)"
   ]
  },
  {
   "cell_type": "code",
   "execution_count": 38,
   "metadata": {},
   "outputs": [],
   "source": [
    "y_pred_dtc = best_clf_dtc.predict(X_val)"
   ]
  },
  {
   "cell_type": "code",
   "execution_count": 39,
   "metadata": {},
   "outputs": [
    {
     "data": {
      "text/plain": [
       "0.5605095541401274"
      ]
     },
     "execution_count": 39,
     "metadata": {},
     "output_type": "execute_result"
    }
   ],
   "source": [
    "f1_dtc = f1_score(y_val,y_pred_dtc)\n",
    "f1_dtc"
   ]
  },
  {
   "cell_type": "code",
   "execution_count": 40,
   "metadata": {},
   "outputs": [],
   "source": [
    "y_predicted_prob_dtc = best_clf_dtc.predict_proba(X_val)"
   ]
  },
  {
   "cell_type": "code",
   "execution_count": 41,
   "metadata": {},
   "outputs": [
    {
     "data": {
      "text/plain": [
       "0.8166928807802991"
      ]
     },
     "execution_count": 41,
     "metadata": {},
     "output_type": "execute_result"
    }
   ],
   "source": [
    "auc_roc_dtc = roc_auc_score(y_val, y_predicted_prob_dtc[:,1])\n",
    "auc_roc_dtc"
   ]
  },
  {
   "cell_type": "markdown",
   "metadata": {},
   "source": [
    "**LogisticRegression**"
   ]
  },
  {
   "cell_type": "code",
   "execution_count": 42,
   "metadata": {},
   "outputs": [],
   "source": [
    "clf_lr = LogisticRegression(random_state = 42)\n",
    "param_lr = [{'penalty':['l1','l2']}, \n",
    "              {'C':[1, 10, 100, 1000]},\n",
    "              {'solver': ['liblinear']}]\n",
    "gs_cv_lr = GridSearchCV(clf_lr, \n",
    "                           param_grid = param_lr,\n",
    "                           scoring = 'f1',\n",
    "                           cv = 5,)"
   ]
  },
  {
   "cell_type": "code",
   "execution_count": 43,
   "metadata": {
    "scrolled": true
   },
   "outputs": [
    {
     "name": "stdout",
     "output_type": "stream",
     "text": [
      "Wall time: 7.32 s\n"
     ]
    },
    {
     "data": {
      "text/plain": [
       "GridSearchCV(cv=5, estimator=LogisticRegression(random_state=42),\n",
       "             param_grid=[{'penalty': ['l1', 'l2']}, {'C': [1, 10, 100, 1000]},\n",
       "                         {'solver': ['liblinear']}],\n",
       "             scoring='f1')"
      ]
     },
     "execution_count": 43,
     "metadata": {},
     "output_type": "execute_result"
    }
   ],
   "source": [
    "%%time\n",
    "\n",
    "gs_cv_lr.fit(X_train,y_train)"
   ]
  },
  {
   "cell_type": "code",
   "execution_count": 44,
   "metadata": {},
   "outputs": [
    {
     "data": {
      "text/plain": [
       "{'solver': 'liblinear'}"
      ]
     },
     "execution_count": 44,
     "metadata": {},
     "output_type": "execute_result"
    }
   ],
   "source": [
    "gs_cv_lr.best_params_"
   ]
  },
  {
   "cell_type": "code",
   "execution_count": 45,
   "metadata": {},
   "outputs": [
    {
     "data": {
      "text/plain": [
       "0.7936"
      ]
     },
     "execution_count": 45,
     "metadata": {},
     "output_type": "execute_result"
    }
   ],
   "source": [
    "best_clf_lr = gs_cv_lr.best_estimator_\n",
    "best_clf_lr.score(X_val,y_val)"
   ]
  },
  {
   "cell_type": "code",
   "execution_count": 46,
   "metadata": {},
   "outputs": [
    {
     "data": {
      "text/plain": [
       "0.0851063829787234"
      ]
     },
     "execution_count": 46,
     "metadata": {},
     "output_type": "execute_result"
    }
   ],
   "source": [
    "y_pred_lr = best_clf_lr.predict(X_val)\n",
    "f1_lr = f1_score(y_val,y_pred_lr)\n",
    "f1_lr"
   ]
  },
  {
   "cell_type": "code",
   "execution_count": 47,
   "metadata": {},
   "outputs": [],
   "source": [
    "y_predicted_prob_lr =  best_clf_lr.predict_proba(X_val)"
   ]
  },
  {
   "cell_type": "code",
   "execution_count": 48,
   "metadata": {},
   "outputs": [
    {
     "data": {
      "text/plain": [
       "0.6528584403066355"
      ]
     },
     "execution_count": 48,
     "metadata": {},
     "output_type": "execute_result"
    }
   ],
   "source": [
    "auc_roc_lr = roc_auc_score(y_val, y_predicted_prob_lr[:,1])\n",
    "auc_roc_lr"
   ]
  },
  {
   "cell_type": "markdown",
   "metadata": {},
   "source": [
    "**RandomForestClassifier**"
   ]
  },
  {
   "cell_type": "code",
   "execution_count": 49,
   "metadata": {},
   "outputs": [],
   "source": [
    "clf_rfc = RandomForestClassifier(random_state = 42)\n",
    "param_rfc = {'n_estimators': range (5, 31, 1), 'max_depth':range(1,15),}\n",
    "gs_cv_clf = GridSearchCV(clf_rfc, param_rfc, cv=5, scoring='f1')"
   ]
  },
  {
   "cell_type": "code",
   "execution_count": 50,
   "metadata": {},
   "outputs": [
    {
     "name": "stdout",
     "output_type": "stream",
     "text": [
      "Wall time: 5min 5s\n"
     ]
    },
    {
     "data": {
      "text/plain": [
       "GridSearchCV(cv=5, estimator=RandomForestClassifier(random_state=42),\n",
       "             param_grid={'max_depth': range(1, 15),\n",
       "                         'n_estimators': range(5, 31)},\n",
       "             scoring='f1')"
      ]
     },
     "execution_count": 50,
     "metadata": {},
     "output_type": "execute_result"
    }
   ],
   "source": [
    "%%time\n",
    "gs_cv_clf.fit(X_train,y_train)"
   ]
  },
  {
   "cell_type": "code",
   "execution_count": 51,
   "metadata": {},
   "outputs": [
    {
     "data": {
      "text/plain": [
       "{'max_depth': 14, 'n_estimators': 29}"
      ]
     },
     "execution_count": 51,
     "metadata": {},
     "output_type": "execute_result"
    }
   ],
   "source": [
    "gs_cv_clf.best_params_"
   ]
  },
  {
   "cell_type": "code",
   "execution_count": 52,
   "metadata": {},
   "outputs": [
    {
     "data": {
      "text/plain": [
       "0.856"
      ]
     },
     "execution_count": 52,
     "metadata": {},
     "output_type": "execute_result"
    }
   ],
   "source": [
    "best_clf_rfc = gs_cv_clf.best_estimator_\n",
    "best_clf_rfc.score(X_val,y_val)"
   ]
  },
  {
   "cell_type": "code",
   "execution_count": 53,
   "metadata": {},
   "outputs": [
    {
     "data": {
      "text/plain": [
       "0.564516129032258"
      ]
     },
     "execution_count": 53,
     "metadata": {},
     "output_type": "execute_result"
    }
   ],
   "source": [
    "y_pred_rfc = best_clf_rfc.predict(X_val)\n",
    "f1_rfc = f1_score(y_val,y_pred_rfc)\n",
    "f1_rfc"
   ]
  },
  {
   "cell_type": "code",
   "execution_count": 54,
   "metadata": {},
   "outputs": [
    {
     "data": {
      "text/plain": [
       "0.843106790035389"
      ]
     },
     "execution_count": 54,
     "metadata": {},
     "output_type": "execute_result"
    }
   ],
   "source": [
    "y_predicted_prob_rfc =  best_clf_rfc.predict_proba(X_val)\n",
    "auc_roc_rfc = roc_auc_score(y_val, y_predicted_prob_rfc[:,1])\n",
    "auc_roc_rfc"
   ]
  },
  {
   "cell_type": "code",
   "execution_count": 55,
   "metadata": {},
   "outputs": [],
   "source": [
    "result = {'DecisionTreeClassifier':[f1_dtc,auc_roc_dtc],\n",
    "          'LogisticRegression':[f1_lr,auc_roc_lr],\n",
    "          'RandomForestClassifier':[f1_rfc,auc_roc_rfc]}\n",
    "\n",
    "result_df = pd.DataFrame(result, index=['f1_score','AUC ROC'])\n"
   ]
  },
  {
   "cell_type": "markdown",
   "metadata": {},
   "source": [
    "Соберем результаты исследования в единую таблицу и построим график **ROC-кривых**"
   ]
  },
  {
   "cell_type": "code",
   "execution_count": 56,
   "metadata": {},
   "outputs": [
    {
     "data": {
      "text/html": [
       "<div>\n",
       "<style scoped>\n",
       "    .dataframe tbody tr th:only-of-type {\n",
       "        vertical-align: middle;\n",
       "    }\n",
       "\n",
       "    .dataframe tbody tr th {\n",
       "        vertical-align: top;\n",
       "    }\n",
       "\n",
       "    .dataframe thead th {\n",
       "        text-align: right;\n",
       "    }\n",
       "</style>\n",
       "<table border=\"1\" class=\"dataframe\">\n",
       "  <thead>\n",
       "    <tr style=\"text-align: right;\">\n",
       "      <th></th>\n",
       "      <th>DecisionTreeClassifier</th>\n",
       "      <th>LogisticRegression</th>\n",
       "      <th>RandomForestClassifier</th>\n",
       "    </tr>\n",
       "  </thead>\n",
       "  <tbody>\n",
       "    <tr>\n",
       "      <th>f1_score</th>\n",
       "      <td>0.560510</td>\n",
       "      <td>0.085106</td>\n",
       "      <td>0.564516</td>\n",
       "    </tr>\n",
       "    <tr>\n",
       "      <th>AUC ROC</th>\n",
       "      <td>0.816693</td>\n",
       "      <td>0.652858</td>\n",
       "      <td>0.843107</td>\n",
       "    </tr>\n",
       "  </tbody>\n",
       "</table>\n",
       "</div>"
      ],
      "text/plain": [
       "          DecisionTreeClassifier  LogisticRegression  RandomForestClassifier\n",
       "f1_score                0.560510            0.085106                0.564516\n",
       "AUC ROC                 0.816693            0.652858                0.843107"
      ]
     },
     "execution_count": 56,
     "metadata": {},
     "output_type": "execute_result"
    }
   ],
   "source": [
    "result_df"
   ]
  },
  {
   "cell_type": "code",
   "execution_count": 57,
   "metadata": {},
   "outputs": [],
   "source": [
    "fpr_tree,tpr_tree,thresholds = roc_curve(y_val, y_predicted_prob_dtc[:,1])\n",
    "fpr_log, tpr_log, thresholds = roc_curve(y_val, y_predicted_prob_lr[:,1])\n",
    "fpr_forest,tpr_forest, thresholds = roc_curve(y_val, y_predicted_prob_rfc[:,1])"
   ]
  },
  {
   "cell_type": "code",
   "execution_count": 58,
   "metadata": {},
   "outputs": [
    {
     "data": {
      "text/plain": [
       "<Figure size 432x288 with 0 Axes>"
      ]
     },
     "metadata": {},
     "output_type": "display_data"
    },
    {
     "data": {
      "image/png": "[encoded data removed]",
      "text/plain": [
       "<Figure size 720x504 with 1 Axes>"
      ]
     },
     "metadata": {
      "needs_background": "light"
     },
     "output_type": "display_data"
    }
   ],
   "source": [
    "plt.figure()\n",
    "\n",
    "plt.figure(figsize=(10,7))\n",
    "plt.plot([0, 1], [0, 1], linestyle='--')\n",
    "plt.xlim([0.0, 1.0])\n",
    "plt.ylim([0.0, 1.0])\n",
    "plt.plot(fpr_forest,tpr_forest)\n",
    "plt.plot(fpr_tree,tpr_tree)\n",
    "plt.plot(fpr_log,tpr_log)\n",
    "\n",
    "\n",
    "plt.xlabel('False Positive Rate')\n",
    "plt.ylabel('True Positive Rate')\n",
    "plt.title('ROC-кривая')\n",
    "plt.legend(('Случайная модель','RandomForestClassifier','DecisionTreeClassifier','LogisticRegression'),\n",
    "           loc= 'upper left') \n",
    "plt.show()\n"
   ]
  },
  {
   "cell_type": "markdown",
   "metadata": {},
   "source": [
    "Это тот самый случай, когда \"наглядная агитация\" лучше пространных отчетов. Лучшая модель **RandomForestClassifier**, немного ей уступает **DecisionTreeClassifier**, а **LogisticRegression** осталась далеко позади"
   ]
  },
  {
   "cell_type": "markdown",
   "metadata": {},
   "source": [
    "В результате проведенного исследования найдена лучшая модель **RandomForestClassifier** с гиперпараметрами\n",
    "**'max_depth'**: 9, **'n_estimators'**: 20\n",
    "\n",
    "показатели модели на тестовой выборке: **f1_score** = 0.6062322946175637 и **AUC ROC** = 0.8503542473010806\n",
    "\n",
    "\n",
    "Наиболее важными признаками, влияющими на отток клиентов являются:\n",
    "\n",
    "**age** = 0.321184\n",
    "\n",
    "**num_of_products** = 0.207040\n",
    "\n",
    "**balance** = 0.110723"
   ]
  },
  {
   "cell_type": "markdown",
   "metadata": {},
   "source": [
    "## Чек-лист готовности проекта"
   ]
  },
  {
   "cell_type": "markdown",
   "metadata": {},
   "source": [
    "Поставьте 'x' в выполненных пунктах. Далее нажмите Shift+Enter."
   ]
  },
  {
   "cell_type": "markdown",
   "metadata": {},
   "source": [
    "- [x]  Jupyter Notebook открыт\n",
    "- [x]  Весь код выполняется без ошибок\n",
    "- [x]  Ячейки с кодом расположены в порядке исполнения\n",
    "- [x]  Выполнен шаг 1: данные подготовлены\n",
    "- [x]  Выполнен шаг 2: задача исследована\n",
    "    - [x]  Исследован баланс классов\n",
    "    - [x]  Изучены модели без учёта дисбаланса\n",
    "    - [x]  Написаны выводы по результатам исследования\n",
    "- []  Выполнен шаг 3: учтён дисбаланс\n",
    "    - []  Применено несколько способов борьбы с дисбалансом\n",
    "    - []  Написаны выводы по результатам исследования\n",
    "- []  Выполнен шаг 4: проведено тестирование\n",
    "- []  Удалось достичь *F1*-меры не менее 0.59\n",
    "- []  Исследована метрика *AUC-ROC*"
   ]
  },
  {
   "cell_type": "code",
   "execution_count": null,
   "metadata": {},
   "outputs": [],
   "source": []
  }
 ],
 "metadata": {
  "ExecuteTimeLog": [
   {
    "duration": 1736,
    "start_time": "2022-12-12T07:46:03.000Z"
   },
   {
    "duration": 5,
    "start_time": "2022-12-12T07:47:08.880Z"
   },
   {
    "duration": 91,
    "start_time": "2022-12-12T07:47:12.859Z"
   },
   {
    "duration": 19,
    "start_time": "2022-12-12T07:51:03.209Z"
   },
   {
    "duration": 48,
    "start_time": "2022-12-12T07:54:16.640Z"
   },
   {
    "duration": 122,
    "start_time": "2022-12-12T07:54:49.794Z"
   },
   {
    "duration": 17,
    "start_time": "2022-12-12T07:54:59.106Z"
   },
   {
    "duration": 5,
    "start_time": "2022-12-12T07:58:09.857Z"
   },
   {
    "duration": 19,
    "start_time": "2022-12-12T08:00:21.434Z"
   },
   {
    "duration": 1427,
    "start_time": "2022-12-12T08:02:20.892Z"
   },
   {
    "duration": 43,
    "start_time": "2022-12-12T08:02:25.185Z"
   },
   {
    "duration": 6,
    "start_time": "2022-12-12T08:02:26.586Z"
   },
   {
    "duration": 18,
    "start_time": "2022-12-12T08:02:28.585Z"
   },
   {
    "duration": 42,
    "start_time": "2022-12-12T08:02:30.905Z"
   },
   {
    "duration": 13,
    "start_time": "2022-12-12T08:02:32.998Z"
   },
   {
    "duration": 4,
    "start_time": "2022-12-12T08:32:25.358Z"
   },
   {
    "duration": 114,
    "start_time": "2022-12-12T08:38:53.554Z"
   },
   {
    "duration": 10,
    "start_time": "2022-12-12T08:39:06.494Z"
   },
   {
    "duration": 5,
    "start_time": "2022-12-12T09:43:51.589Z"
   },
   {
    "duration": 6,
    "start_time": "2022-12-12T09:44:42.884Z"
   },
   {
    "duration": 10,
    "start_time": "2022-12-12T09:47:34.149Z"
   },
   {
    "duration": 12,
    "start_time": "2022-12-12T09:47:47.454Z"
   },
   {
    "duration": 13,
    "start_time": "2022-12-12T09:48:03.727Z"
   },
   {
    "duration": 9,
    "start_time": "2022-12-12T09:49:03.539Z"
   },
   {
    "duration": 1362,
    "start_time": "2022-12-12T09:49:25.107Z"
   },
   {
    "duration": 42,
    "start_time": "2022-12-12T09:49:26.471Z"
   },
   {
    "duration": 5,
    "start_time": "2022-12-12T09:49:26.514Z"
   },
   {
    "duration": 18,
    "start_time": "2022-12-12T09:49:26.521Z"
   },
   {
    "duration": 40,
    "start_time": "2022-12-12T09:49:26.540Z"
   },
   {
    "duration": 12,
    "start_time": "2022-12-12T09:49:26.582Z"
   },
   {
    "duration": 4,
    "start_time": "2022-12-12T09:49:26.596Z"
   },
   {
    "duration": 13,
    "start_time": "2022-12-12T09:49:26.602Z"
   },
   {
    "duration": 6,
    "start_time": "2022-12-12T09:49:26.616Z"
   },
   {
    "duration": 6,
    "start_time": "2022-12-12T09:49:26.624Z"
   },
   {
    "duration": 12,
    "start_time": "2022-12-12T09:49:26.632Z"
   },
   {
    "duration": 39,
    "start_time": "2022-12-12T09:49:26.646Z"
   },
   {
    "duration": 5,
    "start_time": "2022-12-12T09:58:43.912Z"
   },
   {
    "duration": 4,
    "start_time": "2022-12-12T10:03:01.460Z"
   },
   {
    "duration": 5,
    "start_time": "2022-12-12T10:03:17.384Z"
   },
   {
    "duration": 4,
    "start_time": "2022-12-12T10:25:12.994Z"
   },
   {
    "duration": 15,
    "start_time": "2022-12-12T10:25:33.982Z"
   },
   {
    "duration": 14,
    "start_time": "2022-12-12T10:39:41.280Z"
   },
   {
    "duration": 953,
    "start_time": "2022-12-12T11:22:45.023Z"
   },
   {
    "duration": 156,
    "start_time": "2022-12-12T11:23:20.717Z"
   },
   {
    "duration": 171,
    "start_time": "2022-12-12T11:24:08.048Z"
   },
   {
    "duration": 140,
    "start_time": "2022-12-12T11:24:53.306Z"
   },
   {
    "duration": 5,
    "start_time": "2022-12-12T11:27:00.233Z"
   },
   {
    "duration": 5,
    "start_time": "2022-12-12T11:27:20.729Z"
   },
   {
    "duration": 6,
    "start_time": "2022-12-12T11:32:11.268Z"
   },
   {
    "duration": 8,
    "start_time": "2022-12-12T11:32:25.262Z"
   },
   {
    "duration": 821,
    "start_time": "2022-12-12T11:46:57.906Z"
   },
   {
    "duration": 958,
    "start_time": "2022-12-12T11:47:21.685Z"
   },
   {
    "duration": 10,
    "start_time": "2022-12-12T11:47:31.551Z"
   },
   {
    "duration": 103,
    "start_time": "2022-12-12T11:48:12.801Z"
   },
   {
    "duration": 5,
    "start_time": "2022-12-12T11:48:27.608Z"
   },
   {
    "duration": 7,
    "start_time": "2022-12-12T11:49:06.577Z"
   },
   {
    "duration": 5,
    "start_time": "2022-12-12T11:49:34.817Z"
   },
   {
    "duration": 49,
    "start_time": "2022-12-12T11:51:11.113Z"
   },
   {
    "duration": 11,
    "start_time": "2022-12-12T11:51:22.841Z"
   },
   {
    "duration": 6,
    "start_time": "2022-12-12T11:52:06.903Z"
   },
   {
    "duration": 26,
    "start_time": "2022-12-12T12:03:51.224Z"
   },
   {
    "duration": 16,
    "start_time": "2022-12-12T13:05:20.409Z"
   },
   {
    "duration": 5,
    "start_time": "2022-12-12T13:05:33.097Z"
   },
   {
    "duration": 8,
    "start_time": "2022-12-12T13:08:21.363Z"
   },
   {
    "duration": 1802,
    "start_time": "2022-12-13T12:09:04.966Z"
   },
   {
    "duration": 195,
    "start_time": "2022-12-13T12:09:06.773Z"
   },
   {
    "duration": 5,
    "start_time": "2022-12-13T12:09:06.970Z"
   },
   {
    "duration": 31,
    "start_time": "2022-12-13T12:09:06.977Z"
   },
   {
    "duration": 49,
    "start_time": "2022-12-13T12:09:07.010Z"
   },
   {
    "duration": 31,
    "start_time": "2022-12-13T12:09:07.061Z"
   },
   {
    "duration": 4,
    "start_time": "2022-12-13T12:09:07.094Z"
   },
   {
    "duration": 36,
    "start_time": "2022-12-13T12:09:07.100Z"
   },
   {
    "duration": 37,
    "start_time": "2022-12-13T12:09:07.140Z"
   },
   {
    "duration": 15,
    "start_time": "2022-12-13T12:09:07.180Z"
   },
   {
    "duration": 20,
    "start_time": "2022-12-13T12:09:07.196Z"
   },
   {
    "duration": 14,
    "start_time": "2022-12-13T12:09:07.218Z"
   },
   {
    "duration": 47,
    "start_time": "2022-12-13T12:09:07.234Z"
   },
   {
    "duration": 16,
    "start_time": "2022-12-13T12:09:07.284Z"
   },
   {
    "duration": 28,
    "start_time": "2022-12-13T12:09:07.302Z"
   },
   {
    "duration": 36,
    "start_time": "2022-12-13T12:09:07.332Z"
   },
   {
    "duration": 28,
    "start_time": "2022-12-13T12:09:07.370Z"
   },
   {
    "duration": 21,
    "start_time": "2022-12-13T12:09:07.399Z"
   },
   {
    "duration": 12,
    "start_time": "2022-12-13T12:09:07.422Z"
   },
   {
    "duration": 180,
    "start_time": "2022-12-13T12:09:07.435Z"
   },
   {
    "duration": 45,
    "start_time": "2022-12-13T12:09:07.617Z"
   },
   {
    "duration": 4,
    "start_time": "2022-12-13T12:09:07.663Z"
   },
   {
    "duration": 12,
    "start_time": "2022-12-13T12:09:07.669Z"
   },
   {
    "duration": 5,
    "start_time": "2022-12-13T12:09:11.162Z"
   },
   {
    "duration": 128,
    "start_time": "2022-12-13T12:41:17.910Z"
   },
   {
    "duration": 106,
    "start_time": "2022-12-13T12:41:26.214Z"
   },
   {
    "duration": 24,
    "start_time": "2022-12-13T12:41:28.831Z"
   },
   {
    "duration": 6,
    "start_time": "2022-12-13T12:41:44.534Z"
   },
   {
    "duration": 3,
    "start_time": "2022-12-13T12:41:47.063Z"
   },
   {
    "duration": 26,
    "start_time": "2022-12-13T12:43:44.187Z"
   },
   {
    "duration": 3,
    "start_time": "2022-12-13T12:44:27.689Z"
   },
   {
    "duration": 3,
    "start_time": "2022-12-13T12:44:29.877Z"
   },
   {
    "duration": 27,
    "start_time": "2022-12-13T12:44:32.631Z"
   },
   {
    "duration": 3,
    "start_time": "2022-12-13T12:45:43.561Z"
   },
   {
    "duration": 3,
    "start_time": "2022-12-13T12:45:45.105Z"
   },
   {
    "duration": 6541,
    "start_time": "2022-12-13T12:45:47.559Z"
   },
   {
    "duration": 4,
    "start_time": "2022-12-13T12:47:06.336Z"
   },
   {
    "duration": 4,
    "start_time": "2022-12-13T12:47:53.950Z"
   },
   {
    "duration": 8541,
    "start_time": "2022-12-13T12:47:56.462Z"
   },
   {
    "duration": 5,
    "start_time": "2022-12-13T12:48:05.005Z"
   },
   {
    "duration": 3,
    "start_time": "2022-12-13T12:59:25.056Z"
   },
   {
    "duration": 99,
    "start_time": "2022-12-13T12:59:56.775Z"
   },
   {
    "duration": 11,
    "start_time": "2022-12-13T13:03:12.165Z"
   },
   {
    "duration": 8,
    "start_time": "2022-12-13T13:04:05.483Z"
   },
   {
    "duration": 4837,
    "start_time": "2022-12-13T13:08:46.020Z"
   },
   {
    "duration": 13,
    "start_time": "2022-12-13T13:09:16.045Z"
   },
   {
    "duration": 1531,
    "start_time": "2022-12-13T13:10:35.325Z"
   },
   {
    "duration": 42,
    "start_time": "2022-12-13T13:10:36.858Z"
   },
   {
    "duration": 5,
    "start_time": "2022-12-13T13:10:36.902Z"
   },
   {
    "duration": 18,
    "start_time": "2022-12-13T13:10:36.910Z"
   },
   {
    "duration": 49,
    "start_time": "2022-12-13T13:10:36.930Z"
   },
   {
    "duration": 14,
    "start_time": "2022-12-13T13:10:36.981Z"
   },
   {
    "duration": 5,
    "start_time": "2022-12-13T13:10:36.997Z"
   },
   {
    "duration": 17,
    "start_time": "2022-12-13T13:10:37.004Z"
   },
   {
    "duration": 9,
    "start_time": "2022-12-13T13:10:37.038Z"
   },
   {
    "duration": 35,
    "start_time": "2022-12-13T13:10:37.050Z"
   },
   {
    "duration": 16,
    "start_time": "2022-12-13T13:10:37.087Z"
   },
   {
    "duration": 16,
    "start_time": "2022-12-13T13:10:37.106Z"
   },
   {
    "duration": 7,
    "start_time": "2022-12-13T13:10:37.124Z"
   },
   {
    "duration": 8,
    "start_time": "2022-12-13T13:10:37.133Z"
   },
   {
    "duration": 26,
    "start_time": "2022-12-13T13:10:37.155Z"
   },
   {
    "duration": 8,
    "start_time": "2022-12-13T13:10:37.183Z"
   },
   {
    "duration": 23,
    "start_time": "2022-12-13T13:10:37.193Z"
   },
   {
    "duration": 16,
    "start_time": "2022-12-13T13:10:37.218Z"
   },
   {
    "duration": 11,
    "start_time": "2022-12-13T13:10:37.236Z"
   },
   {
    "duration": 182,
    "start_time": "2022-12-13T13:10:37.249Z"
   },
   {
    "duration": 41,
    "start_time": "2022-12-13T13:10:37.433Z"
   },
   {
    "duration": 8,
    "start_time": "2022-12-13T13:10:37.478Z"
   },
   {
    "duration": 22,
    "start_time": "2022-12-13T13:10:37.489Z"
   },
   {
    "duration": 6,
    "start_time": "2022-12-13T13:10:37.513Z"
   },
   {
    "duration": 5,
    "start_time": "2022-12-13T13:10:37.520Z"
   },
   {
    "duration": 7,
    "start_time": "2022-12-13T13:10:37.526Z"
   },
   {
    "duration": 35,
    "start_time": "2022-12-13T13:10:37.537Z"
   },
   {
    "duration": 0,
    "start_time": "2022-12-13T13:10:37.574Z"
   },
   {
    "duration": 9053,
    "start_time": "2022-12-13T13:10:48.999Z"
   },
   {
    "duration": 5,
    "start_time": "2022-12-13T13:11:05.614Z"
   },
   {
    "duration": 4,
    "start_time": "2022-12-13T13:11:11.974Z"
   },
   {
    "duration": 125,
    "start_time": "2022-12-13T13:11:19.759Z"
   },
   {
    "duration": 9,
    "start_time": "2022-12-13T13:11:29.023Z"
   },
   {
    "duration": 5,
    "start_time": "2022-12-13T13:16:43.768Z"
   },
   {
    "duration": 6,
    "start_time": "2022-12-13T13:18:12.900Z"
   },
   {
    "duration": 10,
    "start_time": "2022-12-13T13:32:16.675Z"
   },
   {
    "duration": 9,
    "start_time": "2022-12-13T13:33:12.760Z"
   },
   {
    "duration": 15,
    "start_time": "2022-12-13T13:33:27.968Z"
   },
   {
    "duration": 18,
    "start_time": "2022-12-13T13:34:03.105Z"
   },
   {
    "duration": 121,
    "start_time": "2022-12-13T13:37:40.219Z"
   },
   {
    "duration": 162,
    "start_time": "2022-12-13T13:39:47.530Z"
   },
   {
    "duration": 226,
    "start_time": "2022-12-13T13:40:35.018Z"
   },
   {
    "duration": 1650,
    "start_time": "2022-12-13T13:41:38.453Z"
   },
   {
    "duration": 53,
    "start_time": "2022-12-13T13:41:40.106Z"
   },
   {
    "duration": 7,
    "start_time": "2022-12-13T13:41:40.168Z"
   },
   {
    "duration": 17,
    "start_time": "2022-12-13T13:41:40.178Z"
   },
   {
    "duration": 44,
    "start_time": "2022-12-13T13:41:40.198Z"
   },
   {
    "duration": 19,
    "start_time": "2022-12-13T13:41:40.244Z"
   },
   {
    "duration": 18,
    "start_time": "2022-12-13T13:41:40.265Z"
   },
   {
    "duration": 23,
    "start_time": "2022-12-13T13:41:40.285Z"
   },
   {
    "duration": 6,
    "start_time": "2022-12-13T13:41:40.310Z"
   },
   {
    "duration": 7,
    "start_time": "2022-12-13T13:41:40.318Z"
   },
   {
    "duration": 19,
    "start_time": "2022-12-13T13:41:40.327Z"
   },
   {
    "duration": 30,
    "start_time": "2022-12-13T13:41:40.349Z"
   },
   {
    "duration": 16,
    "start_time": "2022-12-13T13:41:40.381Z"
   },
   {
    "duration": 6,
    "start_time": "2022-12-13T13:41:40.400Z"
   },
   {
    "duration": 7,
    "start_time": "2022-12-13T13:41:40.408Z"
   },
   {
    "duration": 11,
    "start_time": "2022-12-13T13:41:40.416Z"
   },
   {
    "duration": 32,
    "start_time": "2022-12-13T13:41:40.429Z"
   },
   {
    "duration": 20,
    "start_time": "2022-12-13T13:41:40.462Z"
   },
   {
    "duration": 5,
    "start_time": "2022-12-13T13:41:40.484Z"
   },
   {
    "duration": 178,
    "start_time": "2022-12-13T13:41:40.490Z"
   },
   {
    "duration": 27,
    "start_time": "2022-12-13T13:41:40.670Z"
   },
   {
    "duration": 4,
    "start_time": "2022-12-13T13:41:40.699Z"
   },
   {
    "duration": 13,
    "start_time": "2022-12-13T13:41:40.705Z"
   },
   {
    "duration": 27,
    "start_time": "2022-12-13T13:41:40.720Z"
   },
   {
    "duration": 25,
    "start_time": "2022-12-13T13:41:40.749Z"
   },
   {
    "duration": 9,
    "start_time": "2022-12-13T13:41:40.777Z"
   },
   {
    "duration": 8460,
    "start_time": "2022-12-13T13:41:40.788Z"
   },
   {
    "duration": 5,
    "start_time": "2022-12-13T13:41:49.250Z"
   },
   {
    "duration": 26,
    "start_time": "2022-12-13T13:41:49.257Z"
   },
   {
    "duration": 18,
    "start_time": "2022-12-13T13:41:49.285Z"
   },
   {
    "duration": 6,
    "start_time": "2022-12-13T13:41:49.304Z"
   },
   {
    "duration": 13,
    "start_time": "2022-12-13T13:41:49.312Z"
   },
   {
    "duration": 5,
    "start_time": "2022-12-13T13:41:49.327Z"
   },
   {
    "duration": 158,
    "start_time": "2022-12-13T13:42:01.518Z"
   },
   {
    "duration": 105,
    "start_time": "2022-12-13T13:45:17.572Z"
   },
   {
    "duration": 165,
    "start_time": "2022-12-13T13:46:09.805Z"
   },
   {
    "duration": 270,
    "start_time": "2022-12-13T13:47:14.645Z"
   },
   {
    "duration": 247,
    "start_time": "2022-12-13T13:47:55.582Z"
   },
   {
    "duration": 164,
    "start_time": "2022-12-13T13:48:26.420Z"
   },
   {
    "duration": 82,
    "start_time": "2022-12-13T14:11:16.196Z"
   },
   {
    "duration": 10,
    "start_time": "2022-12-13T14:11:29.355Z"
   },
   {
    "duration": 3,
    "start_time": "2022-12-13T14:14:49.377Z"
   },
   {
    "duration": 22,
    "start_time": "2022-12-13T14:14:53.853Z"
   },
   {
    "duration": 4,
    "start_time": "2022-12-13T14:18:19.629Z"
   },
   {
    "duration": 10,
    "start_time": "2022-12-13T14:18:22.402Z"
   },
   {
    "duration": 1413,
    "start_time": "2022-12-13T15:25:00.150Z"
   },
   {
    "duration": 43,
    "start_time": "2022-12-13T15:25:01.565Z"
   },
   {
    "duration": 5,
    "start_time": "2022-12-13T15:25:01.610Z"
   },
   {
    "duration": 29,
    "start_time": "2022-12-13T15:25:01.617Z"
   },
   {
    "duration": 42,
    "start_time": "2022-12-13T15:25:01.648Z"
   },
   {
    "duration": 15,
    "start_time": "2022-12-13T15:25:01.692Z"
   },
   {
    "duration": 31,
    "start_time": "2022-12-13T15:25:01.709Z"
   },
   {
    "duration": 23,
    "start_time": "2022-12-13T15:25:01.742Z"
   },
   {
    "duration": 6,
    "start_time": "2022-12-13T15:25:01.766Z"
   },
   {
    "duration": 9,
    "start_time": "2022-12-13T15:25:01.775Z"
   },
   {
    "duration": 14,
    "start_time": "2022-12-13T15:25:01.785Z"
   },
   {
    "duration": 13,
    "start_time": "2022-12-13T15:25:01.801Z"
   },
   {
    "duration": 23,
    "start_time": "2022-12-13T15:25:01.815Z"
   },
   {
    "duration": 11,
    "start_time": "2022-12-13T15:25:01.839Z"
   },
   {
    "duration": 22,
    "start_time": "2022-12-13T15:25:01.852Z"
   },
   {
    "duration": 36,
    "start_time": "2022-12-13T15:25:01.877Z"
   },
   {
    "duration": 20,
    "start_time": "2022-12-13T15:25:01.915Z"
   },
   {
    "duration": 118,
    "start_time": "2022-12-13T15:25:01.938Z"
   },
   {
    "duration": 11,
    "start_time": "2022-12-13T15:25:02.058Z"
   },
   {
    "duration": 176,
    "start_time": "2022-12-13T15:25:02.071Z"
   },
   {
    "duration": 35,
    "start_time": "2022-12-13T15:25:02.250Z"
   },
   {
    "duration": 5,
    "start_time": "2022-12-13T15:25:02.287Z"
   },
   {
    "duration": 12,
    "start_time": "2022-12-13T15:25:02.294Z"
   },
   {
    "duration": 31,
    "start_time": "2022-12-13T15:25:02.308Z"
   },
   {
    "duration": 3,
    "start_time": "2022-12-13T15:25:13.704Z"
   },
   {
    "duration": 3,
    "start_time": "2022-12-13T15:25:18.340Z"
   },
   {
    "duration": 3,
    "start_time": "2022-12-13T15:26:03.316Z"
   },
   {
    "duration": 6,
    "start_time": "2022-12-14T12:54:58.313Z"
   },
   {
    "duration": 69,
    "start_time": "2022-12-14T12:54:58.321Z"
   },
   {
    "duration": 6,
    "start_time": "2022-12-14T12:54:58.392Z"
   },
   {
    "duration": 24,
    "start_time": "2022-12-14T12:54:58.400Z"
   },
   {
    "duration": 62,
    "start_time": "2022-12-14T12:54:58.427Z"
   },
   {
    "duration": 11,
    "start_time": "2022-12-14T12:54:58.491Z"
   },
   {
    "duration": 5,
    "start_time": "2022-12-14T12:54:58.504Z"
   },
   {
    "duration": 11,
    "start_time": "2022-12-14T12:54:58.511Z"
   },
   {
    "duration": 9,
    "start_time": "2022-12-14T12:54:58.524Z"
   },
   {
    "duration": 8,
    "start_time": "2022-12-14T12:54:58.535Z"
   },
   {
    "duration": 39,
    "start_time": "2022-12-14T12:54:58.545Z"
   },
   {
    "duration": 122,
    "start_time": "2022-12-14T12:54:58.586Z"
   },
   {
    "duration": 19,
    "start_time": "2022-12-14T12:54:58.711Z"
   },
   {
    "duration": 5,
    "start_time": "2022-12-14T12:54:58.731Z"
   },
   {
    "duration": 7,
    "start_time": "2022-12-14T12:54:58.737Z"
   },
   {
    "duration": 5,
    "start_time": "2022-12-14T12:54:58.746Z"
   },
   {
    "duration": 13,
    "start_time": "2022-12-14T12:54:58.753Z"
   },
   {
    "duration": 18,
    "start_time": "2022-12-14T12:54:58.768Z"
   },
   {
    "duration": 4,
    "start_time": "2022-12-14T12:54:58.788Z"
   },
   {
    "duration": 149,
    "start_time": "2022-12-14T12:54:58.794Z"
   },
   {
    "duration": 34,
    "start_time": "2022-12-14T12:54:58.945Z"
   },
   {
    "duration": 4,
    "start_time": "2022-12-14T12:54:58.981Z"
   },
   {
    "duration": 13,
    "start_time": "2022-12-14T12:54:58.987Z"
   },
   {
    "duration": 10,
    "start_time": "2022-12-14T12:54:59.001Z"
   },
   {
    "duration": 7,
    "start_time": "2022-12-14T12:54:59.013Z"
   },
   {
    "duration": 7,
    "start_time": "2022-12-14T12:54:59.022Z"
   },
   {
    "duration": 7936,
    "start_time": "2022-12-14T12:54:59.030Z"
   },
   {
    "duration": 4,
    "start_time": "2022-12-14T12:55:06.968Z"
   },
   {
    "duration": 2,
    "start_time": "2022-12-14T12:55:06.978Z"
   },
   {
    "duration": 12,
    "start_time": "2022-12-14T12:55:06.982Z"
   },
   {
    "duration": 5,
    "start_time": "2022-12-14T12:55:06.996Z"
   },
   {
    "duration": 8,
    "start_time": "2022-12-14T12:55:07.002Z"
   },
   {
    "duration": 12,
    "start_time": "2022-12-14T12:55:07.012Z"
   },
   {
    "duration": 8,
    "start_time": "2022-12-14T12:55:07.026Z"
   },
   {
    "duration": 153,
    "start_time": "2022-12-14T12:55:07.036Z"
   },
   {
    "duration": 2,
    "start_time": "2022-12-14T12:55:07.192Z"
   },
   {
    "duration": 81,
    "start_time": "2022-12-14T12:55:18.142Z"
   },
   {
    "duration": 4,
    "start_time": "2022-12-14T12:55:36.974Z"
   },
   {
    "duration": 4,
    "start_time": "2022-12-14T12:56:32.596Z"
   },
   {
    "duration": 20865,
    "start_time": "2022-12-14T12:57:08.813Z"
   },
   {
    "duration": 1485,
    "start_time": "2022-12-14T13:06:05.052Z"
   },
   {
    "duration": 44,
    "start_time": "2022-12-14T13:06:06.539Z"
   },
   {
    "duration": 6,
    "start_time": "2022-12-14T13:06:06.585Z"
   },
   {
    "duration": 20,
    "start_time": "2022-12-14T13:06:06.594Z"
   },
   {
    "duration": 40,
    "start_time": "2022-12-14T13:06:06.616Z"
   },
   {
    "duration": 32,
    "start_time": "2022-12-14T13:06:06.658Z"
   },
   {
    "duration": 5,
    "start_time": "2022-12-14T13:06:06.692Z"
   },
   {
    "duration": 22,
    "start_time": "2022-12-14T13:06:06.699Z"
   },
   {
    "duration": 10,
    "start_time": "2022-12-14T13:06:06.723Z"
   },
   {
    "duration": 16,
    "start_time": "2022-12-14T13:06:06.736Z"
   },
   {
    "duration": 28,
    "start_time": "2022-12-14T13:06:06.754Z"
   },
   {
    "duration": 12,
    "start_time": "2022-12-14T13:06:06.784Z"
   },
   {
    "duration": 12,
    "start_time": "2022-12-14T13:06:06.798Z"
   },
   {
    "duration": 5,
    "start_time": "2022-12-14T13:06:06.813Z"
   },
   {
    "duration": 10,
    "start_time": "2022-12-14T13:06:06.819Z"
   },
   {
    "duration": 12,
    "start_time": "2022-12-14T13:06:06.831Z"
   },
   {
    "duration": 20,
    "start_time": "2022-12-14T13:06:06.844Z"
   },
   {
    "duration": 25,
    "start_time": "2022-12-14T13:06:06.866Z"
   },
   {
    "duration": 6,
    "start_time": "2022-12-14T13:06:06.893Z"
   },
   {
    "duration": 172,
    "start_time": "2022-12-14T13:06:06.901Z"
   },
   {
    "duration": 26,
    "start_time": "2022-12-14T13:06:07.078Z"
   },
   {
    "duration": 4,
    "start_time": "2022-12-14T13:06:07.106Z"
   },
   {
    "duration": 16,
    "start_time": "2022-12-14T13:06:07.112Z"
   },
   {
    "duration": 6,
    "start_time": "2022-12-14T13:06:07.130Z"
   },
   {
    "duration": 11,
    "start_time": "2022-12-14T13:06:07.138Z"
   },
   {
    "duration": 18,
    "start_time": "2022-12-14T13:06:07.150Z"
   },
   {
    "duration": 8180,
    "start_time": "2022-12-14T13:06:07.169Z"
   },
   {
    "duration": 3,
    "start_time": "2022-12-14T13:06:15.353Z"
   },
   {
    "duration": 10,
    "start_time": "2022-12-14T13:06:15.358Z"
   },
   {
    "duration": 12,
    "start_time": "2022-12-14T13:06:15.369Z"
   },
   {
    "duration": 6,
    "start_time": "2022-12-14T13:06:15.382Z"
   },
   {
    "duration": 10,
    "start_time": "2022-12-14T13:06:15.390Z"
   },
   {
    "duration": 5,
    "start_time": "2022-12-14T13:06:15.402Z"
   },
   {
    "duration": 19,
    "start_time": "2022-12-14T13:06:15.409Z"
   },
   {
    "duration": 154,
    "start_time": "2022-12-14T13:06:15.430Z"
   },
   {
    "duration": 3,
    "start_time": "2022-12-14T13:06:15.586Z"
   },
   {
    "duration": 6,
    "start_time": "2022-12-14T13:06:15.591Z"
   },
   {
    "duration": 15054,
    "start_time": "2022-12-14T13:06:24.925Z"
   },
   {
    "duration": 4,
    "start_time": "2022-12-14T13:07:43.668Z"
   },
   {
    "duration": 11,
    "start_time": "2022-12-14T13:09:13.189Z"
   },
   {
    "duration": 9,
    "start_time": "2022-12-14T13:10:04.715Z"
   },
   {
    "duration": 14,
    "start_time": "2022-12-14T13:11:20.323Z"
   },
   {
    "duration": 6,
    "start_time": "2022-12-14T13:13:01.223Z"
   },
   {
    "duration": 160,
    "start_time": "2022-12-14T13:13:03.171Z"
   },
   {
    "duration": 1431,
    "start_time": "2022-12-14T13:13:43.560Z"
   },
   {
    "duration": 42,
    "start_time": "2022-12-14T13:13:44.993Z"
   },
   {
    "duration": 5,
    "start_time": "2022-12-14T13:13:45.037Z"
   },
   {
    "duration": 22,
    "start_time": "2022-12-14T13:13:45.045Z"
   },
   {
    "duration": 40,
    "start_time": "2022-12-14T13:13:45.072Z"
   },
   {
    "duration": 14,
    "start_time": "2022-12-14T13:13:45.114Z"
   },
   {
    "duration": 10,
    "start_time": "2022-12-14T13:13:45.130Z"
   },
   {
    "duration": 20,
    "start_time": "2022-12-14T13:13:45.141Z"
   },
   {
    "duration": 19,
    "start_time": "2022-12-14T13:13:45.163Z"
   },
   {
    "duration": 7,
    "start_time": "2022-12-14T13:13:45.184Z"
   },
   {
    "duration": 19,
    "start_time": "2022-12-14T13:13:45.193Z"
   },
   {
    "duration": 14,
    "start_time": "2022-12-14T13:13:45.214Z"
   },
   {
    "duration": 46,
    "start_time": "2022-12-14T13:13:45.230Z"
   },
   {
    "duration": 5,
    "start_time": "2022-12-14T13:13:45.280Z"
   },
   {
    "duration": 9,
    "start_time": "2022-12-14T13:13:45.286Z"
   },
   {
    "duration": 8,
    "start_time": "2022-12-14T13:13:45.297Z"
   },
   {
    "duration": 21,
    "start_time": "2022-12-14T13:13:45.307Z"
   },
   {
    "duration": 13,
    "start_time": "2022-12-14T13:13:45.330Z"
   },
   {
    "duration": 5,
    "start_time": "2022-12-14T13:13:45.345Z"
   },
   {
    "duration": 169,
    "start_time": "2022-12-14T13:13:45.351Z"
   },
   {
    "duration": 24,
    "start_time": "2022-12-14T13:13:45.522Z"
   },
   {
    "duration": 3,
    "start_time": "2022-12-14T13:13:45.548Z"
   },
   {
    "duration": 24,
    "start_time": "2022-12-14T13:13:45.553Z"
   },
   {
    "duration": 3,
    "start_time": "2022-12-14T13:13:45.579Z"
   },
   {
    "duration": 9,
    "start_time": "2022-12-14T13:13:45.583Z"
   },
   {
    "duration": 5,
    "start_time": "2022-12-14T13:13:45.593Z"
   },
   {
    "duration": 8055,
    "start_time": "2022-12-14T13:13:45.600Z"
   },
   {
    "duration": 4,
    "start_time": "2022-12-14T13:13:53.657Z"
   },
   {
    "duration": 7,
    "start_time": "2022-12-14T13:13:53.662Z"
   },
   {
    "duration": 12,
    "start_time": "2022-12-14T13:13:53.670Z"
   },
   {
    "duration": 6,
    "start_time": "2022-12-14T13:13:53.683Z"
   },
   {
    "duration": 9,
    "start_time": "2022-12-14T13:13:53.691Z"
   },
   {
    "duration": 5,
    "start_time": "2022-12-14T13:13:53.701Z"
   },
   {
    "duration": 7,
    "start_time": "2022-12-14T13:13:53.708Z"
   },
   {
    "duration": 198,
    "start_time": "2022-12-14T13:13:53.716Z"
   },
   {
    "duration": 4,
    "start_time": "2022-12-14T13:13:53.917Z"
   },
   {
    "duration": 7,
    "start_time": "2022-12-14T13:13:53.924Z"
   },
   {
    "duration": 19153,
    "start_time": "2022-12-14T13:13:53.935Z"
   },
   {
    "duration": 6,
    "start_time": "2022-12-14T13:14:13.090Z"
   },
   {
    "duration": 134,
    "start_time": "2022-12-14T13:14:13.179Z"
   },
   {
    "duration": 134,
    "start_time": "2022-12-14T13:14:13.377Z"
   },
   {
    "duration": 169,
    "start_time": "2022-12-14T13:14:13.513Z"
   },
   {
    "duration": 273,
    "start_time": "2022-12-14T13:14:13.685Z"
   },
   {
    "duration": 17,
    "start_time": "2022-12-14T13:15:39.277Z"
   },
   {
    "duration": 151,
    "start_time": "2022-12-14T13:15:43.002Z"
   },
   {
    "duration": 3,
    "start_time": "2022-12-14T14:23:38.370Z"
   },
   {
    "duration": 119,
    "start_time": "2022-12-14T14:23:41.616Z"
   },
   {
    "duration": 4,
    "start_time": "2022-12-14T14:23:58.453Z"
   },
   {
    "duration": 18599,
    "start_time": "2022-12-14T14:24:02.328Z"
   },
   {
    "duration": 4,
    "start_time": "2022-12-14T14:25:00.501Z"
   },
   {
    "duration": 30,
    "start_time": "2022-12-14T14:27:04.410Z"
   },
   {
    "duration": 33,
    "start_time": "2022-12-14T14:28:08.482Z"
   },
   {
    "duration": 1550,
    "start_time": "2022-12-14T14:29:23.199Z"
   },
   {
    "duration": 43,
    "start_time": "2022-12-14T14:29:24.751Z"
   },
   {
    "duration": 4,
    "start_time": "2022-12-14T14:29:24.796Z"
   },
   {
    "duration": 21,
    "start_time": "2022-12-14T14:29:24.802Z"
   },
   {
    "duration": 55,
    "start_time": "2022-12-14T14:29:24.824Z"
   },
   {
    "duration": 14,
    "start_time": "2022-12-14T14:29:24.880Z"
   },
   {
    "duration": 8,
    "start_time": "2022-12-14T14:29:24.896Z"
   },
   {
    "duration": 14,
    "start_time": "2022-12-14T14:29:24.906Z"
   },
   {
    "duration": 7,
    "start_time": "2022-12-14T14:29:24.922Z"
   },
   {
    "duration": 6,
    "start_time": "2022-12-14T14:29:24.932Z"
   },
   {
    "duration": 41,
    "start_time": "2022-12-14T14:29:24.940Z"
   },
   {
    "duration": 14,
    "start_time": "2022-12-14T14:29:24.983Z"
   },
   {
    "duration": 14,
    "start_time": "2022-12-14T14:29:25.000Z"
   },
   {
    "duration": 13,
    "start_time": "2022-12-14T14:29:25.016Z"
   },
   {
    "duration": 19,
    "start_time": "2022-12-14T14:29:25.031Z"
   },
   {
    "duration": 30,
    "start_time": "2022-12-14T14:29:25.052Z"
   },
   {
    "duration": 40,
    "start_time": "2022-12-14T14:29:25.084Z"
   },
   {
    "duration": 24,
    "start_time": "2022-12-14T14:29:25.126Z"
   },
   {
    "duration": 7,
    "start_time": "2022-12-14T14:29:25.152Z"
   },
   {
    "duration": 159,
    "start_time": "2022-12-14T14:29:25.161Z"
   },
   {
    "duration": 25,
    "start_time": "2022-12-14T14:29:25.322Z"
   },
   {
    "duration": 5,
    "start_time": "2022-12-14T14:29:25.349Z"
   },
   {
    "duration": 22,
    "start_time": "2022-12-14T14:29:25.356Z"
   },
   {
    "duration": 10,
    "start_time": "2022-12-14T14:29:25.380Z"
   },
   {
    "duration": 12,
    "start_time": "2022-12-14T14:29:25.392Z"
   },
   {
    "duration": 7,
    "start_time": "2022-12-14T14:29:25.407Z"
   },
   {
    "duration": 178,
    "start_time": "2022-12-14T14:29:25.416Z"
   },
   {
    "duration": 15,
    "start_time": "2022-12-14T14:29:25.597Z"
   },
   {
    "duration": 0,
    "start_time": "2022-12-14T14:29:25.615Z"
   },
   {
    "duration": 0,
    "start_time": "2022-12-14T14:29:25.616Z"
   },
   {
    "duration": 0,
    "start_time": "2022-12-14T14:29:25.618Z"
   },
   {
    "duration": 0,
    "start_time": "2022-12-14T14:29:25.620Z"
   },
   {
    "duration": 0,
    "start_time": "2022-12-14T14:29:25.621Z"
   },
   {
    "duration": 1,
    "start_time": "2022-12-14T14:29:25.622Z"
   },
   {
    "duration": 0,
    "start_time": "2022-12-14T14:29:25.624Z"
   },
   {
    "duration": 0,
    "start_time": "2022-12-14T14:29:25.626Z"
   },
   {
    "duration": 1,
    "start_time": "2022-12-14T14:29:25.627Z"
   },
   {
    "duration": 0,
    "start_time": "2022-12-14T14:29:25.629Z"
   },
   {
    "duration": 0,
    "start_time": "2022-12-14T14:29:25.631Z"
   },
   {
    "duration": 0,
    "start_time": "2022-12-14T14:29:25.633Z"
   },
   {
    "duration": 0,
    "start_time": "2022-12-14T14:29:25.634Z"
   },
   {
    "duration": 0,
    "start_time": "2022-12-14T14:29:25.635Z"
   },
   {
    "duration": 0,
    "start_time": "2022-12-14T14:29:25.637Z"
   },
   {
    "duration": 0,
    "start_time": "2022-12-14T14:29:25.639Z"
   },
   {
    "duration": 0,
    "start_time": "2022-12-14T14:29:25.640Z"
   },
   {
    "duration": 0,
    "start_time": "2022-12-14T14:29:25.642Z"
   },
   {
    "duration": 0,
    "start_time": "2022-12-14T14:29:25.679Z"
   },
   {
    "duration": 0,
    "start_time": "2022-12-14T14:29:25.681Z"
   },
   {
    "duration": 0,
    "start_time": "2022-12-14T14:29:25.683Z"
   },
   {
    "duration": 3,
    "start_time": "2022-12-14T14:36:18.967Z"
   },
   {
    "duration": 8187,
    "start_time": "2022-12-14T14:36:21.891Z"
   },
   {
    "duration": 4,
    "start_time": "2022-12-14T14:36:40.658Z"
   },
   {
    "duration": 2,
    "start_time": "2022-12-14T14:36:58.136Z"
   },
   {
    "duration": 10,
    "start_time": "2022-12-14T14:36:58.146Z"
   },
   {
    "duration": 6,
    "start_time": "2022-12-14T14:36:58.175Z"
   },
   {
    "duration": 9,
    "start_time": "2022-12-14T14:36:58.183Z"
   },
   {
    "duration": 7,
    "start_time": "2022-12-14T14:36:58.194Z"
   },
   {
    "duration": 5,
    "start_time": "2022-12-14T14:36:58.213Z"
   },
   {
    "duration": 228,
    "start_time": "2022-12-14T14:36:58.221Z"
   },
   {
    "duration": 3,
    "start_time": "2022-12-14T14:36:58.451Z"
   },
   {
    "duration": 19,
    "start_time": "2022-12-14T14:36:58.457Z"
   },
   {
    "duration": 18703,
    "start_time": "2022-12-14T14:36:58.478Z"
   },
   {
    "duration": 96,
    "start_time": "2022-12-14T14:37:17.183Z"
   },
   {
    "duration": 21,
    "start_time": "2022-12-14T14:37:17.281Z"
   },
   {
    "duration": 186,
    "start_time": "2022-12-14T14:37:17.304Z"
   },
   {
    "duration": 192,
    "start_time": "2022-12-14T14:37:17.495Z"
   },
   {
    "duration": 396,
    "start_time": "2022-12-14T14:37:17.691Z"
   },
   {
    "duration": 3,
    "start_time": "2022-12-14T14:37:18.090Z"
   },
   {
    "duration": 51,
    "start_time": "2022-12-14T14:37:18.096Z"
   },
   {
    "duration": 19215,
    "start_time": "2022-12-14T14:37:18.150Z"
   },
   {
    "duration": 4,
    "start_time": "2022-12-14T14:37:37.367Z"
   },
   {
    "duration": 26,
    "start_time": "2022-12-14T14:37:37.378Z"
   },
   {
    "duration": 38,
    "start_time": "2022-12-14T14:37:37.406Z"
   },
   {
    "duration": 1505,
    "start_time": "2022-12-15T08:09:08.103Z"
   },
   {
    "duration": 165,
    "start_time": "2022-12-15T08:09:09.610Z"
   },
   {
    "duration": 4,
    "start_time": "2022-12-15T08:09:09.777Z"
   },
   {
    "duration": 23,
    "start_time": "2022-12-15T08:09:09.783Z"
   },
   {
    "duration": 35,
    "start_time": "2022-12-15T08:09:09.808Z"
   },
   {
    "duration": 10,
    "start_time": "2022-12-15T08:09:09.844Z"
   },
   {
    "duration": 29,
    "start_time": "2022-12-15T08:09:09.856Z"
   },
   {
    "duration": 34,
    "start_time": "2022-12-15T08:09:09.887Z"
   },
   {
    "duration": 17,
    "start_time": "2022-12-15T08:09:09.923Z"
   },
   {
    "duration": 44,
    "start_time": "2022-12-15T08:09:09.941Z"
   },
   {
    "duration": 44,
    "start_time": "2022-12-15T08:09:09.987Z"
   },
   {
    "duration": 32,
    "start_time": "2022-12-15T08:09:10.033Z"
   },
   {
    "duration": 32,
    "start_time": "2022-12-15T08:09:10.066Z"
   },
   {
    "duration": 23,
    "start_time": "2022-12-15T08:09:10.101Z"
   },
   {
    "duration": 19,
    "start_time": "2022-12-15T08:09:10.126Z"
   },
   {
    "duration": 26,
    "start_time": "2022-12-15T08:09:10.146Z"
   },
   {
    "duration": 29,
    "start_time": "2022-12-15T08:09:10.174Z"
   },
   {
    "duration": 36,
    "start_time": "2022-12-15T08:09:10.205Z"
   },
   {
    "duration": 32,
    "start_time": "2022-12-15T08:09:10.243Z"
   },
   {
    "duration": 169,
    "start_time": "2022-12-15T08:09:10.276Z"
   },
   {
    "duration": 22,
    "start_time": "2022-12-15T08:09:10.446Z"
   },
   {
    "duration": 16,
    "start_time": "2022-12-15T08:09:10.470Z"
   },
   {
    "duration": 32,
    "start_time": "2022-12-15T08:09:10.488Z"
   },
   {
    "duration": 14,
    "start_time": "2022-12-15T08:09:10.521Z"
   },
   {
    "duration": 35,
    "start_time": "2022-12-15T08:09:10.536Z"
   },
   {
    "duration": 41,
    "start_time": "2022-12-15T08:09:10.573Z"
   },
   {
    "duration": 7114,
    "start_time": "2022-12-15T08:09:10.616Z"
   },
   {
    "duration": 4,
    "start_time": "2022-12-15T08:09:17.732Z"
   },
   {
    "duration": 11,
    "start_time": "2022-12-15T08:09:17.737Z"
   },
   {
    "duration": 17,
    "start_time": "2022-12-15T08:09:17.750Z"
   },
   {
    "duration": 12,
    "start_time": "2022-12-15T08:09:17.768Z"
   },
   {
    "duration": 14,
    "start_time": "2022-12-15T08:09:17.782Z"
   },
   {
    "duration": 7,
    "start_time": "2022-12-15T08:09:17.797Z"
   },
   {
    "duration": 8,
    "start_time": "2022-12-15T08:09:17.806Z"
   },
   {
    "duration": 132,
    "start_time": "2022-12-15T08:09:17.815Z"
   },
   {
    "duration": 3,
    "start_time": "2022-12-15T08:09:17.948Z"
   },
   {
    "duration": 13,
    "start_time": "2022-12-15T08:09:17.952Z"
   },
   {
    "duration": 13312,
    "start_time": "2022-12-15T08:09:17.967Z"
   },
   {
    "duration": 4,
    "start_time": "2022-12-15T08:09:31.281Z"
   },
   {
    "duration": 123,
    "start_time": "2022-12-15T08:09:31.286Z"
   },
   {
    "duration": 71,
    "start_time": "2022-12-15T08:09:31.414Z"
   },
   {
    "duration": 97,
    "start_time": "2022-12-15T08:09:31.487Z"
   },
   {
    "duration": 334,
    "start_time": "2022-12-15T08:09:31.586Z"
   },
   {
    "duration": 2,
    "start_time": "2022-12-15T08:09:31.922Z"
   },
   {
    "duration": 10,
    "start_time": "2022-12-15T08:09:31.926Z"
   },
   {
    "duration": 68501,
    "start_time": "2022-12-15T08:09:31.938Z"
   },
   {
    "duration": 4,
    "start_time": "2022-12-15T08:10:40.441Z"
   },
   {
    "duration": 36,
    "start_time": "2022-12-15T08:10:40.447Z"
   },
   {
    "duration": 26,
    "start_time": "2022-12-15T08:11:06.963Z"
   },
   {
    "duration": 22,
    "start_time": "2022-12-15T08:11:13.302Z"
   },
   {
    "duration": 4,
    "start_time": "2022-12-15T08:11:51.422Z"
   },
   {
    "duration": 4,
    "start_time": "2022-12-15T08:12:09.102Z"
   },
   {
    "duration": 142158,
    "start_time": "2022-12-15T08:12:13.363Z"
   },
   {
    "duration": 4,
    "start_time": "2022-12-15T08:15:04.310Z"
   },
   {
    "duration": 22,
    "start_time": "2022-12-15T08:15:16.590Z"
   },
   {
    "duration": 26,
    "start_time": "2022-12-15T08:15:19.022Z"
   },
   {
    "duration": 69,
    "start_time": "2022-12-15T08:29:23.361Z"
   },
   {
    "duration": 74,
    "start_time": "2022-12-15T08:29:54.737Z"
   },
   {
    "duration": 91,
    "start_time": "2022-12-15T08:31:54.721Z"
   },
   {
    "duration": 3,
    "start_time": "2022-12-15T08:32:18.522Z"
   },
   {
    "duration": 129,
    "start_time": "2022-12-15T08:32:34.498Z"
   },
   {
    "duration": 16,
    "start_time": "2022-12-15T08:35:12.267Z"
   },
   {
    "duration": 16,
    "start_time": "2022-12-15T08:36:09.824Z"
   },
   {
    "duration": 27,
    "start_time": "2022-12-15T08:38:56.202Z"
   },
   {
    "duration": 3,
    "start_time": "2022-12-15T08:41:46.832Z"
   },
   {
    "duration": 66,
    "start_time": "2022-12-15T08:41:50.525Z"
   },
   {
    "duration": 69,
    "start_time": "2022-12-15T08:42:44.385Z"
   },
   {
    "duration": 70,
    "start_time": "2022-12-15T08:46:32.018Z"
   },
   {
    "duration": 71,
    "start_time": "2022-12-15T08:47:37.545Z"
   },
   {
    "duration": 91,
    "start_time": "2022-12-15T08:48:41.656Z"
   },
   {
    "duration": 69,
    "start_time": "2022-12-15T08:51:35.227Z"
   },
   {
    "duration": 70,
    "start_time": "2022-12-15T08:52:05.504Z"
   },
   {
    "duration": 8,
    "start_time": "2022-12-15T08:52:23.360Z"
   },
   {
    "duration": 15,
    "start_time": "2022-12-15T08:52:35.360Z"
   },
   {
    "duration": 3,
    "start_time": "2022-12-15T08:54:02.672Z"
   },
   {
    "duration": 12,
    "start_time": "2022-12-15T08:54:04.606Z"
   },
   {
    "duration": 1525,
    "start_time": "2022-12-15T11:19:48.975Z"
   },
   {
    "duration": 90,
    "start_time": "2022-12-15T11:19:50.502Z"
   },
   {
    "duration": 4,
    "start_time": "2022-12-15T11:19:50.594Z"
   },
   {
    "duration": 18,
    "start_time": "2022-12-15T11:19:50.600Z"
   },
   {
    "duration": 42,
    "start_time": "2022-12-15T11:19:50.620Z"
   },
   {
    "duration": 11,
    "start_time": "2022-12-15T11:19:50.664Z"
   },
   {
    "duration": 19,
    "start_time": "2022-12-15T11:19:50.677Z"
   },
   {
    "duration": 9,
    "start_time": "2022-12-15T11:19:50.698Z"
   },
   {
    "duration": 4,
    "start_time": "2022-12-15T11:19:50.709Z"
   },
   {
    "duration": 6,
    "start_time": "2022-12-15T11:19:50.715Z"
   },
   {
    "duration": 16,
    "start_time": "2022-12-15T11:19:50.722Z"
   },
   {
    "duration": 12,
    "start_time": "2022-12-15T11:19:50.739Z"
   },
   {
    "duration": 5,
    "start_time": "2022-12-15T11:19:50.753Z"
   },
   {
    "duration": 3,
    "start_time": "2022-12-15T11:19:50.761Z"
   },
   {
    "duration": 6,
    "start_time": "2022-12-15T11:19:50.795Z"
   },
   {
    "duration": 18,
    "start_time": "2022-12-15T11:19:50.803Z"
   },
   {
    "duration": 12,
    "start_time": "2022-12-15T11:19:50.823Z"
   },
   {
    "duration": 15,
    "start_time": "2022-12-15T11:19:50.836Z"
   },
   {
    "duration": 5,
    "start_time": "2022-12-15T11:19:50.852Z"
   },
   {
    "duration": 157,
    "start_time": "2022-12-15T11:19:50.858Z"
   },
   {
    "duration": 21,
    "start_time": "2022-12-15T11:19:51.017Z"
   },
   {
    "duration": 3,
    "start_time": "2022-12-15T11:19:51.040Z"
   },
   {
    "duration": 9,
    "start_time": "2022-12-15T11:19:51.045Z"
   },
   {
    "duration": 8,
    "start_time": "2022-12-15T11:19:51.055Z"
   },
   {
    "duration": 6,
    "start_time": "2022-12-15T11:19:51.065Z"
   },
   {
    "duration": 24,
    "start_time": "2022-12-15T11:19:51.073Z"
   },
   {
    "duration": 13,
    "start_time": "2022-12-15T11:19:51.098Z"
   },
   {
    "duration": 6424,
    "start_time": "2022-12-15T11:19:51.113Z"
   },
   {
    "duration": 4,
    "start_time": "2022-12-15T11:19:57.539Z"
   },
   {
    "duration": 5,
    "start_time": "2022-12-15T11:19:57.544Z"
   },
   {
    "duration": 9,
    "start_time": "2022-12-15T11:19:57.550Z"
   },
   {
    "duration": 5,
    "start_time": "2022-12-15T11:19:57.560Z"
   },
   {
    "duration": 12,
    "start_time": "2022-12-15T11:19:57.566Z"
   },
   {
    "duration": 21,
    "start_time": "2022-12-15T11:19:57.580Z"
   },
   {
    "duration": 6,
    "start_time": "2022-12-15T11:19:57.603Z"
   },
   {
    "duration": 132,
    "start_time": "2022-12-15T11:19:57.610Z"
   },
   {
    "duration": 3,
    "start_time": "2022-12-15T11:19:57.743Z"
   },
   {
    "duration": 5,
    "start_time": "2022-12-15T11:19:57.747Z"
   },
   {
    "duration": 3445,
    "start_time": "2022-12-15T11:19:57.753Z"
   },
   {
    "duration": 96,
    "start_time": "2022-12-15T11:20:01.201Z"
   },
   {
    "duration": 10,
    "start_time": "2022-12-15T11:20:01.300Z"
   },
   {
    "duration": 90,
    "start_time": "2022-12-15T11:20:01.312Z"
   },
   {
    "duration": 5,
    "start_time": "2022-12-15T11:20:01.404Z"
   },
   {
    "duration": 231,
    "start_time": "2022-12-15T11:20:01.496Z"
   },
   {
    "duration": 4,
    "start_time": "2022-12-15T11:20:01.728Z"
   },
   {
    "duration": 21,
    "start_time": "2022-12-15T11:20:01.733Z"
   },
   {
    "duration": 129149,
    "start_time": "2022-12-15T11:20:01.756Z"
   },
   {
    "duration": 3,
    "start_time": "2022-12-15T11:22:10.907Z"
   },
   {
    "duration": 17,
    "start_time": "2022-12-15T11:22:10.911Z"
   },
   {
    "duration": 15,
    "start_time": "2022-12-15T11:22:10.930Z"
   },
   {
    "duration": 1273,
    "start_time": "2022-12-15T11:27:06.640Z"
   },
   {
    "duration": 40,
    "start_time": "2022-12-15T11:27:07.915Z"
   },
   {
    "duration": 4,
    "start_time": "2022-12-15T11:27:07.957Z"
   },
   {
    "duration": 19,
    "start_time": "2022-12-15T11:27:07.963Z"
   },
   {
    "duration": 33,
    "start_time": "2022-12-15T11:27:07.984Z"
   },
   {
    "duration": 11,
    "start_time": "2022-12-15T11:27:08.019Z"
   },
   {
    "duration": 6,
    "start_time": "2022-12-15T11:27:08.032Z"
   },
   {
    "duration": 10,
    "start_time": "2022-12-15T11:27:08.039Z"
   },
   {
    "duration": 4,
    "start_time": "2022-12-15T11:27:08.051Z"
   },
   {
    "duration": 6,
    "start_time": "2022-12-15T11:27:08.058Z"
   },
   {
    "duration": 33,
    "start_time": "2022-12-15T11:27:08.066Z"
   },
   {
    "duration": 12,
    "start_time": "2022-12-15T11:27:08.101Z"
   },
   {
    "duration": 6,
    "start_time": "2022-12-15T11:27:08.115Z"
   },
   {
    "duration": 8,
    "start_time": "2022-12-15T11:27:08.123Z"
   },
   {
    "duration": 12,
    "start_time": "2022-12-15T11:27:08.133Z"
   },
   {
    "duration": 11,
    "start_time": "2022-12-15T11:27:08.147Z"
   },
   {
    "duration": 14,
    "start_time": "2022-12-15T11:27:08.160Z"
   },
   {
    "duration": 25,
    "start_time": "2022-12-15T11:27:08.176Z"
   },
   {
    "duration": 6,
    "start_time": "2022-12-15T11:27:08.203Z"
   },
   {
    "duration": 152,
    "start_time": "2022-12-15T11:27:08.210Z"
   },
   {
    "duration": 32,
    "start_time": "2022-12-15T11:27:08.364Z"
   },
   {
    "duration": 4,
    "start_time": "2022-12-15T11:27:08.398Z"
   },
   {
    "duration": 8,
    "start_time": "2022-12-15T11:27:08.403Z"
   },
   {
    "duration": 7,
    "start_time": "2022-12-15T11:27:08.412Z"
   },
   {
    "duration": 11,
    "start_time": "2022-12-15T11:27:08.420Z"
   },
   {
    "duration": 7,
    "start_time": "2022-12-15T11:27:08.433Z"
   },
   {
    "duration": 7006,
    "start_time": "2022-12-15T11:27:08.441Z"
   },
   {
    "duration": 4,
    "start_time": "2022-12-15T11:27:15.450Z"
   },
   {
    "duration": 5,
    "start_time": "2022-12-15T11:27:15.455Z"
   },
   {
    "duration": 18,
    "start_time": "2022-12-15T11:27:15.462Z"
   },
   {
    "duration": 6,
    "start_time": "2022-12-15T11:27:15.482Z"
   },
   {
    "duration": 13,
    "start_time": "2022-12-15T11:27:15.489Z"
   },
   {
    "duration": 5,
    "start_time": "2022-12-15T11:27:15.504Z"
   },
   {
    "duration": 7,
    "start_time": "2022-12-15T11:27:15.510Z"
   },
   {
    "duration": 128,
    "start_time": "2022-12-15T11:27:15.519Z"
   },
   {
    "duration": 2,
    "start_time": "2022-12-15T11:27:15.649Z"
   },
   {
    "duration": 7,
    "start_time": "2022-12-15T11:27:15.652Z"
   },
   {
    "duration": 12835,
    "start_time": "2022-12-15T11:27:15.660Z"
   },
   {
    "duration": 5,
    "start_time": "2022-12-15T11:27:28.498Z"
   },
   {
    "duration": 105,
    "start_time": "2022-12-15T11:27:28.505Z"
   },
   {
    "duration": 189,
    "start_time": "2022-12-15T11:27:28.612Z"
   },
   {
    "duration": 98,
    "start_time": "2022-12-15T11:27:28.807Z"
   },
   {
    "duration": 232,
    "start_time": "2022-12-15T11:27:28.997Z"
   },
   {
    "duration": 3,
    "start_time": "2022-12-15T11:27:29.230Z"
   },
   {
    "duration": 9,
    "start_time": "2022-12-15T11:27:29.235Z"
   },
   {
    "duration": 136091,
    "start_time": "2022-12-15T11:27:29.246Z"
   },
   {
    "duration": 4,
    "start_time": "2022-12-15T11:29:45.339Z"
   },
   {
    "duration": 26,
    "start_time": "2022-12-15T11:29:45.345Z"
   },
   {
    "duration": 40,
    "start_time": "2022-12-15T11:29:45.373Z"
   },
   {
    "duration": 3,
    "start_time": "2022-12-15T11:30:10.559Z"
   },
   {
    "duration": 12,
    "start_time": "2022-12-15T11:30:11.877Z"
   },
   {
    "duration": 108,
    "start_time": "2022-12-15T11:44:19.759Z"
   },
   {
    "duration": 19,
    "start_time": "2022-12-15T11:44:31.550Z"
   },
   {
    "duration": 5,
    "start_time": "2022-12-15T11:45:05.603Z"
   },
   {
    "duration": 17,
    "start_time": "2022-12-15T11:45:13.833Z"
   },
   {
    "duration": 18,
    "start_time": "2022-12-15T11:46:32.500Z"
   },
   {
    "duration": 6,
    "start_time": "2022-12-15T12:04:43.565Z"
   },
   {
    "duration": 7,
    "start_time": "2022-12-15T12:05:03.339Z"
   },
   {
    "duration": 7,
    "start_time": "2022-12-15T12:06:00.923Z"
   },
   {
    "duration": 9,
    "start_time": "2022-12-15T12:07:39.722Z"
   },
   {
    "duration": 9,
    "start_time": "2022-12-15T12:08:29.390Z"
   },
   {
    "duration": 10,
    "start_time": "2022-12-15T12:09:01.990Z"
   },
   {
    "duration": 21,
    "start_time": "2022-12-15T12:12:17.685Z"
   },
   {
    "duration": 6,
    "start_time": "2022-12-15T12:12:20.213Z"
   },
   {
    "duration": 47,
    "start_time": "2022-12-15T12:14:44.634Z"
   },
   {
    "duration": 15,
    "start_time": "2022-12-15T12:14:55.341Z"
   },
   {
    "duration": 3,
    "start_time": "2022-12-15T12:15:40.530Z"
   },
   {
    "duration": 15,
    "start_time": "2022-12-15T12:15:42.666Z"
   },
   {
    "duration": 14,
    "start_time": "2022-12-15T12:16:10.038Z"
   },
   {
    "duration": 8,
    "start_time": "2022-12-15T12:17:45.118Z"
   },
   {
    "duration": 6,
    "start_time": "2022-12-15T12:33:59.189Z"
   },
   {
    "duration": 10,
    "start_time": "2022-12-15T12:34:53.662Z"
   },
   {
    "duration": 24,
    "start_time": "2022-12-15T12:35:35.778Z"
   },
   {
    "duration": 4,
    "start_time": "2022-12-15T12:40:10.793Z"
   },
   {
    "duration": 9,
    "start_time": "2022-12-15T12:40:30.084Z"
   },
   {
    "duration": 10,
    "start_time": "2022-12-15T12:42:50.319Z"
   },
   {
    "duration": 3,
    "start_time": "2022-12-15T12:45:14.743Z"
   },
   {
    "duration": 9,
    "start_time": "2022-12-15T12:47:08.153Z"
   },
   {
    "duration": 3,
    "start_time": "2022-12-15T12:47:40.762Z"
   },
   {
    "duration": 15,
    "start_time": "2022-12-15T12:47:50.194Z"
   },
   {
    "duration": 13,
    "start_time": "2022-12-15T12:48:08.648Z"
   },
   {
    "duration": 7,
    "start_time": "2022-12-15T12:48:16.133Z"
   },
   {
    "duration": 4,
    "start_time": "2022-12-15T13:11:00.077Z"
   },
   {
    "duration": 137,
    "start_time": "2022-12-15T13:11:03.937Z"
   },
   {
    "duration": 6,
    "start_time": "2022-12-15T13:13:29.158Z"
   },
   {
    "duration": 190,
    "start_time": "2022-12-15T13:13:31.863Z"
   },
   {
    "duration": 174,
    "start_time": "2022-12-15T13:15:06.342Z"
   },
   {
    "duration": 174,
    "start_time": "2022-12-15T13:17:42.031Z"
   },
   {
    "duration": 10,
    "start_time": "2022-12-15T14:39:31.879Z"
   },
   {
    "duration": 9,
    "start_time": "2022-12-15T14:41:03.982Z"
   },
   {
    "duration": 1678,
    "start_time": "2022-12-16T08:17:01.578Z"
   },
   {
    "duration": 162,
    "start_time": "2022-12-16T08:17:03.257Z"
   },
   {
    "duration": 5,
    "start_time": "2022-12-16T08:17:03.420Z"
   },
   {
    "duration": 30,
    "start_time": "2022-12-16T08:17:03.427Z"
   },
   {
    "duration": 36,
    "start_time": "2022-12-16T08:17:03.459Z"
   },
   {
    "duration": 11,
    "start_time": "2022-12-16T08:17:03.497Z"
   },
   {
    "duration": 5,
    "start_time": "2022-12-16T08:17:03.509Z"
   },
   {
    "duration": 10,
    "start_time": "2022-12-16T08:17:03.516Z"
   },
   {
    "duration": 5,
    "start_time": "2022-12-16T08:17:03.528Z"
   },
   {
    "duration": 6,
    "start_time": "2022-12-16T08:17:03.535Z"
   },
   {
    "duration": 14,
    "start_time": "2022-12-16T08:17:03.543Z"
   },
   {
    "duration": 11,
    "start_time": "2022-12-16T08:17:03.560Z"
   },
   {
    "duration": 5,
    "start_time": "2022-12-16T08:17:03.604Z"
   },
   {
    "duration": 6,
    "start_time": "2022-12-16T08:17:03.611Z"
   },
   {
    "duration": 6,
    "start_time": "2022-12-16T08:17:03.619Z"
   },
   {
    "duration": 6,
    "start_time": "2022-12-16T08:17:03.626Z"
   },
   {
    "duration": 12,
    "start_time": "2022-12-16T08:17:03.633Z"
   },
   {
    "duration": 11,
    "start_time": "2022-12-16T08:17:03.647Z"
   },
   {
    "duration": 5,
    "start_time": "2022-12-16T08:17:03.660Z"
   },
   {
    "duration": 168,
    "start_time": "2022-12-16T08:17:03.666Z"
   },
   {
    "duration": 23,
    "start_time": "2022-12-16T08:17:03.836Z"
   },
   {
    "duration": 4,
    "start_time": "2022-12-16T08:17:03.861Z"
   },
   {
    "duration": 7,
    "start_time": "2022-12-16T08:17:03.867Z"
   },
   {
    "duration": 4,
    "start_time": "2022-12-16T08:17:03.875Z"
   },
   {
    "duration": 27,
    "start_time": "2022-12-16T08:17:03.880Z"
   },
   {
    "duration": 7,
    "start_time": "2022-12-16T08:17:03.909Z"
   },
   {
    "duration": 7572,
    "start_time": "2022-12-16T08:17:03.917Z"
   },
   {
    "duration": 4,
    "start_time": "2022-12-16T08:17:11.492Z"
   },
   {
    "duration": 2,
    "start_time": "2022-12-16T08:17:11.505Z"
   },
   {
    "duration": 9,
    "start_time": "2022-12-16T08:17:11.509Z"
   },
   {
    "duration": 5,
    "start_time": "2022-12-16T08:17:11.519Z"
   },
   {
    "duration": 8,
    "start_time": "2022-12-16T08:17:11.526Z"
   },
   {
    "duration": 5,
    "start_time": "2022-12-16T08:17:11.535Z"
   },
   {
    "duration": 9,
    "start_time": "2022-12-16T08:17:11.542Z"
   },
   {
    "duration": 3,
    "start_time": "2022-12-16T08:17:11.552Z"
   },
   {
    "duration": 6,
    "start_time": "2022-12-16T08:17:11.556Z"
   },
   {
    "duration": 18341,
    "start_time": "2022-12-16T08:17:11.563Z"
   },
   {
    "duration": 99,
    "start_time": "2022-12-16T08:17:29.906Z"
   },
   {
    "duration": 35,
    "start_time": "2022-12-16T08:17:30.007Z"
   },
   {
    "duration": 163,
    "start_time": "2022-12-16T08:17:30.045Z"
   },
   {
    "duration": 7,
    "start_time": "2022-12-16T08:17:30.211Z"
   },
   {
    "duration": 103,
    "start_time": "2022-12-16T08:17:30.305Z"
   },
   {
    "duration": 32,
    "start_time": "2022-12-16T08:17:30.410Z"
   },
   {
    "duration": 39,
    "start_time": "2022-12-16T08:17:30.443Z"
   },
   {
    "duration": 141047,
    "start_time": "2022-12-16T08:17:30.484Z"
   },
   {
    "duration": 4,
    "start_time": "2022-12-16T08:19:51.532Z"
   },
   {
    "duration": 27,
    "start_time": "2022-12-16T08:19:51.539Z"
   },
   {
    "duration": 51,
    "start_time": "2022-12-16T08:19:51.568Z"
   },
   {
    "duration": 22,
    "start_time": "2022-12-16T08:19:51.620Z"
   },
   {
    "duration": 6,
    "start_time": "2022-12-16T08:19:51.644Z"
   },
   {
    "duration": 10,
    "start_time": "2022-12-16T08:19:51.652Z"
   },
   {
    "duration": 20,
    "start_time": "2022-12-16T08:19:51.663Z"
   },
   {
    "duration": 204,
    "start_time": "2022-12-16T08:19:51.685Z"
   },
   {
    "duration": 7139,
    "start_time": "2022-12-16T08:24:22.040Z"
   },
   {
    "duration": 10,
    "start_time": "2022-12-16T08:32:52.904Z"
   },
   {
    "duration": 10,
    "start_time": "2022-12-16T08:33:38.178Z"
   },
   {
    "duration": 4,
    "start_time": "2022-12-16T08:45:48.779Z"
   },
   {
    "duration": 7610,
    "start_time": "2022-12-16T08:45:52.498Z"
   },
   {
    "duration": 5,
    "start_time": "2022-12-16T08:50:47.581Z"
   },
   {
    "duration": 9,
    "start_time": "2022-12-16T08:52:23.717Z"
   },
   {
    "duration": 5,
    "start_time": "2022-12-16T08:52:38.244Z"
   },
   {
    "duration": 7,
    "start_time": "2022-12-16T08:57:03.804Z"
   },
   {
    "duration": 8,
    "start_time": "2022-12-16T08:57:08.453Z"
   },
   {
    "duration": 9,
    "start_time": "2022-12-16T08:57:20.504Z"
   },
   {
    "duration": 1509,
    "start_time": "2022-12-17T10:11:59.978Z"
   },
   {
    "duration": 93,
    "start_time": "2022-12-17T10:12:01.490Z"
   },
   {
    "duration": 4,
    "start_time": "2022-12-17T10:12:01.585Z"
   },
   {
    "duration": 51,
    "start_time": "2022-12-17T10:12:01.591Z"
   },
   {
    "duration": 51,
    "start_time": "2022-12-17T10:12:01.645Z"
   },
   {
    "duration": 13,
    "start_time": "2022-12-17T10:12:01.698Z"
   },
   {
    "duration": 21,
    "start_time": "2022-12-17T10:12:01.713Z"
   },
   {
    "duration": 19,
    "start_time": "2022-12-17T10:12:01.735Z"
   },
   {
    "duration": 9,
    "start_time": "2022-12-17T10:12:01.755Z"
   },
   {
    "duration": 13,
    "start_time": "2022-12-17T10:12:01.766Z"
   },
   {
    "duration": 18,
    "start_time": "2022-12-17T10:12:01.780Z"
   },
   {
    "duration": 20,
    "start_time": "2022-12-17T10:12:01.801Z"
   },
   {
    "duration": 14,
    "start_time": "2022-12-17T10:12:01.824Z"
   },
   {
    "duration": 40,
    "start_time": "2022-12-17T10:12:01.842Z"
   },
   {
    "duration": 7,
    "start_time": "2022-12-17T10:12:01.883Z"
   },
   {
    "duration": 28,
    "start_time": "2022-12-17T10:12:01.892Z"
   },
   {
    "duration": 23,
    "start_time": "2022-12-17T10:12:01.922Z"
   },
   {
    "duration": 23,
    "start_time": "2022-12-17T10:12:01.946Z"
   },
   {
    "duration": 5,
    "start_time": "2022-12-17T10:12:01.971Z"
   },
   {
    "duration": 148,
    "start_time": "2022-12-17T10:12:01.977Z"
   },
   {
    "duration": 31,
    "start_time": "2022-12-17T10:12:02.128Z"
   },
   {
    "duration": 5,
    "start_time": "2022-12-17T10:12:02.161Z"
   },
   {
    "duration": 12,
    "start_time": "2022-12-17T10:12:02.167Z"
   },
   {
    "duration": 18,
    "start_time": "2022-12-17T10:12:02.181Z"
   },
   {
    "duration": 20,
    "start_time": "2022-12-17T10:12:02.201Z"
   },
   {
    "duration": 25,
    "start_time": "2022-12-17T10:12:02.223Z"
   },
   {
    "duration": 7122,
    "start_time": "2022-12-17T10:12:02.250Z"
   },
   {
    "duration": 4,
    "start_time": "2022-12-17T10:12:09.374Z"
   },
   {
    "duration": 8,
    "start_time": "2022-12-17T10:12:09.380Z"
   },
   {
    "duration": 12,
    "start_time": "2022-12-17T10:12:09.390Z"
   },
   {
    "duration": 5,
    "start_time": "2022-12-17T10:12:09.403Z"
   },
   {
    "duration": 9,
    "start_time": "2022-12-17T10:12:09.421Z"
   },
   {
    "duration": 8,
    "start_time": "2022-12-17T10:12:09.431Z"
   },
   {
    "duration": 8,
    "start_time": "2022-12-17T10:12:09.440Z"
   },
   {
    "duration": 3,
    "start_time": "2022-12-17T10:12:09.450Z"
   },
   {
    "duration": 6,
    "start_time": "2022-12-17T10:12:09.455Z"
   },
   {
    "duration": 15463,
    "start_time": "2022-12-17T10:12:09.462Z"
   },
   {
    "duration": 5,
    "start_time": "2022-12-17T10:12:24.927Z"
   },
   {
    "duration": 13,
    "start_time": "2022-12-17T10:12:25.021Z"
   },
   {
    "duration": 285,
    "start_time": "2022-12-17T10:12:25.036Z"
   },
   {
    "duration": 7,
    "start_time": "2022-12-17T10:12:25.327Z"
   },
   {
    "duration": 111,
    "start_time": "2022-12-17T10:12:25.427Z"
   },
   {
    "duration": 9,
    "start_time": "2022-12-17T10:12:25.540Z"
   },
   {
    "duration": 27,
    "start_time": "2022-12-17T10:12:25.551Z"
   },
   {
    "duration": 132543,
    "start_time": "2022-12-17T10:12:25.580Z"
   },
   {
    "duration": 4,
    "start_time": "2022-12-17T10:14:38.125Z"
   },
   {
    "duration": 33,
    "start_time": "2022-12-17T10:14:38.130Z"
   },
   {
    "duration": 26,
    "start_time": "2022-12-17T10:14:38.164Z"
   },
   {
    "duration": 35,
    "start_time": "2022-12-17T10:14:38.191Z"
   },
   {
    "duration": 7,
    "start_time": "2022-12-17T10:14:38.227Z"
   },
   {
    "duration": 9,
    "start_time": "2022-12-17T10:14:38.235Z"
   },
   {
    "duration": 17,
    "start_time": "2022-12-17T10:14:38.246Z"
   },
   {
    "duration": 180,
    "start_time": "2022-12-17T10:14:38.265Z"
   },
   {
    "duration": 2,
    "start_time": "2022-12-17T10:14:38.446Z"
   },
   {
    "duration": 3,
    "start_time": "2022-12-17T10:27:11.784Z"
   },
   {
    "duration": 7103,
    "start_time": "2022-12-17T10:27:17.934Z"
   },
   {
    "duration": 4,
    "start_time": "2022-12-17T10:27:36.303Z"
   },
   {
    "duration": 8,
    "start_time": "2022-12-17T10:27:39.424Z"
   },
   {
    "duration": 10,
    "start_time": "2022-12-17T10:27:41.984Z"
   },
   {
    "duration": 11,
    "start_time": "2022-12-17T10:27:45.751Z"
   },
   {
    "duration": 3,
    "start_time": "2022-12-17T10:47:56.737Z"
   },
   {
    "duration": 3,
    "start_time": "2022-12-17T10:49:19.587Z"
   },
   {
    "duration": 136519,
    "start_time": "2022-12-17T10:49:25.799Z"
   },
   {
    "duration": 3,
    "start_time": "2022-12-17T10:59:06.724Z"
   },
   {
    "duration": 25,
    "start_time": "2022-12-17T10:59:09.253Z"
   },
   {
    "duration": 25,
    "start_time": "2022-12-17T10:59:11.510Z"
   },
   {
    "duration": 28,
    "start_time": "2022-12-17T10:59:15.487Z"
   },
   {
    "duration": 3,
    "start_time": "2022-12-17T11:03:20.070Z"
   },
   {
    "duration": 7570,
    "start_time": "2022-12-17T11:03:29.671Z"
   },
   {
    "duration": 4,
    "start_time": "2022-12-17T11:04:44.772Z"
   },
   {
    "duration": 7,
    "start_time": "2022-12-17T11:04:47.271Z"
   },
   {
    "duration": 8,
    "start_time": "2022-12-17T11:04:49.612Z"
   },
   {
    "duration": 10,
    "start_time": "2022-12-17T11:04:53.143Z"
   },
   {
    "duration": 23,
    "start_time": "2022-12-17T11:14:49.751Z"
   },
   {
    "duration": 8,
    "start_time": "2022-12-17T11:15:17.671Z"
   },
   {
    "duration": 22,
    "start_time": "2022-12-17T11:18:55.002Z"
   },
   {
    "duration": 25,
    "start_time": "2022-12-17T11:47:07.155Z"
   },
   {
    "duration": 4,
    "start_time": "2022-12-17T11:52:47.146Z"
   },
   {
    "duration": 3,
    "start_time": "2022-12-17T11:53:37.207Z"
   },
   {
    "duration": 1435,
    "start_time": "2022-12-17T12:02:04.308Z"
   },
   {
    "duration": 42,
    "start_time": "2022-12-17T12:02:05.745Z"
   },
   {
    "duration": 5,
    "start_time": "2022-12-17T12:02:05.789Z"
   },
   {
    "duration": 44,
    "start_time": "2022-12-17T12:02:05.796Z"
   },
   {
    "duration": 37,
    "start_time": "2022-12-17T12:02:05.843Z"
   },
   {
    "duration": 12,
    "start_time": "2022-12-17T12:02:05.882Z"
   },
   {
    "duration": 25,
    "start_time": "2022-12-17T12:02:05.896Z"
   },
   {
    "duration": 12,
    "start_time": "2022-12-17T12:02:05.923Z"
   },
   {
    "duration": 12,
    "start_time": "2022-12-17T12:02:05.937Z"
   },
   {
    "duration": 12,
    "start_time": "2022-12-17T12:02:05.951Z"
   },
   {
    "duration": 26,
    "start_time": "2022-12-17T12:02:05.964Z"
   },
   {
    "duration": 12,
    "start_time": "2022-12-17T12:02:05.992Z"
   },
   {
    "duration": 11,
    "start_time": "2022-12-17T12:02:06.005Z"
   },
   {
    "duration": 8,
    "start_time": "2022-12-17T12:02:06.019Z"
   },
   {
    "duration": 14,
    "start_time": "2022-12-17T12:02:06.029Z"
   },
   {
    "duration": 16,
    "start_time": "2022-12-17T12:02:06.045Z"
   },
   {
    "duration": 18,
    "start_time": "2022-12-17T12:02:06.062Z"
   },
   {
    "duration": 16,
    "start_time": "2022-12-17T12:02:06.082Z"
   },
   {
    "duration": 5,
    "start_time": "2022-12-17T12:02:06.100Z"
   },
   {
    "duration": 134,
    "start_time": "2022-12-17T12:02:06.106Z"
   },
   {
    "duration": 21,
    "start_time": "2022-12-17T12:02:06.241Z"
   },
   {
    "duration": 4,
    "start_time": "2022-12-17T12:02:06.263Z"
   },
   {
    "duration": 20,
    "start_time": "2022-12-17T12:02:06.268Z"
   },
   {
    "duration": 9,
    "start_time": "2022-12-17T12:02:06.289Z"
   },
   {
    "duration": 8,
    "start_time": "2022-12-17T12:02:06.299Z"
   },
   {
    "duration": 10,
    "start_time": "2022-12-17T12:02:06.308Z"
   },
   {
    "duration": 7204,
    "start_time": "2022-12-17T12:02:06.320Z"
   },
   {
    "duration": 3,
    "start_time": "2022-12-17T12:02:13.526Z"
   },
   {
    "duration": 11,
    "start_time": "2022-12-17T12:02:13.531Z"
   },
   {
    "duration": 22,
    "start_time": "2022-12-17T12:02:13.544Z"
   },
   {
    "duration": 27,
    "start_time": "2022-12-17T12:02:13.567Z"
   },
   {
    "duration": 19,
    "start_time": "2022-12-17T12:02:13.596Z"
   },
   {
    "duration": 32,
    "start_time": "2022-12-17T12:02:13.617Z"
   },
   {
    "duration": 27,
    "start_time": "2022-12-17T12:02:13.651Z"
   },
   {
    "duration": 15,
    "start_time": "2022-12-17T12:02:13.680Z"
   },
   {
    "duration": 22534,
    "start_time": "2022-12-17T12:02:13.696Z"
   },
   {
    "duration": 90,
    "start_time": "2022-12-17T12:02:36.233Z"
   },
   {
    "duration": 12,
    "start_time": "2022-12-17T12:02:36.325Z"
   },
   {
    "duration": 92,
    "start_time": "2022-12-17T12:02:36.339Z"
   },
   {
    "duration": 193,
    "start_time": "2022-12-17T12:02:36.433Z"
   },
   {
    "duration": 101,
    "start_time": "2022-12-17T12:02:36.634Z"
   },
   {
    "duration": 15,
    "start_time": "2022-12-17T12:02:36.737Z"
   },
   {
    "duration": 133967,
    "start_time": "2022-12-17T12:02:36.754Z"
   },
   {
    "duration": 4,
    "start_time": "2022-12-17T12:04:50.722Z"
   },
   {
    "duration": 36,
    "start_time": "2022-12-17T12:04:50.728Z"
   },
   {
    "duration": 28,
    "start_time": "2022-12-17T12:04:50.766Z"
   },
   {
    "duration": 42,
    "start_time": "2022-12-17T12:04:50.797Z"
   },
   {
    "duration": 11,
    "start_time": "2022-12-17T12:04:50.841Z"
   },
   {
    "duration": 9,
    "start_time": "2022-12-17T12:04:50.854Z"
   },
   {
    "duration": 195,
    "start_time": "2022-12-17T12:04:50.864Z"
   },
   {
    "duration": 3,
    "start_time": "2022-12-17T12:04:51.061Z"
   },
   {
    "duration": 18,
    "start_time": "2022-12-17T12:04:51.066Z"
   },
   {
    "duration": 7542,
    "start_time": "2022-12-17T12:04:51.085Z"
   },
   {
    "duration": 4,
    "start_time": "2022-12-17T12:04:58.629Z"
   },
   {
    "duration": 17,
    "start_time": "2022-12-17T12:04:58.634Z"
   },
   {
    "duration": 14,
    "start_time": "2022-12-17T12:04:58.653Z"
   },
   {
    "duration": 9,
    "start_time": "2022-12-17T12:04:58.668Z"
   },
   {
    "duration": 8,
    "start_time": "2022-12-17T12:04:58.678Z"
   },
   {
    "duration": 135421,
    "start_time": "2022-12-17T12:04:58.687Z"
   },
   {
    "duration": 4,
    "start_time": "2022-12-17T12:07:14.110Z"
   },
   {
    "duration": 27,
    "start_time": "2022-12-17T12:07:14.121Z"
   },
   {
    "duration": 23,
    "start_time": "2022-12-17T12:07:14.149Z"
   },
   {
    "duration": 25,
    "start_time": "2022-12-17T12:07:14.174Z"
   },
   {
    "duration": 22,
    "start_time": "2022-12-17T12:07:14.200Z"
   },
   {
    "duration": 23415,
    "start_time": "2022-12-17T12:07:14.223Z"
   },
   {
    "duration": 4,
    "start_time": "2022-12-17T12:07:37.639Z"
   },
   {
    "duration": 22,
    "start_time": "2022-12-17T12:07:37.644Z"
   },
   {
    "duration": 111,
    "start_time": "2022-12-17T12:07:37.723Z"
   },
   {
    "duration": 186,
    "start_time": "2022-12-17T12:07:37.835Z"
   },
   {
    "duration": 4,
    "start_time": "2022-12-17T12:47:51.737Z"
   },
   {
    "duration": 43,
    "start_time": "2022-12-17T12:47:51.856Z"
   },
   {
    "duration": 5,
    "start_time": "2022-12-17T12:47:51.901Z"
   },
   {
    "duration": 21,
    "start_time": "2022-12-17T12:47:51.907Z"
   },
   {
    "duration": 51,
    "start_time": "2022-12-17T12:47:51.930Z"
   },
   {
    "duration": 10,
    "start_time": "2022-12-17T12:47:51.983Z"
   },
   {
    "duration": 5,
    "start_time": "2022-12-17T12:47:51.995Z"
   },
   {
    "duration": 10,
    "start_time": "2022-12-17T12:47:52.002Z"
   },
   {
    "duration": 4,
    "start_time": "2022-12-17T12:47:52.021Z"
   },
   {
    "duration": 4,
    "start_time": "2022-12-17T12:47:52.027Z"
   },
   {
    "duration": 10,
    "start_time": "2022-12-17T12:47:52.033Z"
   },
   {
    "duration": 18,
    "start_time": "2022-12-17T12:47:52.044Z"
   },
   {
    "duration": 7,
    "start_time": "2022-12-17T12:47:52.064Z"
   },
   {
    "duration": 10,
    "start_time": "2022-12-17T12:47:52.073Z"
   },
   {
    "duration": 9,
    "start_time": "2022-12-17T12:47:52.085Z"
   },
   {
    "duration": 7,
    "start_time": "2022-12-17T12:47:52.096Z"
   },
   {
    "duration": 10,
    "start_time": "2022-12-17T12:47:52.120Z"
   },
   {
    "duration": 18,
    "start_time": "2022-12-17T12:47:52.133Z"
   },
   {
    "duration": 10,
    "start_time": "2022-12-17T12:47:52.152Z"
   },
   {
    "duration": 116,
    "start_time": "2022-12-17T12:47:52.265Z"
   },
   {
    "duration": 38,
    "start_time": "2022-12-17T12:47:52.383Z"
   },
   {
    "duration": 4,
    "start_time": "2022-12-17T12:47:52.422Z"
   },
   {
    "duration": 10,
    "start_time": "2022-12-17T12:47:52.427Z"
   },
   {
    "duration": 3,
    "start_time": "2022-12-17T12:47:52.438Z"
   },
   {
    "duration": 5,
    "start_time": "2022-12-17T12:47:52.443Z"
   },
   {
    "duration": 6,
    "start_time": "2022-12-17T12:47:52.450Z"
   },
   {
    "duration": 7221,
    "start_time": "2022-12-17T12:47:52.458Z"
   },
   {
    "duration": 4,
    "start_time": "2022-12-17T12:47:59.680Z"
   },
   {
    "duration": 8,
    "start_time": "2022-12-17T12:47:59.685Z"
   },
   {
    "duration": 10,
    "start_time": "2022-12-17T12:47:59.695Z"
   },
   {
    "duration": 16,
    "start_time": "2022-12-17T12:47:59.706Z"
   },
   {
    "duration": 9,
    "start_time": "2022-12-17T12:47:59.723Z"
   },
   {
    "duration": 4,
    "start_time": "2022-12-17T12:47:59.735Z"
   },
   {
    "duration": 8,
    "start_time": "2022-12-17T12:47:59.741Z"
   },
   {
    "duration": 4,
    "start_time": "2022-12-17T12:47:59.750Z"
   },
   {
    "duration": 23867,
    "start_time": "2022-12-17T12:47:59.755Z"
   },
   {
    "duration": 4,
    "start_time": "2022-12-17T12:48:23.624Z"
   },
   {
    "duration": 108,
    "start_time": "2022-12-17T12:48:23.630Z"
   },
   {
    "duration": 200,
    "start_time": "2022-12-17T12:48:23.742Z"
   },
   {
    "duration": 178,
    "start_time": "2022-12-17T12:48:23.950Z"
   },
   {
    "duration": 192,
    "start_time": "2022-12-17T12:48:24.141Z"
   },
   {
    "duration": 3,
    "start_time": "2022-12-17T12:48:24.335Z"
   },
   {
    "duration": 134053,
    "start_time": "2022-12-17T12:48:24.339Z"
   },
   {
    "duration": 5,
    "start_time": "2022-12-17T12:50:38.393Z"
   },
   {
    "duration": 33,
    "start_time": "2022-12-17T12:50:38.399Z"
   },
   {
    "duration": 23,
    "start_time": "2022-12-17T12:50:38.433Z"
   },
   {
    "duration": 24,
    "start_time": "2022-12-17T12:50:38.458Z"
   },
   {
    "duration": 9,
    "start_time": "2022-12-17T12:50:38.483Z"
   },
   {
    "duration": 33,
    "start_time": "2022-12-17T12:50:38.494Z"
   },
   {
    "duration": 186,
    "start_time": "2022-12-17T12:50:38.529Z"
   },
   {
    "duration": 5,
    "start_time": "2022-12-17T12:50:38.716Z"
   },
   {
    "duration": 9,
    "start_time": "2022-12-17T12:50:38.722Z"
   },
   {
    "duration": 7401,
    "start_time": "2022-12-17T12:50:38.733Z"
   },
   {
    "duration": 4,
    "start_time": "2022-12-17T12:50:46.135Z"
   },
   {
    "duration": 20,
    "start_time": "2022-12-17T12:50:46.141Z"
   },
   {
    "duration": 11,
    "start_time": "2022-12-17T12:50:46.163Z"
   },
   {
    "duration": 27,
    "start_time": "2022-12-17T12:50:46.175Z"
   },
   {
    "duration": 10,
    "start_time": "2022-12-17T12:50:46.203Z"
   },
   {
    "duration": 136334,
    "start_time": "2022-12-17T12:50:46.214Z"
   },
   {
    "duration": 4,
    "start_time": "2022-12-17T12:53:02.552Z"
   },
   {
    "duration": 46,
    "start_time": "2022-12-17T12:53:02.558Z"
   },
   {
    "duration": 30,
    "start_time": "2022-12-17T12:53:02.605Z"
   },
   {
    "duration": 25,
    "start_time": "2022-12-17T12:53:02.637Z"
   },
   {
    "duration": 4,
    "start_time": "2022-12-17T12:53:02.664Z"
   },
   {
    "duration": 33884,
    "start_time": "2022-12-17T12:53:02.670Z"
   },
   {
    "duration": 4,
    "start_time": "2022-12-17T12:53:36.556Z"
   },
   {
    "duration": 63,
    "start_time": "2022-12-17T12:53:36.562Z"
   },
   {
    "duration": 102,
    "start_time": "2022-12-17T12:53:36.626Z"
   },
   {
    "duration": 115,
    "start_time": "2022-12-17T12:53:36.729Z"
   },
   {
    "duration": 45,
    "start_time": "2022-12-17T12:54:04.456Z"
   },
   {
    "duration": 13,
    "start_time": "2022-12-17T12:54:19.926Z"
   },
   {
    "duration": 7,
    "start_time": "2022-12-17T12:57:21.166Z"
   },
   {
    "duration": 186,
    "start_time": "2022-12-17T13:00:05.631Z"
   },
   {
    "duration": 250,
    "start_time": "2022-12-17T13:00:57.199Z"
   },
   {
    "duration": 173,
    "start_time": "2022-12-17T13:01:28.928Z"
   },
   {
    "duration": 12,
    "start_time": "2022-12-17T13:02:53.040Z"
   },
   {
    "duration": 4,
    "start_time": "2022-12-17T13:03:04.997Z"
   },
   {
    "duration": 13,
    "start_time": "2022-12-17T13:03:07.243Z"
   },
   {
    "duration": 9,
    "start_time": "2022-12-17T13:04:07.548Z"
   },
   {
    "duration": 4,
    "start_time": "2022-12-17T13:04:10.965Z"
   },
   {
    "duration": 1241,
    "start_time": "2022-12-17T14:54:09.260Z"
   },
   {
    "duration": 38,
    "start_time": "2022-12-17T14:54:10.503Z"
   },
   {
    "duration": 3,
    "start_time": "2022-12-17T14:54:10.543Z"
   },
   {
    "duration": 32,
    "start_time": "2022-12-17T14:54:10.548Z"
   },
   {
    "duration": 36,
    "start_time": "2022-12-17T14:54:10.582Z"
   },
   {
    "duration": 11,
    "start_time": "2022-12-17T14:54:10.620Z"
   },
   {
    "duration": 4,
    "start_time": "2022-12-17T14:54:10.632Z"
   },
   {
    "duration": 16,
    "start_time": "2022-12-17T14:54:10.637Z"
   },
   {
    "duration": 12,
    "start_time": "2022-12-17T14:54:10.655Z"
   },
   {
    "duration": 7,
    "start_time": "2022-12-17T14:54:10.670Z"
   },
   {
    "duration": 13,
    "start_time": "2022-12-17T14:54:10.679Z"
   },
   {
    "duration": 10,
    "start_time": "2022-12-17T14:54:10.693Z"
   },
   {
    "duration": 19,
    "start_time": "2022-12-17T14:54:10.705Z"
   },
   {
    "duration": 6,
    "start_time": "2022-12-17T14:54:10.726Z"
   },
   {
    "duration": 7,
    "start_time": "2022-12-17T14:54:10.733Z"
   },
   {
    "duration": 23,
    "start_time": "2022-12-17T14:54:10.742Z"
   },
   {
    "duration": 27,
    "start_time": "2022-12-17T14:54:10.766Z"
   },
   {
    "duration": 16,
    "start_time": "2022-12-17T14:54:10.795Z"
   },
   {
    "duration": 5,
    "start_time": "2022-12-17T14:54:10.812Z"
   },
   {
    "duration": 133,
    "start_time": "2022-12-17T14:54:10.818Z"
   },
   {
    "duration": 30,
    "start_time": "2022-12-17T14:54:10.953Z"
   },
   {
    "duration": 4,
    "start_time": "2022-12-17T14:54:10.985Z"
   },
   {
    "duration": 11,
    "start_time": "2022-12-17T14:54:10.991Z"
   },
   {
    "duration": 3,
    "start_time": "2022-12-17T14:54:11.020Z"
   },
   {
    "duration": 11,
    "start_time": "2022-12-17T14:54:11.025Z"
   },
   {
    "duration": 8,
    "start_time": "2022-12-17T14:54:11.037Z"
   },
   {
    "duration": 7172,
    "start_time": "2022-12-17T14:54:11.047Z"
   },
   {
    "duration": 4,
    "start_time": "2022-12-17T14:54:18.225Z"
   },
   {
    "duration": 9,
    "start_time": "2022-12-17T14:54:18.230Z"
   },
   {
    "duration": 10,
    "start_time": "2022-12-17T14:54:18.241Z"
   },
   {
    "duration": 8,
    "start_time": "2022-12-17T14:54:18.253Z"
   },
   {
    "duration": 8,
    "start_time": "2022-12-17T14:54:18.263Z"
   },
   {
    "duration": 6,
    "start_time": "2022-12-17T14:54:18.273Z"
   },
   {
    "duration": 8,
    "start_time": "2022-12-17T14:54:18.281Z"
   },
   {
    "duration": 9,
    "start_time": "2022-12-17T14:54:18.290Z"
   },
   {
    "duration": 15328,
    "start_time": "2022-12-17T14:54:18.301Z"
   },
   {
    "duration": 5,
    "start_time": "2022-12-17T14:54:33.631Z"
   },
   {
    "duration": 11,
    "start_time": "2022-12-17T14:54:33.723Z"
   },
   {
    "duration": 188,
    "start_time": "2022-12-17T14:54:33.735Z"
   },
   {
    "duration": 88,
    "start_time": "2022-12-17T14:54:33.935Z"
   },
   {
    "duration": 98,
    "start_time": "2022-12-17T14:54:34.027Z"
   },
   {
    "duration": 17,
    "start_time": "2022-12-17T14:54:34.128Z"
   },
   {
    "duration": 134247,
    "start_time": "2022-12-17T14:54:34.222Z"
   },
   {
    "duration": 4,
    "start_time": "2022-12-17T14:56:48.471Z"
   },
   {
    "duration": 27,
    "start_time": "2022-12-17T14:56:48.477Z"
   },
   {
    "duration": 39,
    "start_time": "2022-12-17T14:56:48.505Z"
   },
   {
    "duration": 28,
    "start_time": "2022-12-17T14:56:48.545Z"
   },
   {
    "duration": 4,
    "start_time": "2022-12-17T14:56:48.574Z"
   },
   {
    "duration": 12,
    "start_time": "2022-12-17T14:56:48.580Z"
   },
   {
    "duration": 27,
    "start_time": "2022-12-17T14:56:48.594Z"
   },
   {
    "duration": 187,
    "start_time": "2022-12-17T14:56:48.623Z"
   },
   {
    "duration": 2,
    "start_time": "2022-12-17T14:56:48.812Z"
   },
   {
    "duration": 10,
    "start_time": "2022-12-17T14:56:48.815Z"
   },
   {
    "duration": 7473,
    "start_time": "2022-12-17T14:56:48.827Z"
   },
   {
    "duration": 4,
    "start_time": "2022-12-17T14:56:56.301Z"
   },
   {
    "duration": 17,
    "start_time": "2022-12-17T14:56:56.307Z"
   },
   {
    "duration": 19,
    "start_time": "2022-12-17T14:56:56.325Z"
   },
   {
    "duration": 12,
    "start_time": "2022-12-17T14:56:56.345Z"
   },
   {
    "duration": 6,
    "start_time": "2022-12-17T14:56:56.359Z"
   },
   {
    "duration": 134595,
    "start_time": "2022-12-17T14:56:56.366Z"
   },
   {
    "duration": 4,
    "start_time": "2022-12-17T14:59:10.962Z"
   },
   {
    "duration": 28,
    "start_time": "2022-12-17T14:59:10.968Z"
   },
   {
    "duration": 33,
    "start_time": "2022-12-17T14:59:10.998Z"
   },
   {
    "duration": 26,
    "start_time": "2022-12-17T14:59:11.032Z"
   },
   {
    "duration": 4,
    "start_time": "2022-12-17T14:59:11.060Z"
   },
   {
    "duration": 26976,
    "start_time": "2022-12-17T14:59:11.066Z"
   },
   {
    "duration": 4,
    "start_time": "2022-12-17T14:59:38.044Z"
   },
   {
    "duration": 13,
    "start_time": "2022-12-17T14:59:38.050Z"
   },
   {
    "duration": 168,
    "start_time": "2022-12-17T14:59:38.065Z"
   },
   {
    "duration": 96,
    "start_time": "2022-12-17T14:59:38.235Z"
   },
   {
    "duration": 101,
    "start_time": "2022-12-17T14:59:38.426Z"
   },
   {
    "duration": 15,
    "start_time": "2022-12-17T14:59:38.528Z"
   },
   {
    "duration": 10,
    "start_time": "2022-12-17T14:59:38.545Z"
   },
   {
    "duration": 183,
    "start_time": "2022-12-17T14:59:38.559Z"
   },
   {
    "duration": 4,
    "start_time": "2022-12-17T21:29:57.739Z"
   },
   {
    "duration": 6837,
    "start_time": "2022-12-17T21:29:59.209Z"
   },
   {
    "duration": 818,
    "start_time": "2022-12-17T21:31:16.589Z"
   },
   {
    "duration": 2,
    "start_time": "2022-12-17T21:31:24.637Z"
   },
   {
    "duration": 81,
    "start_time": "2022-12-18T09:52:20.008Z"
   },
   {
    "duration": 69,
    "start_time": "2022-12-18T09:53:10.530Z"
   },
   {
    "duration": 71,
    "start_time": "2022-12-18T09:54:38.595Z"
   },
   {
    "duration": 72,
    "start_time": "2022-12-18T09:55:58.151Z"
   },
   {
    "duration": 77,
    "start_time": "2022-12-18T09:56:56.742Z"
   },
   {
    "duration": 93,
    "start_time": "2022-12-18T09:59:01.923Z"
   },
   {
    "duration": 87,
    "start_time": "2022-12-18T10:00:28.428Z"
   },
   {
    "duration": 1589,
    "start_time": "2022-12-18T10:03:20.991Z"
   },
   {
    "duration": 164,
    "start_time": "2022-12-18T10:03:22.582Z"
   },
   {
    "duration": 4,
    "start_time": "2022-12-18T10:03:22.748Z"
   },
   {
    "duration": 26,
    "start_time": "2022-12-18T10:03:22.754Z"
   },
   {
    "duration": 45,
    "start_time": "2022-12-18T10:03:22.781Z"
   },
   {
    "duration": 11,
    "start_time": "2022-12-18T10:03:22.827Z"
   },
   {
    "duration": 8,
    "start_time": "2022-12-18T10:03:22.840Z"
   },
   {
    "duration": 17,
    "start_time": "2022-12-18T10:03:22.849Z"
   },
   {
    "duration": 4,
    "start_time": "2022-12-18T10:03:22.868Z"
   },
   {
    "duration": 15,
    "start_time": "2022-12-18T10:03:22.874Z"
   },
   {
    "duration": 21,
    "start_time": "2022-12-18T10:03:22.890Z"
   },
   {
    "duration": 9,
    "start_time": "2022-12-18T10:04:13.802Z"
   },
   {
    "duration": 12,
    "start_time": "2022-12-18T10:04:18.061Z"
   },
   {
    "duration": 1374,
    "start_time": "2022-12-18T10:05:07.934Z"
   },
   {
    "duration": 39,
    "start_time": "2022-12-18T10:05:09.309Z"
   },
   {
    "duration": 5,
    "start_time": "2022-12-18T10:05:09.350Z"
   },
   {
    "duration": 18,
    "start_time": "2022-12-18T10:05:09.356Z"
   },
   {
    "duration": 35,
    "start_time": "2022-12-18T10:05:09.376Z"
   },
   {
    "duration": 19,
    "start_time": "2022-12-18T10:05:09.413Z"
   },
   {
    "duration": 4,
    "start_time": "2022-12-18T10:05:09.433Z"
   },
   {
    "duration": 10,
    "start_time": "2022-12-18T10:05:09.438Z"
   },
   {
    "duration": 5,
    "start_time": "2022-12-18T10:05:09.449Z"
   },
   {
    "duration": 7,
    "start_time": "2022-12-18T10:05:09.455Z"
   },
   {
    "duration": 13,
    "start_time": "2022-12-18T10:05:09.463Z"
   },
   {
    "duration": 11,
    "start_time": "2022-12-18T10:05:19.510Z"
   },
   {
    "duration": 103,
    "start_time": "2022-12-18T10:10:42.304Z"
   },
   {
    "duration": 10,
    "start_time": "2022-12-18T10:10:58.984Z"
   },
   {
    "duration": 9,
    "start_time": "2022-12-18T10:24:47.690Z"
   },
   {
    "duration": 11,
    "start_time": "2022-12-18T10:27:56.717Z"
   },
   {
    "duration": 14,
    "start_time": "2022-12-18T10:31:25.295Z"
   },
   {
    "duration": 11,
    "start_time": "2022-12-18T10:49:20.386Z"
   },
   {
    "duration": 10,
    "start_time": "2022-12-18T10:49:41.672Z"
   },
   {
    "duration": 13536,
    "start_time": "2022-12-18T10:54:28.325Z"
   },
   {
    "duration": 649,
    "start_time": "2022-12-18T10:55:13.118Z"
   },
   {
    "duration": 12,
    "start_time": "2022-12-18T10:56:26.672Z"
   },
   {
    "duration": 4,
    "start_time": "2022-12-18T10:56:54.013Z"
   },
   {
    "duration": 2025,
    "start_time": "2022-12-18T10:56:54.032Z"
   },
   {
    "duration": 45,
    "start_time": "2022-12-18T10:56:56.059Z"
   },
   {
    "duration": 5,
    "start_time": "2022-12-18T10:56:56.105Z"
   },
   {
    "duration": 24,
    "start_time": "2022-12-18T10:56:56.111Z"
   },
   {
    "duration": 35,
    "start_time": "2022-12-18T10:56:56.137Z"
   },
   {
    "duration": 11,
    "start_time": "2022-12-18T10:56:56.173Z"
   },
   {
    "duration": 4,
    "start_time": "2022-12-18T10:56:56.186Z"
   },
   {
    "duration": 31,
    "start_time": "2022-12-18T10:56:56.191Z"
   },
   {
    "duration": 4,
    "start_time": "2022-12-18T10:56:56.224Z"
   },
   {
    "duration": 9,
    "start_time": "2022-12-18T10:56:56.229Z"
   },
   {
    "duration": 15,
    "start_time": "2022-12-18T10:56:56.239Z"
   },
   {
    "duration": 11,
    "start_time": "2022-12-18T10:56:56.255Z"
   },
   {
    "duration": 5,
    "start_time": "2022-12-18T10:56:56.268Z"
   },
   {
    "duration": 6,
    "start_time": "2022-12-18T10:56:56.276Z"
   },
   {
    "duration": 7,
    "start_time": "2022-12-18T10:56:56.284Z"
   },
   {
    "duration": 30,
    "start_time": "2022-12-18T10:56:56.293Z"
   },
   {
    "duration": 13,
    "start_time": "2022-12-18T10:56:56.325Z"
   },
   {
    "duration": 14,
    "start_time": "2022-12-18T10:56:56.340Z"
   },
   {
    "duration": 13891,
    "start_time": "2022-12-18T10:57:34.621Z"
   },
   {
    "duration": 2,
    "start_time": "2022-12-18T11:05:29.712Z"
   },
   {
    "duration": 7,
    "start_time": "2022-12-18T12:50:08.026Z"
   },
   {
    "duration": 2320,
    "start_time": "2022-12-18T12:50:08.042Z"
   },
   {
    "duration": 43,
    "start_time": "2022-12-18T12:50:10.364Z"
   },
   {
    "duration": 16,
    "start_time": "2022-12-18T12:50:10.409Z"
   },
   {
    "duration": 39,
    "start_time": "2022-12-18T12:50:10.427Z"
   },
   {
    "duration": 38,
    "start_time": "2022-12-18T12:50:10.467Z"
   },
   {
    "duration": 13,
    "start_time": "2022-12-18T12:50:10.507Z"
   },
   {
    "duration": 13,
    "start_time": "2022-12-18T12:50:10.521Z"
   },
   {
    "duration": 12,
    "start_time": "2022-12-18T12:50:10.536Z"
   },
   {
    "duration": 5,
    "start_time": "2022-12-18T12:50:10.550Z"
   },
   {
    "duration": 5,
    "start_time": "2022-12-18T12:50:10.558Z"
   },
   {
    "duration": 5,
    "start_time": "2022-12-18T12:50:10.565Z"
   },
   {
    "duration": 8,
    "start_time": "2022-12-18T12:50:10.572Z"
   },
   {
    "duration": 7,
    "start_time": "2022-12-18T12:50:10.582Z"
   },
   {
    "duration": 8,
    "start_time": "2022-12-18T12:50:10.591Z"
   },
   {
    "duration": 27,
    "start_time": "2022-12-18T12:50:10.601Z"
   },
   {
    "duration": 15,
    "start_time": "2022-12-18T12:50:10.631Z"
   },
   {
    "duration": 7,
    "start_time": "2022-12-18T12:51:25.436Z"
   },
   {
    "duration": 157,
    "start_time": "2022-12-18T12:51:27.439Z"
   },
   {
    "duration": 182,
    "start_time": "2022-12-18T12:53:29.506Z"
   },
   {
    "duration": 5,
    "start_time": "2022-12-18T12:53:45.108Z"
   },
   {
    "duration": 6,
    "start_time": "2022-12-18T12:53:51.010Z"
   },
   {
    "duration": 3,
    "start_time": "2022-12-18T14:58:55.392Z"
   },
   {
    "duration": 2027,
    "start_time": "2022-12-18T14:58:55.400Z"
   },
   {
    "duration": 41,
    "start_time": "2022-12-18T14:58:57.429Z"
   },
   {
    "duration": 5,
    "start_time": "2022-12-18T14:58:57.472Z"
   },
   {
    "duration": 20,
    "start_time": "2022-12-18T14:58:57.479Z"
   },
   {
    "duration": 36,
    "start_time": "2022-12-18T14:58:57.502Z"
   },
   {
    "duration": 13,
    "start_time": "2022-12-18T14:58:57.540Z"
   },
   {
    "duration": 4,
    "start_time": "2022-12-18T14:58:57.554Z"
   },
   {
    "duration": 11,
    "start_time": "2022-12-18T14:58:57.560Z"
   },
   {
    "duration": 5,
    "start_time": "2022-12-18T14:58:57.572Z"
   },
   {
    "duration": 9,
    "start_time": "2022-12-18T14:58:57.578Z"
   },
   {
    "duration": 45,
    "start_time": "2022-12-18T14:58:57.588Z"
   },
   {
    "duration": 3,
    "start_time": "2022-12-18T14:58:57.634Z"
   },
   {
    "duration": 5,
    "start_time": "2022-12-18T14:58:57.639Z"
   },
   {
    "duration": 5,
    "start_time": "2022-12-18T14:58:57.646Z"
   },
   {
    "duration": 6,
    "start_time": "2022-12-18T14:58:57.652Z"
   },
   {
    "duration": 4,
    "start_time": "2022-12-18T14:58:57.660Z"
   },
   {
    "duration": 14,
    "start_time": "2022-12-18T14:58:57.665Z"
   },
   {
    "duration": 14,
    "start_time": "2022-12-18T14:58:57.680Z"
   },
   {
    "duration": 163,
    "start_time": "2022-12-18T15:11:19.577Z"
   },
   {
    "duration": 6,
    "start_time": "2022-12-18T15:11:28.541Z"
   },
   {
    "duration": 7,
    "start_time": "2022-12-18T15:11:44.317Z"
   },
   {
    "duration": 6,
    "start_time": "2022-12-18T15:16:09.196Z"
   },
   {
    "duration": 6,
    "start_time": "2022-12-18T15:17:40.807Z"
   },
   {
    "duration": 4,
    "start_time": "2022-12-18T15:18:58.455Z"
   },
   {
    "duration": 3,
    "start_time": "2022-12-18T15:19:35.156Z"
   },
   {
    "duration": 6,
    "start_time": "2022-12-18T15:20:18.150Z"
   },
   {
    "duration": 6,
    "start_time": "2022-12-18T16:20:19.120Z"
   },
   {
    "duration": 2029,
    "start_time": "2022-12-18T16:20:19.134Z"
   },
   {
    "duration": 41,
    "start_time": "2022-12-18T16:20:21.165Z"
   },
   {
    "duration": 5,
    "start_time": "2022-12-18T16:20:21.208Z"
   },
   {
    "duration": 25,
    "start_time": "2022-12-18T16:20:21.214Z"
   },
   {
    "duration": 52,
    "start_time": "2022-12-18T16:20:21.242Z"
   },
   {
    "duration": 13,
    "start_time": "2022-12-18T16:20:21.296Z"
   },
   {
    "duration": 18,
    "start_time": "2022-12-18T16:20:21.310Z"
   },
   {
    "duration": 35,
    "start_time": "2022-12-18T16:20:21.330Z"
   },
   {
    "duration": 28,
    "start_time": "2022-12-18T16:20:21.366Z"
   },
   {
    "duration": 32,
    "start_time": "2022-12-18T16:20:21.395Z"
   },
   {
    "duration": 36,
    "start_time": "2022-12-18T16:20:21.428Z"
   },
   {
    "duration": 22,
    "start_time": "2022-12-18T16:20:21.466Z"
   },
   {
    "duration": 31,
    "start_time": "2022-12-18T16:20:21.490Z"
   },
   {
    "duration": 30,
    "start_time": "2022-12-18T16:20:21.524Z"
   },
   {
    "duration": 54,
    "start_time": "2022-12-18T16:20:21.556Z"
   },
   {
    "duration": 26,
    "start_time": "2022-12-18T16:20:21.612Z"
   },
   {
    "duration": 51,
    "start_time": "2022-12-18T16:20:21.640Z"
   },
   {
    "duration": 32,
    "start_time": "2022-12-18T16:20:21.693Z"
   },
   {
    "duration": 13,
    "start_time": "2022-12-18T16:20:21.727Z"
   },
   {
    "duration": 35,
    "start_time": "2022-12-18T16:20:21.742Z"
   },
   {
    "duration": 164,
    "start_time": "2022-12-18T16:20:21.779Z"
   },
   {
    "duration": 3,
    "start_time": "2022-12-18T16:20:21.944Z"
   },
   {
    "duration": 15,
    "start_time": "2022-12-18T16:20:21.948Z"
   },
   {
    "duration": 5,
    "start_time": "2022-12-18T16:20:21.965Z"
   },
   {
    "duration": 25,
    "start_time": "2022-12-18T16:20:21.972Z"
   },
   {
    "duration": 16,
    "start_time": "2022-12-18T16:20:21.999Z"
   },
   {
    "duration": 12,
    "start_time": "2022-12-18T16:20:22.017Z"
   },
   {
    "duration": 8,
    "start_time": "2022-12-18T16:20:22.030Z"
   },
   {
    "duration": 35,
    "start_time": "2022-12-18T16:20:22.039Z"
   },
   {
    "duration": 16,
    "start_time": "2022-12-18T16:20:22.076Z"
   },
   {
    "duration": 241,
    "start_time": "2022-12-18T16:20:22.093Z"
   },
   {
    "duration": 11,
    "start_time": "2022-12-18T16:20:22.335Z"
   },
   {
    "duration": 0,
    "start_time": "2022-12-18T16:20:22.347Z"
   },
   {
    "duration": 0,
    "start_time": "2022-12-18T16:20:22.349Z"
   },
   {
    "duration": 0,
    "start_time": "2022-12-18T16:20:22.350Z"
   },
   {
    "duration": 0,
    "start_time": "2022-12-18T16:20:22.352Z"
   },
   {
    "duration": 0,
    "start_time": "2022-12-18T16:20:22.353Z"
   },
   {
    "duration": 0,
    "start_time": "2022-12-18T16:20:22.354Z"
   },
   {
    "duration": 18,
    "start_time": "2022-12-18T16:21:58.024Z"
   },
   {
    "duration": 14,
    "start_time": "2022-12-18T16:24:07.330Z"
   },
   {
    "duration": 4,
    "start_time": "2022-12-18T16:26:21.346Z"
   },
   {
    "duration": 6,
    "start_time": "2022-12-18T16:30:33.235Z"
   },
   {
    "duration": 4,
    "start_time": "2022-12-18T16:32:14.049Z"
   },
   {
    "duration": 3,
    "start_time": "2022-12-18T16:33:34.350Z"
   },
   {
    "duration": 1948,
    "start_time": "2022-12-18T16:33:34.355Z"
   },
   {
    "duration": 39,
    "start_time": "2022-12-18T16:33:36.305Z"
   },
   {
    "duration": 4,
    "start_time": "2022-12-18T16:33:36.346Z"
   },
   {
    "duration": 18,
    "start_time": "2022-12-18T16:33:36.352Z"
   },
   {
    "duration": 34,
    "start_time": "2022-12-18T16:33:36.371Z"
   },
   {
    "duration": 24,
    "start_time": "2022-12-18T16:33:36.406Z"
   },
   {
    "duration": 3,
    "start_time": "2022-12-18T16:33:36.432Z"
   },
   {
    "duration": 13,
    "start_time": "2022-12-18T16:33:36.436Z"
   },
   {
    "duration": 4,
    "start_time": "2022-12-18T16:33:36.450Z"
   },
   {
    "duration": 7,
    "start_time": "2022-12-18T16:33:36.455Z"
   },
   {
    "duration": 14,
    "start_time": "2022-12-18T16:33:36.463Z"
   },
   {
    "duration": 3,
    "start_time": "2022-12-18T16:33:36.478Z"
   },
   {
    "duration": 5,
    "start_time": "2022-12-18T16:33:36.483Z"
   },
   {
    "duration": 33,
    "start_time": "2022-12-18T16:33:36.489Z"
   },
   {
    "duration": 5,
    "start_time": "2022-12-18T16:33:36.524Z"
   },
   {
    "duration": 5,
    "start_time": "2022-12-18T16:33:36.531Z"
   },
   {
    "duration": 14,
    "start_time": "2022-12-18T16:33:36.537Z"
   },
   {
    "duration": 22,
    "start_time": "2022-12-18T16:33:36.553Z"
   },
   {
    "duration": 2,
    "start_time": "2022-12-18T16:33:36.577Z"
   },
   {
    "duration": 10,
    "start_time": "2022-12-18T16:33:36.580Z"
   },
   {
    "duration": 155,
    "start_time": "2022-12-18T16:33:36.592Z"
   },
   {
    "duration": 2,
    "start_time": "2022-12-18T16:33:36.749Z"
   },
   {
    "duration": 7,
    "start_time": "2022-12-18T16:33:36.752Z"
   },
   {
    "duration": 3,
    "start_time": "2022-12-18T16:33:36.760Z"
   },
   {
    "duration": 5,
    "start_time": "2022-12-18T16:33:36.764Z"
   },
   {
    "duration": 6,
    "start_time": "2022-12-18T16:33:42.564Z"
   },
   {
    "duration": 3,
    "start_time": "2022-12-18T16:33:47.227Z"
   },
   {
    "duration": 8,
    "start_time": "2022-12-18T16:33:50.176Z"
   },
   {
    "duration": 6,
    "start_time": "2022-12-18T16:33:54.056Z"
   },
   {
    "duration": 2,
    "start_time": "2022-12-18T16:34:01.265Z"
   },
   {
    "duration": 2,
    "start_time": "2022-12-18T16:34:03.673Z"
   },
   {
    "duration": 4,
    "start_time": "2022-12-18T16:34:08.347Z"
   },
   {
    "duration": 6414,
    "start_time": "2022-12-18T16:34:10.865Z"
   },
   {
    "duration": 4,
    "start_time": "2022-12-18T16:34:22.395Z"
   },
   {
    "duration": 174,
    "start_time": "2022-12-18T16:35:05.778Z"
   },
   {
    "duration": 2,
    "start_time": "2022-12-18T16:35:11.064Z"
   },
   {
    "duration": 7,
    "start_time": "2022-12-18T16:35:13.744Z"
   },
   {
    "duration": 4,
    "start_time": "2022-12-18T16:35:26.905Z"
   },
   {
    "duration": 6,
    "start_time": "2022-12-18T16:35:46.044Z"
   },
   {
    "duration": 4,
    "start_time": "2022-12-18T16:35:59.953Z"
   },
   {
    "duration": 6,
    "start_time": "2022-12-18T16:36:06.906Z"
   },
   {
    "duration": 4,
    "start_time": "2022-12-18T16:42:25.784Z"
   },
   {
    "duration": 1991,
    "start_time": "2022-12-18T16:42:25.796Z"
   },
   {
    "duration": 43,
    "start_time": "2022-12-18T16:42:27.789Z"
   },
   {
    "duration": 5,
    "start_time": "2022-12-18T16:42:27.833Z"
   },
   {
    "duration": 23,
    "start_time": "2022-12-18T16:42:27.839Z"
   },
   {
    "duration": 36,
    "start_time": "2022-12-18T16:42:27.864Z"
   },
   {
    "duration": 28,
    "start_time": "2022-12-18T16:42:27.902Z"
   },
   {
    "duration": 4,
    "start_time": "2022-12-18T16:42:27.932Z"
   },
   {
    "duration": 10,
    "start_time": "2022-12-18T16:42:27.937Z"
   },
   {
    "duration": 4,
    "start_time": "2022-12-18T16:42:27.949Z"
   },
   {
    "duration": 6,
    "start_time": "2022-12-18T16:42:27.955Z"
   },
   {
    "duration": 14,
    "start_time": "2022-12-18T16:42:27.963Z"
   },
   {
    "duration": 2,
    "start_time": "2022-12-18T16:42:27.979Z"
   },
   {
    "duration": 7,
    "start_time": "2022-12-18T16:42:27.983Z"
   },
   {
    "duration": 4,
    "start_time": "2022-12-18T16:42:28.021Z"
   },
   {
    "duration": 7,
    "start_time": "2022-12-18T16:42:28.027Z"
   },
   {
    "duration": 6,
    "start_time": "2022-12-18T16:42:28.035Z"
   },
   {
    "duration": 14,
    "start_time": "2022-12-18T16:42:28.042Z"
   },
   {
    "duration": 13,
    "start_time": "2022-12-18T16:42:28.057Z"
   },
   {
    "duration": 2,
    "start_time": "2022-12-18T16:42:28.072Z"
   },
   {
    "duration": 7,
    "start_time": "2022-12-18T16:42:28.075Z"
   },
   {
    "duration": 176,
    "start_time": "2022-12-18T16:42:28.084Z"
   },
   {
    "duration": 3,
    "start_time": "2022-12-18T16:42:28.262Z"
   },
   {
    "duration": 8,
    "start_time": "2022-12-18T16:42:28.266Z"
   },
   {
    "duration": 5,
    "start_time": "2022-12-18T16:42:28.275Z"
   },
   {
    "duration": 6,
    "start_time": "2022-12-18T16:42:28.281Z"
   },
   {
    "duration": 6,
    "start_time": "2022-12-18T16:42:28.288Z"
   },
   {
    "duration": 6,
    "start_time": "2022-12-18T16:42:28.296Z"
   },
   {
    "duration": 20,
    "start_time": "2022-12-18T16:42:28.304Z"
   },
   {
    "duration": 3,
    "start_time": "2022-12-18T16:42:28.326Z"
   },
   {
    "duration": 7,
    "start_time": "2022-12-18T16:42:28.331Z"
   },
   {
    "duration": 4,
    "start_time": "2022-12-18T16:42:28.339Z"
   },
   {
    "duration": 5,
    "start_time": "2022-12-18T16:42:28.345Z"
   },
   {
    "duration": 6137,
    "start_time": "2022-12-18T16:42:28.352Z"
   },
   {
    "duration": 4,
    "start_time": "2022-12-18T16:42:34.491Z"
   },
   {
    "duration": 4,
    "start_time": "2022-12-18T16:42:34.497Z"
   },
   {
    "duration": 23,
    "start_time": "2022-12-18T16:42:34.502Z"
   },
   {
    "duration": 7,
    "start_time": "2022-12-18T16:42:34.526Z"
   },
   {
    "duration": 7,
    "start_time": "2022-12-18T16:42:34.534Z"
   },
   {
    "duration": 5,
    "start_time": "2022-12-18T16:42:34.542Z"
   },
   {
    "duration": 7,
    "start_time": "2022-12-18T16:42:34.548Z"
   },
   {
    "duration": 4,
    "start_time": "2022-12-18T16:42:34.559Z"
   },
   {
    "duration": 11361,
    "start_time": "2022-12-18T16:42:34.564Z"
   },
   {
    "duration": 4,
    "start_time": "2022-12-18T16:42:45.926Z"
   },
   {
    "duration": 19,
    "start_time": "2022-12-18T16:42:45.931Z"
   },
   {
    "duration": 519,
    "start_time": "2022-12-18T16:42:45.952Z"
   },
   {
    "duration": 0,
    "start_time": "2022-12-18T16:42:46.472Z"
   },
   {
    "duration": 0,
    "start_time": "2022-12-18T16:42:46.473Z"
   },
   {
    "duration": 0,
    "start_time": "2022-12-18T16:42:46.474Z"
   },
   {
    "duration": 0,
    "start_time": "2022-12-18T16:42:46.475Z"
   },
   {
    "duration": 0,
    "start_time": "2022-12-18T16:42:46.476Z"
   },
   {
    "duration": 0,
    "start_time": "2022-12-18T16:42:46.477Z"
   },
   {
    "duration": 0,
    "start_time": "2022-12-18T16:42:46.478Z"
   },
   {
    "duration": 0,
    "start_time": "2022-12-18T16:42:46.479Z"
   },
   {
    "duration": 0,
    "start_time": "2022-12-18T16:42:46.479Z"
   },
   {
    "duration": 0,
    "start_time": "2022-12-18T16:42:46.481Z"
   },
   {
    "duration": 0,
    "start_time": "2022-12-18T16:42:46.482Z"
   },
   {
    "duration": 0,
    "start_time": "2022-12-18T16:42:46.482Z"
   },
   {
    "duration": 8,
    "start_time": "2022-12-18T16:43:57.287Z"
   },
   {
    "duration": 2000,
    "start_time": "2022-12-18T16:43:57.297Z"
   },
   {
    "duration": 41,
    "start_time": "2022-12-18T16:43:59.299Z"
   },
   {
    "duration": 5,
    "start_time": "2022-12-18T16:43:59.342Z"
   },
   {
    "duration": 19,
    "start_time": "2022-12-18T16:43:59.348Z"
   },
   {
    "duration": 35,
    "start_time": "2022-12-18T16:43:59.368Z"
   },
   {
    "duration": 28,
    "start_time": "2022-12-18T16:43:59.405Z"
   },
   {
    "duration": 4,
    "start_time": "2022-12-18T16:43:59.435Z"
   },
   {
    "duration": 13,
    "start_time": "2022-12-18T16:43:59.442Z"
   },
   {
    "duration": 5,
    "start_time": "2022-12-18T16:43:59.457Z"
   },
   {
    "duration": 6,
    "start_time": "2022-12-18T16:43:59.464Z"
   },
   {
    "duration": 12,
    "start_time": "2022-12-18T16:43:59.472Z"
   },
   {
    "duration": 36,
    "start_time": "2022-12-18T16:43:59.486Z"
   },
   {
    "duration": 2,
    "start_time": "2022-12-18T16:43:59.524Z"
   },
   {
    "duration": 10,
    "start_time": "2022-12-18T16:43:59.528Z"
   },
   {
    "duration": 7,
    "start_time": "2022-12-18T16:43:59.540Z"
   },
   {
    "duration": 6,
    "start_time": "2022-12-18T16:43:59.549Z"
   },
   {
    "duration": 12,
    "start_time": "2022-12-18T16:43:59.556Z"
   },
   {
    "duration": 12,
    "start_time": "2022-12-18T16:43:59.569Z"
   },
   {
    "duration": 2,
    "start_time": "2022-12-18T16:43:59.583Z"
   },
   {
    "duration": 35,
    "start_time": "2022-12-18T16:43:59.587Z"
   },
   {
    "duration": 145,
    "start_time": "2022-12-18T16:43:59.624Z"
   },
   {
    "duration": 2,
    "start_time": "2022-12-18T16:43:59.771Z"
   },
   {
    "duration": 5,
    "start_time": "2022-12-18T16:43:59.776Z"
   },
   {
    "duration": 4,
    "start_time": "2022-12-18T16:43:59.782Z"
   },
   {
    "duration": 6,
    "start_time": "2022-12-18T16:43:59.788Z"
   },
   {
    "duration": 26,
    "start_time": "2022-12-18T16:43:59.796Z"
   },
   {
    "duration": 5,
    "start_time": "2022-12-18T16:43:59.823Z"
   },
   {
    "duration": 8,
    "start_time": "2022-12-18T16:43:59.829Z"
   },
   {
    "duration": 7,
    "start_time": "2022-12-18T16:43:59.838Z"
   },
   {
    "duration": 4,
    "start_time": "2022-12-18T16:43:59.847Z"
   },
   {
    "duration": 6,
    "start_time": "2022-12-18T16:43:59.852Z"
   },
   {
    "duration": 5,
    "start_time": "2022-12-18T16:43:59.860Z"
   },
   {
    "duration": 6359,
    "start_time": "2022-12-18T16:43:59.866Z"
   },
   {
    "duration": 4,
    "start_time": "2022-12-18T16:44:06.227Z"
   },
   {
    "duration": 21,
    "start_time": "2022-12-18T16:44:06.232Z"
   },
   {
    "duration": 14,
    "start_time": "2022-12-18T16:44:06.254Z"
   },
   {
    "duration": 16,
    "start_time": "2022-12-18T16:44:06.269Z"
   },
   {
    "duration": 15,
    "start_time": "2022-12-18T16:44:06.286Z"
   },
   {
    "duration": 7,
    "start_time": "2022-12-18T16:44:06.303Z"
   },
   {
    "duration": 23,
    "start_time": "2022-12-18T16:44:06.311Z"
   },
   {
    "duration": 13,
    "start_time": "2022-12-18T16:44:06.335Z"
   },
   {
    "duration": 12877,
    "start_time": "2022-12-18T16:44:06.349Z"
   },
   {
    "duration": 4,
    "start_time": "2022-12-18T16:44:19.228Z"
   },
   {
    "duration": 11,
    "start_time": "2022-12-18T16:44:19.233Z"
   },
   {
    "duration": 11,
    "start_time": "2022-12-18T16:44:45.034Z"
   },
   {
    "duration": 5,
    "start_time": "2022-12-18T16:44:47.809Z"
   },
   {
    "duration": 6,
    "start_time": "2022-12-18T16:44:51.323Z"
   },
   {
    "duration": 3,
    "start_time": "2022-12-18T16:45:09.205Z"
   },
   {
    "duration": 128078,
    "start_time": "2022-12-18T16:45:11.608Z"
   },
   {
    "duration": 3,
    "start_time": "2022-12-18T16:48:58.088Z"
   },
   {
    "duration": 21,
    "start_time": "2022-12-18T16:48:59.960Z"
   },
   {
    "duration": 20,
    "start_time": "2022-12-18T16:49:02.437Z"
   },
   {
    "duration": 22,
    "start_time": "2022-12-18T16:49:06.424Z"
   },
   {
    "duration": 4,
    "start_time": "2022-12-18T16:49:08.864Z"
   },
   {
    "duration": 9,
    "start_time": "2022-12-18T16:49:19.259Z"
   },
   {
    "duration": 161,
    "start_time": "2022-12-18T16:49:21.196Z"
   },
   {
    "duration": 6,
    "start_time": "2022-12-18T16:49:54.546Z"
   },
   {
    "duration": 170,
    "start_time": "2022-12-18T16:49:57.456Z"
   },
   {
    "duration": 4,
    "start_time": "2022-12-18T16:55:43.804Z"
   },
   {
    "duration": 2092,
    "start_time": "2022-12-18T16:55:43.813Z"
   },
   {
    "duration": 40,
    "start_time": "2022-12-18T16:55:45.907Z"
   },
   {
    "duration": 4,
    "start_time": "2022-12-18T16:55:45.950Z"
   },
   {
    "duration": 20,
    "start_time": "2022-12-18T16:55:45.956Z"
   },
   {
    "duration": 35,
    "start_time": "2022-12-18T16:55:45.978Z"
   },
   {
    "duration": 18,
    "start_time": "2022-12-18T16:55:46.014Z"
   },
   {
    "duration": 4,
    "start_time": "2022-12-18T16:55:46.034Z"
   },
   {
    "duration": 13,
    "start_time": "2022-12-18T16:55:46.039Z"
   },
   {
    "duration": 5,
    "start_time": "2022-12-18T16:55:46.054Z"
   },
   {
    "duration": 6,
    "start_time": "2022-12-18T16:55:46.061Z"
   },
   {
    "duration": 11,
    "start_time": "2022-12-18T16:55:46.069Z"
   },
   {
    "duration": 3,
    "start_time": "2022-12-18T16:55:46.082Z"
   },
   {
    "duration": 42,
    "start_time": "2022-12-18T16:55:46.086Z"
   },
   {
    "duration": 7,
    "start_time": "2022-12-18T16:55:46.129Z"
   },
   {
    "duration": 7,
    "start_time": "2022-12-18T16:55:46.137Z"
   },
   {
    "duration": 5,
    "start_time": "2022-12-18T16:55:46.146Z"
   },
   {
    "duration": 13,
    "start_time": "2022-12-18T16:55:46.152Z"
   },
   {
    "duration": 13,
    "start_time": "2022-12-18T16:55:46.167Z"
   },
   {
    "duration": 2,
    "start_time": "2022-12-18T16:55:46.181Z"
   },
   {
    "duration": 10,
    "start_time": "2022-12-18T16:55:46.185Z"
   },
   {
    "duration": 189,
    "start_time": "2022-12-18T16:55:46.221Z"
   },
   {
    "duration": 3,
    "start_time": "2022-12-18T16:55:46.411Z"
   },
   {
    "duration": 4,
    "start_time": "2022-12-18T16:55:46.422Z"
   },
   {
    "duration": 8,
    "start_time": "2022-12-18T16:55:46.428Z"
   },
   {
    "duration": 15,
    "start_time": "2022-12-18T16:55:46.437Z"
   },
   {
    "duration": 10,
    "start_time": "2022-12-18T16:55:46.454Z"
   },
   {
    "duration": 5,
    "start_time": "2022-12-18T16:55:46.466Z"
   },
   {
    "duration": 7,
    "start_time": "2022-12-18T16:55:46.478Z"
   },
   {
    "duration": 5,
    "start_time": "2022-12-18T16:55:46.487Z"
   },
   {
    "duration": 29,
    "start_time": "2022-12-18T16:55:46.493Z"
   },
   {
    "duration": 3,
    "start_time": "2022-12-18T16:55:46.524Z"
   },
   {
    "duration": 6,
    "start_time": "2022-12-18T16:55:46.529Z"
   },
   {
    "duration": 6553,
    "start_time": "2022-12-18T16:55:46.536Z"
   },
   {
    "duration": 4,
    "start_time": "2022-12-18T16:55:53.091Z"
   },
   {
    "duration": 9,
    "start_time": "2022-12-18T16:55:53.096Z"
   },
   {
    "duration": 18,
    "start_time": "2022-12-18T16:55:53.106Z"
   },
   {
    "duration": 5,
    "start_time": "2022-12-18T16:55:53.126Z"
   },
   {
    "duration": 7,
    "start_time": "2022-12-18T16:55:53.133Z"
   },
   {
    "duration": 6,
    "start_time": "2022-12-18T16:55:53.141Z"
   },
   {
    "duration": 8,
    "start_time": "2022-12-18T16:55:53.149Z"
   },
   {
    "duration": 4,
    "start_time": "2022-12-18T16:55:53.159Z"
   },
   {
    "duration": 10758,
    "start_time": "2022-12-18T16:55:53.165Z"
   },
   {
    "duration": 4,
    "start_time": "2022-12-18T16:56:03.925Z"
   },
   {
    "duration": 10,
    "start_time": "2022-12-18T16:56:03.930Z"
   },
   {
    "duration": 197,
    "start_time": "2022-12-18T16:56:03.942Z"
   },
   {
    "duration": 105,
    "start_time": "2022-12-18T16:56:04.226Z"
   },
   {
    "duration": 190,
    "start_time": "2022-12-18T16:56:04.333Z"
   },
   {
    "duration": 3,
    "start_time": "2022-12-18T16:56:04.525Z"
   },
   {
    "duration": 130784,
    "start_time": "2022-12-18T16:56:04.530Z"
   },
   {
    "duration": 4,
    "start_time": "2022-12-18T16:58:15.322Z"
   },
   {
    "duration": 39,
    "start_time": "2022-12-18T16:58:15.327Z"
   },
   {
    "duration": 21,
    "start_time": "2022-12-18T16:58:15.368Z"
   },
   {
    "duration": 20,
    "start_time": "2022-12-18T16:58:15.391Z"
   },
   {
    "duration": 10,
    "start_time": "2022-12-18T16:58:15.413Z"
   },
   {
    "duration": 10,
    "start_time": "2022-12-18T16:58:15.425Z"
   },
   {
    "duration": 8,
    "start_time": "2022-12-18T16:58:15.437Z"
   },
   {
    "duration": 195,
    "start_time": "2022-12-18T16:58:15.446Z"
   },
   {
    "duration": 2,
    "start_time": "2022-12-18T16:58:15.643Z"
   },
   {
    "duration": 13,
    "start_time": "2022-12-18T16:58:15.647Z"
   },
   {
    "duration": 6437,
    "start_time": "2022-12-18T16:58:15.662Z"
   },
   {
    "duration": 3,
    "start_time": "2022-12-18T16:58:22.101Z"
   },
   {
    "duration": 20,
    "start_time": "2022-12-18T16:58:22.106Z"
   },
   {
    "duration": 174,
    "start_time": "2022-12-18T16:58:22.127Z"
   },
   {
    "duration": 0,
    "start_time": "2022-12-18T16:58:22.302Z"
   },
   {
    "duration": 0,
    "start_time": "2022-12-18T16:58:22.304Z"
   },
   {
    "duration": 0,
    "start_time": "2022-12-18T16:58:22.305Z"
   },
   {
    "duration": 0,
    "start_time": "2022-12-18T16:58:22.306Z"
   },
   {
    "duration": 0,
    "start_time": "2022-12-18T16:58:22.307Z"
   },
   {
    "duration": 0,
    "start_time": "2022-12-18T16:58:22.322Z"
   },
   {
    "duration": 0,
    "start_time": "2022-12-18T16:58:22.323Z"
   },
   {
    "duration": 0,
    "start_time": "2022-12-18T16:58:22.325Z"
   },
   {
    "duration": 0,
    "start_time": "2022-12-18T16:58:22.326Z"
   },
   {
    "duration": 0,
    "start_time": "2022-12-18T16:58:22.327Z"
   },
   {
    "duration": 1,
    "start_time": "2022-12-18T16:58:22.327Z"
   },
   {
    "duration": 0,
    "start_time": "2022-12-18T16:58:22.328Z"
   },
   {
    "duration": 0,
    "start_time": "2022-12-18T16:58:22.329Z"
   },
   {
    "duration": 0,
    "start_time": "2022-12-18T16:58:22.330Z"
   },
   {
    "duration": 0,
    "start_time": "2022-12-18T16:58:22.331Z"
   },
   {
    "duration": 0,
    "start_time": "2022-12-18T16:58:22.332Z"
   },
   {
    "duration": 8,
    "start_time": "2022-12-18T17:02:44.012Z"
   },
   {
    "duration": 9,
    "start_time": "2022-12-18T17:02:49.480Z"
   },
   {
    "duration": 4,
    "start_time": "2022-12-18T17:02:56.687Z"
   },
   {
    "duration": 132564,
    "start_time": "2022-12-18T17:02:58.327Z"
   },
   {
    "duration": 4,
    "start_time": "2022-12-18T17:05:19.036Z"
   },
   {
    "duration": 14,
    "start_time": "2022-12-18T17:05:21.492Z"
   },
   {
    "duration": 15,
    "start_time": "2022-12-18T17:05:23.746Z"
   },
   {
    "duration": 18,
    "start_time": "2022-12-18T17:05:29.950Z"
   },
   {
    "duration": 4,
    "start_time": "2022-12-18T17:05:34.785Z"
   },
   {
    "duration": 11,
    "start_time": "2022-12-18T17:05:43.716Z"
   },
   {
    "duration": 14627,
    "start_time": "2022-12-18T17:05:52.899Z"
   },
   {
    "duration": 3,
    "start_time": "2022-12-18T17:07:38.655Z"
   },
   {
    "duration": 12,
    "start_time": "2022-12-18T17:07:41.259Z"
   },
   {
    "duration": 10,
    "start_time": "2022-12-18T17:07:43.344Z"
   },
   {
    "duration": 10,
    "start_time": "2022-12-18T17:07:45.849Z"
   },
   {
    "duration": 5,
    "start_time": "2022-12-18T17:07:54.799Z"
   },
   {
    "duration": 10,
    "start_time": "2022-12-18T17:07:58.606Z"
   },
   {
    "duration": 6,
    "start_time": "2022-12-18T17:08:03.053Z"
   },
   {
    "duration": 182,
    "start_time": "2022-12-18T17:08:06.913Z"
   },
   {
    "duration": 72,
    "start_time": "2022-12-18T17:22:17.456Z"
   },
   {
    "duration": 4,
    "start_time": "2022-12-18T17:44:00.267Z"
   },
   {
    "duration": 11,
    "start_time": "2022-12-18T17:44:04.295Z"
   },
   {
    "duration": 3,
    "start_time": "2022-12-18T17:44:08.168Z"
   },
   {
    "duration": 8651,
    "start_time": "2022-12-18T17:44:21.854Z"
   },
   {
    "duration": 4,
    "start_time": "2022-12-18T17:44:37.735Z"
   },
   {
    "duration": 13,
    "start_time": "2022-12-18T17:44:42.184Z"
   },
   {
    "duration": 8,
    "start_time": "2022-12-18T17:45:52.085Z"
   },
   {
    "duration": 10,
    "start_time": "2022-12-18T17:45:59.458Z"
   },
   {
    "duration": 9,
    "start_time": "2022-12-18T17:46:07.673Z"
   },
   {
    "duration": 4,
    "start_time": "2022-12-18T17:49:23.173Z"
   },
   {
    "duration": 134517,
    "start_time": "2022-12-18T17:49:26.127Z"
   },
   {
    "duration": 5,
    "start_time": "2022-12-18T17:56:09.641Z"
   },
   {
    "duration": 14,
    "start_time": "2022-12-18T17:56:17.015Z"
   },
   {
    "duration": 15,
    "start_time": "2022-12-18T17:56:20.267Z"
   },
   {
    "duration": 16,
    "start_time": "2022-12-18T17:56:23.098Z"
   },
   {
    "duration": 4,
    "start_time": "2022-12-18T18:00:19.367Z"
   },
   {
    "duration": 2001,
    "start_time": "2022-12-18T18:00:19.373Z"
   },
   {
    "duration": 40,
    "start_time": "2022-12-18T18:00:21.376Z"
   },
   {
    "duration": 4,
    "start_time": "2022-12-18T18:00:21.418Z"
   },
   {
    "duration": 30,
    "start_time": "2022-12-18T18:00:21.425Z"
   },
   {
    "duration": 37,
    "start_time": "2022-12-18T18:00:21.457Z"
   },
   {
    "duration": 12,
    "start_time": "2022-12-18T18:00:21.496Z"
   },
   {
    "duration": 14,
    "start_time": "2022-12-18T18:00:21.510Z"
   },
   {
    "duration": 38,
    "start_time": "2022-12-18T18:00:21.526Z"
   },
   {
    "duration": 4,
    "start_time": "2022-12-18T18:00:21.566Z"
   },
   {
    "duration": 13,
    "start_time": "2022-12-18T18:00:21.573Z"
   },
   {
    "duration": 16,
    "start_time": "2022-12-18T18:00:21.588Z"
   },
   {
    "duration": 11,
    "start_time": "2022-12-18T18:00:21.605Z"
   },
   {
    "duration": 6,
    "start_time": "2022-12-18T18:00:21.617Z"
   },
   {
    "duration": 7,
    "start_time": "2022-12-18T18:00:21.625Z"
   },
   {
    "duration": 8,
    "start_time": "2022-12-18T18:00:21.634Z"
   },
   {
    "duration": 9,
    "start_time": "2022-12-18T18:00:21.644Z"
   },
   {
    "duration": 16,
    "start_time": "2022-12-18T18:00:21.655Z"
   },
   {
    "duration": 14,
    "start_time": "2022-12-18T18:00:21.673Z"
   },
   {
    "duration": 3,
    "start_time": "2022-12-18T18:00:21.688Z"
   },
   {
    "duration": 9,
    "start_time": "2022-12-18T18:00:21.692Z"
   },
   {
    "duration": 168,
    "start_time": "2022-12-18T18:00:21.722Z"
   },
   {
    "duration": 3,
    "start_time": "2022-12-18T18:00:21.892Z"
   },
   {
    "duration": 25,
    "start_time": "2022-12-18T18:00:21.897Z"
   },
   {
    "duration": 20,
    "start_time": "2022-12-18T18:00:21.925Z"
   },
   {
    "duration": 17,
    "start_time": "2022-12-18T18:00:21.947Z"
   },
   {
    "duration": 34,
    "start_time": "2022-12-18T18:00:21.966Z"
   },
   {
    "duration": 31,
    "start_time": "2022-12-18T18:00:22.002Z"
   },
   {
    "duration": 15,
    "start_time": "2022-12-18T18:00:22.038Z"
   },
   {
    "duration": 21,
    "start_time": "2022-12-18T18:00:22.055Z"
   },
   {
    "duration": 17,
    "start_time": "2022-12-18T18:00:22.077Z"
   },
   {
    "duration": 21,
    "start_time": "2022-12-18T18:00:22.096Z"
   },
   {
    "duration": 33,
    "start_time": "2022-12-18T18:00:22.119Z"
   },
   {
    "duration": 6420,
    "start_time": "2022-12-18T18:00:22.154Z"
   },
   {
    "duration": 4,
    "start_time": "2022-12-18T18:00:28.575Z"
   },
   {
    "duration": 8,
    "start_time": "2022-12-18T18:00:28.581Z"
   },
   {
    "duration": 9,
    "start_time": "2022-12-18T18:00:28.590Z"
   },
   {
    "duration": 6,
    "start_time": "2022-12-18T18:00:28.601Z"
   },
   {
    "duration": 6,
    "start_time": "2022-12-18T18:00:28.623Z"
   },
   {
    "duration": 8,
    "start_time": "2022-12-18T18:00:28.630Z"
   },
   {
    "duration": 8,
    "start_time": "2022-12-18T18:00:28.640Z"
   },
   {
    "duration": 7,
    "start_time": "2022-12-18T18:00:28.650Z"
   },
   {
    "duration": 11665,
    "start_time": "2022-12-18T18:00:28.659Z"
   },
   {
    "duration": 5,
    "start_time": "2022-12-18T18:00:40.325Z"
   },
   {
    "duration": 12,
    "start_time": "2022-12-18T18:00:40.332Z"
   },
   {
    "duration": 183,
    "start_time": "2022-12-18T18:00:40.346Z"
   },
   {
    "duration": 190,
    "start_time": "2022-12-18T18:00:40.533Z"
   },
   {
    "duration": 106,
    "start_time": "2022-12-18T18:00:40.729Z"
   },
   {
    "duration": 4,
    "start_time": "2022-12-18T18:00:40.836Z"
   },
   {
    "duration": 127779,
    "start_time": "2022-12-18T18:00:40.842Z"
   },
   {
    "duration": 4,
    "start_time": "2022-12-18T18:02:48.623Z"
   },
   {
    "duration": 23,
    "start_time": "2022-12-18T18:02:48.629Z"
   },
   {
    "duration": 20,
    "start_time": "2022-12-18T18:02:48.654Z"
   },
   {
    "duration": 22,
    "start_time": "2022-12-18T18:02:48.676Z"
   },
   {
    "duration": 4,
    "start_time": "2022-12-18T18:02:48.723Z"
   },
   {
    "duration": 10,
    "start_time": "2022-12-18T18:02:48.728Z"
   },
   {
    "duration": 9,
    "start_time": "2022-12-18T18:02:48.740Z"
   },
   {
    "duration": 192,
    "start_time": "2022-12-18T18:02:48.750Z"
   },
   {
    "duration": 3,
    "start_time": "2022-12-18T18:02:48.944Z"
   },
   {
    "duration": 8,
    "start_time": "2022-12-18T18:02:48.948Z"
   },
   {
    "duration": 6420,
    "start_time": "2022-12-18T18:02:48.958Z"
   },
   {
    "duration": 3,
    "start_time": "2022-12-18T18:02:55.380Z"
   },
   {
    "duration": 10,
    "start_time": "2022-12-18T18:02:55.385Z"
   },
   {
    "duration": 7,
    "start_time": "2022-12-18T18:02:55.397Z"
   },
   {
    "duration": 23,
    "start_time": "2022-12-18T18:02:55.405Z"
   },
   {
    "duration": 3,
    "start_time": "2022-12-18T18:02:55.430Z"
   },
   {
    "duration": 128841,
    "start_time": "2022-12-18T18:02:55.434Z"
   },
   {
    "duration": 4,
    "start_time": "2022-12-18T18:05:04.276Z"
   },
   {
    "duration": 36,
    "start_time": "2022-12-18T18:05:04.281Z"
   },
   {
    "duration": 30,
    "start_time": "2022-12-18T18:05:04.318Z"
   },
   {
    "duration": 30,
    "start_time": "2022-12-18T18:05:04.350Z"
   },
   {
    "duration": 11,
    "start_time": "2022-12-18T18:05:04.381Z"
   },
   {
    "duration": 12232,
    "start_time": "2022-12-18T18:05:04.394Z"
   },
   {
    "duration": 3,
    "start_time": "2022-12-18T18:05:16.628Z"
   },
   {
    "duration": 13,
    "start_time": "2022-12-18T18:05:16.633Z"
   },
   {
    "duration": 180,
    "start_time": "2022-12-18T18:05:16.648Z"
   },
   {
    "duration": 192,
    "start_time": "2022-12-18T18:05:16.833Z"
   },
   {
    "duration": 98,
    "start_time": "2022-12-18T18:05:17.030Z"
   },
   {
    "duration": 13,
    "start_time": "2022-12-18T18:05:17.129Z"
   },
   {
    "duration": 7,
    "start_time": "2022-12-18T18:05:17.144Z"
   },
   {
    "duration": 190,
    "start_time": "2022-12-18T18:05:17.153Z"
   },
   {
    "duration": 4,
    "start_time": "2022-12-18T18:05:17.344Z"
   },
   {
    "duration": 18,
    "start_time": "2022-12-18T18:05:17.353Z"
   },
   {
    "duration": 4,
    "start_time": "2022-12-18T18:05:17.372Z"
   },
   {
    "duration": 8025,
    "start_time": "2022-12-18T18:05:17.377Z"
   },
   {
    "duration": 4,
    "start_time": "2022-12-18T18:05:25.404Z"
   },
   {
    "duration": 10,
    "start_time": "2022-12-18T18:05:25.422Z"
   },
   {
    "duration": 24,
    "start_time": "2022-12-18T18:05:25.434Z"
   },
   {
    "duration": 10,
    "start_time": "2022-12-18T18:05:25.460Z"
   },
   {
    "duration": 6,
    "start_time": "2022-12-18T18:05:25.471Z"
   },
   {
    "duration": 128377,
    "start_time": "2022-12-18T18:05:25.479Z"
   },
   {
    "duration": 4,
    "start_time": "2022-12-18T18:07:33.858Z"
   },
   {
    "duration": 16,
    "start_time": "2022-12-18T18:07:33.864Z"
   },
   {
    "duration": 15,
    "start_time": "2022-12-18T18:07:33.882Z"
   },
   {
    "duration": 37,
    "start_time": "2022-12-18T18:07:33.898Z"
   },
   {
    "duration": 4,
    "start_time": "2022-12-18T18:07:33.937Z"
   },
   {
    "duration": 11690,
    "start_time": "2022-12-18T18:07:33.942Z"
   },
   {
    "duration": 4,
    "start_time": "2022-12-18T18:07:45.633Z"
   },
   {
    "duration": 17,
    "start_time": "2022-12-18T18:07:45.638Z"
   },
   {
    "duration": 102,
    "start_time": "2022-12-18T18:07:45.721Z"
   },
   {
    "duration": 346,
    "start_time": "2022-12-18T18:07:45.825Z"
   },
   {
    "duration": 8,
    "start_time": "2022-12-18T18:10:11.002Z"
   },
   {
    "duration": 4,
    "start_time": "2022-12-18T18:12:34.539Z"
   },
   {
    "duration": 10,
    "start_time": "2022-12-18T18:12:54.389Z"
   },
   {
    "duration": 8,
    "start_time": "2022-12-18T18:17:42.617Z"
   },
   {
    "duration": 180,
    "start_time": "2022-12-18T18:17:45.203Z"
   },
   {
    "duration": 4,
    "start_time": "2022-12-18T18:18:25.220Z"
   },
   {
    "duration": 2059,
    "start_time": "2022-12-18T18:18:25.243Z"
   },
   {
    "duration": 41,
    "start_time": "2022-12-18T18:18:27.304Z"
   },
   {
    "duration": 4,
    "start_time": "2022-12-18T18:18:27.347Z"
   },
   {
    "duration": 19,
    "start_time": "2022-12-18T18:18:27.353Z"
   },
   {
    "duration": 34,
    "start_time": "2022-12-18T18:18:27.374Z"
   },
   {
    "duration": 14,
    "start_time": "2022-12-18T18:18:27.421Z"
   },
   {
    "duration": 4,
    "start_time": "2022-12-18T18:18:27.437Z"
   },
   {
    "duration": 13,
    "start_time": "2022-12-18T18:18:27.443Z"
   },
   {
    "duration": 5,
    "start_time": "2022-12-18T18:18:27.458Z"
   },
   {
    "duration": 10,
    "start_time": "2022-12-18T18:18:27.466Z"
   },
   {
    "duration": 46,
    "start_time": "2022-12-18T18:18:27.478Z"
   },
   {
    "duration": 3,
    "start_time": "2022-12-18T18:18:27.526Z"
   },
   {
    "duration": 7,
    "start_time": "2022-12-18T18:18:27.530Z"
   },
   {
    "duration": 9,
    "start_time": "2022-12-18T18:18:27.539Z"
   },
   {
    "duration": 7,
    "start_time": "2022-12-18T18:18:27.550Z"
   },
   {
    "duration": 8,
    "start_time": "2022-12-18T18:18:27.559Z"
   },
   {
    "duration": 27,
    "start_time": "2022-12-18T18:18:27.568Z"
   },
   {
    "duration": 36,
    "start_time": "2022-12-18T18:18:27.597Z"
   },
   {
    "duration": 2,
    "start_time": "2022-12-18T18:18:27.636Z"
   },
   {
    "duration": 8,
    "start_time": "2022-12-18T18:18:27.640Z"
   },
   {
    "duration": 152,
    "start_time": "2022-12-18T18:18:27.651Z"
   },
   {
    "duration": 2,
    "start_time": "2022-12-18T18:18:27.805Z"
   },
   {
    "duration": 15,
    "start_time": "2022-12-18T18:18:27.809Z"
   },
   {
    "duration": 8,
    "start_time": "2022-12-18T18:18:27.826Z"
   },
   {
    "duration": 7,
    "start_time": "2022-12-18T18:18:27.836Z"
   },
   {
    "duration": 14,
    "start_time": "2022-12-18T18:18:27.845Z"
   },
   {
    "duration": 5,
    "start_time": "2022-12-18T18:18:27.863Z"
   },
   {
    "duration": 26,
    "start_time": "2022-12-18T18:18:27.874Z"
   },
   {
    "duration": 6,
    "start_time": "2022-12-18T18:18:27.902Z"
   },
   {
    "duration": 16,
    "start_time": "2022-12-18T18:18:27.909Z"
   },
   {
    "duration": 8,
    "start_time": "2022-12-18T18:18:27.926Z"
   },
   {
    "duration": 6,
    "start_time": "2022-12-18T18:18:27.936Z"
   },
   {
    "duration": 6303,
    "start_time": "2022-12-18T18:18:27.945Z"
   },
   {
    "duration": 6,
    "start_time": "2022-12-18T18:18:34.250Z"
   },
   {
    "duration": 9,
    "start_time": "2022-12-18T18:18:34.258Z"
   },
   {
    "duration": 20,
    "start_time": "2022-12-18T18:18:34.270Z"
   },
   {
    "duration": 8,
    "start_time": "2022-12-18T18:18:34.292Z"
   },
   {
    "duration": 21,
    "start_time": "2022-12-18T18:18:34.302Z"
   },
   {
    "duration": 8,
    "start_time": "2022-12-18T18:18:34.326Z"
   },
   {
    "duration": 17,
    "start_time": "2022-12-18T18:18:34.336Z"
   },
   {
    "duration": 5,
    "start_time": "2022-12-18T18:18:34.355Z"
   },
   {
    "duration": 11266,
    "start_time": "2022-12-18T18:18:34.361Z"
   },
   {
    "duration": 5,
    "start_time": "2022-12-18T18:18:45.629Z"
   },
   {
    "duration": 10,
    "start_time": "2022-12-18T18:18:45.636Z"
   },
   {
    "duration": 85,
    "start_time": "2022-12-18T18:18:45.647Z"
   },
   {
    "duration": 194,
    "start_time": "2022-12-18T18:18:45.734Z"
   },
   {
    "duration": 99,
    "start_time": "2022-12-18T18:18:45.930Z"
   },
   {
    "duration": 96,
    "start_time": "2022-12-18T18:18:46.032Z"
   },
   {
    "duration": 132002,
    "start_time": "2022-12-18T18:18:46.131Z"
   },
   {
    "duration": 6,
    "start_time": "2022-12-18T18:20:58.135Z"
   },
   {
    "duration": 21,
    "start_time": "2022-12-18T18:20:58.143Z"
   },
   {
    "duration": 20,
    "start_time": "2022-12-18T18:20:58.166Z"
   },
   {
    "duration": 40,
    "start_time": "2022-12-18T18:20:58.188Z"
   },
   {
    "duration": 4,
    "start_time": "2022-12-18T18:20:58.229Z"
   },
   {
    "duration": 10,
    "start_time": "2022-12-18T18:20:58.234Z"
   },
   {
    "duration": 6,
    "start_time": "2022-12-18T18:20:58.246Z"
   },
   {
    "duration": 227,
    "start_time": "2022-12-18T18:20:58.254Z"
   },
   {
    "duration": 3,
    "start_time": "2022-12-18T18:20:58.483Z"
   },
   {
    "duration": 6,
    "start_time": "2022-12-18T18:20:58.487Z"
   },
   {
    "duration": 6697,
    "start_time": "2022-12-18T18:20:58.494Z"
   },
   {
    "duration": 5,
    "start_time": "2022-12-18T18:21:05.193Z"
   },
   {
    "duration": 29,
    "start_time": "2022-12-18T18:21:05.200Z"
   },
   {
    "duration": 20,
    "start_time": "2022-12-18T18:21:05.231Z"
   },
   {
    "duration": 10,
    "start_time": "2022-12-18T18:21:05.253Z"
   },
   {
    "duration": 5,
    "start_time": "2022-12-18T18:21:05.264Z"
   },
   {
    "duration": 130433,
    "start_time": "2022-12-18T18:21:05.271Z"
   },
   {
    "duration": 4,
    "start_time": "2022-12-18T18:23:15.705Z"
   },
   {
    "duration": 27,
    "start_time": "2022-12-18T18:23:15.710Z"
   },
   {
    "duration": 15,
    "start_time": "2022-12-18T18:23:15.739Z"
   },
   {
    "duration": 16,
    "start_time": "2022-12-18T18:23:15.756Z"
   },
   {
    "duration": 4,
    "start_time": "2022-12-18T18:23:15.774Z"
   },
   {
    "duration": 11947,
    "start_time": "2022-12-18T18:23:15.779Z"
   },
   {
    "duration": 4,
    "start_time": "2022-12-18T18:23:27.727Z"
   },
   {
    "duration": 11,
    "start_time": "2022-12-18T18:23:27.732Z"
   },
   {
    "duration": 191,
    "start_time": "2022-12-18T18:23:27.745Z"
   },
   {
    "duration": 199,
    "start_time": "2022-12-18T18:23:27.938Z"
   },
   {
    "duration": 86,
    "start_time": "2022-12-18T18:23:28.139Z"
   },
   {
    "duration": 104,
    "start_time": "2022-12-18T18:23:28.227Z"
   },
   {
    "duration": 6,
    "start_time": "2022-12-18T18:23:28.333Z"
   },
   {
    "duration": 192,
    "start_time": "2022-12-18T18:23:28.341Z"
   },
   {
    "duration": 3,
    "start_time": "2022-12-18T18:23:28.535Z"
   },
   {
    "duration": 11,
    "start_time": "2022-12-18T18:23:28.543Z"
   },
   {
    "duration": 3,
    "start_time": "2022-12-18T18:23:28.556Z"
   },
   {
    "duration": 8040,
    "start_time": "2022-12-18T18:23:28.560Z"
   },
   {
    "duration": 4,
    "start_time": "2022-12-18T18:23:36.601Z"
   },
   {
    "duration": 17,
    "start_time": "2022-12-18T18:23:36.607Z"
   },
   {
    "duration": 8,
    "start_time": "2022-12-18T18:23:36.625Z"
   },
   {
    "duration": 8,
    "start_time": "2022-12-18T18:23:36.634Z"
   },
   {
    "duration": 4,
    "start_time": "2022-12-18T18:23:36.643Z"
   },
   {
    "duration": 130374,
    "start_time": "2022-12-18T18:23:36.648Z"
   },
   {
    "duration": 4,
    "start_time": "2022-12-18T18:25:47.023Z"
   },
   {
    "duration": 19,
    "start_time": "2022-12-18T18:25:47.029Z"
   },
   {
    "duration": 16,
    "start_time": "2022-12-18T18:25:47.050Z"
   },
   {
    "duration": 17,
    "start_time": "2022-12-18T18:25:47.067Z"
   },
   {
    "duration": 3,
    "start_time": "2022-12-18T18:25:47.086Z"
   },
   {
    "duration": 12003,
    "start_time": "2022-12-18T18:25:47.122Z"
   },
   {
    "duration": 3,
    "start_time": "2022-12-18T18:25:59.127Z"
   },
   {
    "duration": 9,
    "start_time": "2022-12-18T18:25:59.132Z"
   },
   {
    "duration": 86,
    "start_time": "2022-12-18T18:25:59.144Z"
   },
   {
    "duration": 193,
    "start_time": "2022-12-18T18:25:59.234Z"
   },
   {
    "duration": 196,
    "start_time": "2022-12-18T18:25:59.429Z"
   },
   {
    "duration": 10,
    "start_time": "2022-12-18T18:25:59.628Z"
   },
   {
    "duration": 8,
    "start_time": "2022-12-18T18:25:59.640Z"
   },
   {
    "duration": 215,
    "start_time": "2022-12-18T18:25:59.649Z"
   },
   {
    "duration": 71,
    "start_time": "2022-12-18T18:26:13.222Z"
   },
   {
    "duration": 70,
    "start_time": "2022-12-18T18:26:41.468Z"
   },
   {
    "duration": 104,
    "start_time": "2022-12-18T18:27:59.452Z"
   },
   {
    "duration": 10,
    "start_time": "2022-12-18T18:28:15.112Z"
   },
   {
    "duration": 4,
    "start_time": "2022-12-18T18:35:42.412Z"
   },
   {
    "duration": 2163,
    "start_time": "2022-12-18T18:35:42.419Z"
   },
   {
    "duration": 41,
    "start_time": "2022-12-18T18:35:44.584Z"
   },
   {
    "duration": 4,
    "start_time": "2022-12-18T18:35:44.627Z"
   },
   {
    "duration": 42,
    "start_time": "2022-12-18T18:35:44.633Z"
   },
   {
    "duration": 49,
    "start_time": "2022-12-18T18:35:44.677Z"
   },
   {
    "duration": 12,
    "start_time": "2022-12-18T18:35:44.728Z"
   },
   {
    "duration": 14,
    "start_time": "2022-12-18T18:35:44.741Z"
   },
   {
    "duration": 17,
    "start_time": "2022-12-18T18:35:44.757Z"
   },
   {
    "duration": 7,
    "start_time": "2022-12-18T18:35:44.775Z"
   },
   {
    "duration": 15,
    "start_time": "2022-12-18T18:35:44.784Z"
   },
   {
    "duration": 30,
    "start_time": "2022-12-18T18:35:44.801Z"
   },
   {
    "duration": 12,
    "start_time": "2022-12-18T18:35:44.833Z"
   },
   {
    "duration": 19,
    "start_time": "2022-12-18T18:35:44.847Z"
   },
   {
    "duration": 28,
    "start_time": "2022-12-18T18:35:44.868Z"
   },
   {
    "duration": 17,
    "start_time": "2022-12-18T18:35:44.897Z"
   },
   {
    "duration": 29,
    "start_time": "2022-12-18T18:35:44.915Z"
   },
   {
    "duration": 21,
    "start_time": "2022-12-18T18:35:44.945Z"
   },
   {
    "duration": 24,
    "start_time": "2022-12-18T18:35:44.969Z"
   },
   {
    "duration": 20,
    "start_time": "2022-12-18T18:35:44.994Z"
   },
   {
    "duration": 17,
    "start_time": "2022-12-18T18:35:45.015Z"
   },
   {
    "duration": 158,
    "start_time": "2022-12-18T18:35:45.034Z"
   },
   {
    "duration": 2,
    "start_time": "2022-12-18T18:35:45.194Z"
   },
   {
    "duration": 36,
    "start_time": "2022-12-18T18:35:45.200Z"
   },
   {
    "duration": 31,
    "start_time": "2022-12-18T18:35:45.238Z"
   },
   {
    "duration": 23,
    "start_time": "2022-12-18T18:35:45.270Z"
   },
   {
    "duration": 29,
    "start_time": "2022-12-18T18:35:45.294Z"
   },
   {
    "duration": 18,
    "start_time": "2022-12-18T18:35:45.325Z"
   },
   {
    "duration": 28,
    "start_time": "2022-12-18T18:35:45.345Z"
   },
   {
    "duration": 5,
    "start_time": "2022-12-18T18:35:45.374Z"
   },
   {
    "duration": 26,
    "start_time": "2022-12-18T18:35:45.380Z"
   },
   {
    "duration": 34,
    "start_time": "2022-12-18T18:35:45.408Z"
   },
   {
    "duration": 12,
    "start_time": "2022-12-18T18:35:45.444Z"
   },
   {
    "duration": 6304,
    "start_time": "2022-12-18T18:35:45.457Z"
   },
   {
    "duration": 4,
    "start_time": "2022-12-18T18:35:51.762Z"
   },
   {
    "duration": 5,
    "start_time": "2022-12-18T18:35:51.768Z"
   },
   {
    "duration": 9,
    "start_time": "2022-12-18T18:35:51.774Z"
   },
   {
    "duration": 6,
    "start_time": "2022-12-18T18:35:51.785Z"
   },
   {
    "duration": 31,
    "start_time": "2022-12-18T18:35:51.793Z"
   },
   {
    "duration": 5,
    "start_time": "2022-12-18T18:35:51.826Z"
   },
   {
    "duration": 10,
    "start_time": "2022-12-18T18:35:51.832Z"
   },
   {
    "duration": 8,
    "start_time": "2022-12-18T18:35:51.843Z"
   },
   {
    "duration": 12178,
    "start_time": "2022-12-18T18:35:51.852Z"
   },
   {
    "duration": 7,
    "start_time": "2022-12-18T18:36:04.031Z"
   },
   {
    "duration": 26,
    "start_time": "2022-12-18T18:36:04.040Z"
   },
   {
    "duration": 165,
    "start_time": "2022-12-18T18:36:04.068Z"
   },
   {
    "duration": 194,
    "start_time": "2022-12-18T18:36:04.234Z"
   },
   {
    "duration": 192,
    "start_time": "2022-12-18T18:36:04.431Z"
   },
   {
    "duration": 4,
    "start_time": "2022-12-18T18:36:04.625Z"
   },
   {
    "duration": 131548,
    "start_time": "2022-12-18T18:36:04.631Z"
   },
   {
    "duration": 4,
    "start_time": "2022-12-18T18:38:16.181Z"
   },
   {
    "duration": 36,
    "start_time": "2022-12-18T18:38:16.187Z"
   },
   {
    "duration": 20,
    "start_time": "2022-12-18T18:38:16.225Z"
   },
   {
    "duration": 23,
    "start_time": "2022-12-18T18:38:16.247Z"
   },
   {
    "duration": 4,
    "start_time": "2022-12-18T18:38:16.272Z"
   },
   {
    "duration": 13,
    "start_time": "2022-12-18T18:38:16.277Z"
   },
   {
    "duration": 31,
    "start_time": "2022-12-18T18:38:16.291Z"
   },
   {
    "duration": 197,
    "start_time": "2022-12-18T18:38:16.324Z"
   },
   {
    "duration": 2,
    "start_time": "2022-12-18T18:38:16.524Z"
   },
   {
    "duration": 7,
    "start_time": "2022-12-18T18:38:16.528Z"
   },
   {
    "duration": 6486,
    "start_time": "2022-12-18T18:38:16.537Z"
   },
   {
    "duration": 3,
    "start_time": "2022-12-18T18:38:23.025Z"
   },
   {
    "duration": 9,
    "start_time": "2022-12-18T18:38:23.029Z"
   },
   {
    "duration": 7,
    "start_time": "2022-12-18T18:38:23.040Z"
   },
   {
    "duration": 8,
    "start_time": "2022-12-18T18:38:23.048Z"
   },
   {
    "duration": 3,
    "start_time": "2022-12-18T18:38:23.058Z"
   },
   {
    "duration": 131966,
    "start_time": "2022-12-18T18:38:23.063Z"
   },
   {
    "duration": 4,
    "start_time": "2022-12-18T18:40:35.031Z"
   },
   {
    "duration": 29,
    "start_time": "2022-12-18T18:40:35.041Z"
   },
   {
    "duration": 22,
    "start_time": "2022-12-18T18:40:35.072Z"
   },
   {
    "duration": 27,
    "start_time": "2022-12-18T18:40:35.096Z"
   },
   {
    "duration": 4,
    "start_time": "2022-12-18T18:40:35.125Z"
   },
   {
    "duration": 12094,
    "start_time": "2022-12-18T18:40:35.131Z"
   },
   {
    "duration": 3,
    "start_time": "2022-12-18T18:40:47.227Z"
   },
   {
    "duration": 16,
    "start_time": "2022-12-18T18:40:47.232Z"
   },
   {
    "duration": 108,
    "start_time": "2022-12-18T18:40:47.323Z"
   },
   {
    "duration": 194,
    "start_time": "2022-12-18T18:40:47.433Z"
   },
   {
    "duration": 102,
    "start_time": "2022-12-18T18:40:47.629Z"
   },
   {
    "duration": 16,
    "start_time": "2022-12-18T18:40:47.733Z"
   },
   {
    "duration": 12,
    "start_time": "2022-12-18T18:40:47.751Z"
   },
   {
    "duration": 251,
    "start_time": "2022-12-18T18:40:47.765Z"
   },
   {
    "duration": 4,
    "start_time": "2022-12-18T18:40:48.021Z"
   },
   {
    "duration": 19,
    "start_time": "2022-12-18T18:40:48.026Z"
   },
   {
    "duration": 3,
    "start_time": "2022-12-18T18:40:48.047Z"
   },
   {
    "duration": 8211,
    "start_time": "2022-12-18T18:40:48.052Z"
   },
   {
    "duration": 4,
    "start_time": "2022-12-18T18:40:56.265Z"
   },
   {
    "duration": 9,
    "start_time": "2022-12-18T18:40:56.270Z"
   },
   {
    "duration": 8,
    "start_time": "2022-12-18T18:40:56.281Z"
   },
   {
    "duration": 35,
    "start_time": "2022-12-18T18:40:56.291Z"
   },
   {
    "duration": 3,
    "start_time": "2022-12-18T18:40:56.328Z"
   },
   {
    "duration": 130090,
    "start_time": "2022-12-18T18:40:56.332Z"
   },
   {
    "duration": 4,
    "start_time": "2022-12-18T18:43:06.424Z"
   },
   {
    "duration": 24,
    "start_time": "2022-12-18T18:43:06.429Z"
   },
   {
    "duration": 22,
    "start_time": "2022-12-18T18:43:06.455Z"
   },
   {
    "duration": 45,
    "start_time": "2022-12-18T18:43:06.479Z"
   },
   {
    "duration": 4,
    "start_time": "2022-12-18T18:43:06.525Z"
   },
   {
    "duration": 11002,
    "start_time": "2022-12-18T18:43:06.531Z"
   },
   {
    "duration": 5,
    "start_time": "2022-12-18T18:43:17.534Z"
   },
   {
    "duration": 82,
    "start_time": "2022-12-18T18:43:17.541Z"
   },
   {
    "duration": 106,
    "start_time": "2022-12-18T18:43:17.625Z"
   },
   {
    "duration": 108,
    "start_time": "2022-12-18T18:43:17.821Z"
   },
   {
    "duration": 190,
    "start_time": "2022-12-18T18:43:17.932Z"
   },
   {
    "duration": 19,
    "start_time": "2022-12-18T18:43:18.124Z"
   },
   {
    "duration": 9,
    "start_time": "2022-12-18T18:43:18.145Z"
   },
   {
    "duration": 215,
    "start_time": "2022-12-18T18:43:18.156Z"
   },
   {
    "duration": 13,
    "start_time": "2022-12-18T18:43:41.903Z"
   },
   {
    "duration": 193,
    "start_time": "2022-12-18T18:52:33.122Z"
   },
   {
    "duration": 17,
    "start_time": "2022-12-18T18:53:26.576Z"
   },
   {
    "duration": 23,
    "start_time": "2022-12-18T19:00:54.596Z"
   },
   {
    "duration": 6,
    "start_time": "2022-12-18T19:00:58.425Z"
   },
   {
    "duration": 159,
    "start_time": "2022-12-18T19:01:01.311Z"
   },
   {
    "duration": 6,
    "start_time": "2022-12-18T19:21:56.953Z"
   },
   {
    "duration": 8,
    "start_time": "2022-12-18T19:24:34.924Z"
   },
   {
    "duration": 9,
    "start_time": "2022-12-18T19:25:19.401Z"
   }
  ],
  "kernelspec": {
   "display_name": "Python 3",
   "language": "python",
   "name": "python3"
  },
  "language_info": {
   "codemirror_mode": {
    "name": "ipython",
    "version": 3
   },
   "file_extension": ".py",
   "mimetype": "text/x-python",
   "name": "python",
   "nbconvert_exporter": "python",
   "pygments_lexer": "ipython3",
   "version": "3.8.8"
  },
  "toc": {
   "base_numbering": 1,
   "nav_menu": {},
   "number_sections": true,
   "sideBar": true,
   "skip_h1_title": true,
   "title_cell": "Содержание",
   "title_sidebar": "Contents",
   "toc_cell": true,
   "toc_position": {},
   "toc_section_display": true,
   "toc_window_display": false
  }
 },
 "nbformat": 4,
 "nbformat_minor": 2
}
